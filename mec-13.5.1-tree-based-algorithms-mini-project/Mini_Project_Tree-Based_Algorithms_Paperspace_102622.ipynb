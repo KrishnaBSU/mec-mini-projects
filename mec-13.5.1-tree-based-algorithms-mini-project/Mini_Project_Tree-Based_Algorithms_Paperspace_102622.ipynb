{
 "cells": [
  {
   "cell_type": "markdown",
   "metadata": {},
   "source": [
    "# Mini Project: Tree-Based Algorithms"
   ]
  },
  {
   "cell_type": "markdown",
   "metadata": {},
   "source": [
    "## The \"German Credit\" Dataset"
   ]
  },
  {
   "cell_type": "markdown",
   "metadata": {},
   "source": [
    "### Dataset Details"
   ]
  },
  {
   "cell_type": "markdown",
   "metadata": {},
   "source": [
    "This dataset has two classes (these would be considered labels in Machine Learning terms) to describe the worthiness of a personal loan: \"Good\" or \"Bad\". There are predictors related to attributes, such as: checking account status, duration, credit history, purpose of the loan, amount of the loan, savings accounts or bonds, employment duration, installment rate in percentage of disposable income, personal information, other debtors/guarantors, residence duration, property, age, other installment plans, housing, number of existing credits, job information, number of people being liable to provide maintenance for, telephone, and foreign worker status.\n",
    "\n",
    "Many of these predictors are discrete and have been expanded into several 0/1 indicator variables (a.k.a. they have been one-hot-encoded).\n",
    "\n",
    "This dataset has been kindly provided by Professor Dr. Hans Hofmann of the University of Hamburg, and can also be found on the UCI Machine Learning Repository."
   ]
  },
  {
   "cell_type": "markdown",
   "metadata": {},
   "source": [
    "\n",
    "\n",
    "\n"
   ]
  },
  {
   "cell_type": "markdown",
   "metadata": {},
   "source": [
    "## Decision Trees"
   ]
  },
  {
   "cell_type": "markdown",
   "metadata": {},
   "source": [
    " As we have learned in the previous lectures, Decision Trees as a family of algorithms (irrespective to the particular implementation) are powerful algorithms that can produce models with a predictive accuracy higher than that produced by linear models, such as Linear or Logistic Regression. Primarily, this is due to the fact the DT's can model nonlinear relationships, and also have a number of tuning paramters, that allow for the practicioner to achieve the best possible model. An added bonus is the ability to visualize the trained Decision Tree model, which allows for some insight into how the model has produced the predictions that it has. One caveat here, to keep in mind, is that sometimes, due to the size of the dataset (both in the sense of the number of records, as well as the number of features), the visualization might prove to be very large and complex, increasing the difficulty of interpretation."
   ]
  },
  {
   "cell_type": "markdown",
   "metadata": {},
   "source": [
    "To give you a very good example of how Decision Trees can be visualized and interpreted, we would strongly recommend that, before continuing on with solving the problems in this Mini Project, you take the time to read this fanstastic, detailed and informative blog post: http://explained.ai/decision-tree-viz/index.html"
   ]
  },
  {
   "cell_type": "markdown",
   "metadata": {},
   "source": [
    "## Building Your First Decision Tree Model"
   ]
  },
  {
   "cell_type": "markdown",
   "metadata": {},
   "source": [
    "So, now it's time to jump straight into the heart of the matter. Your first task, is to build a Decision Tree model, using the aforementioned \"German Credit\" dataset, which contains 1,000 records, and 62 columns (one of them presents the labels, and the other 61 present the potential features for the model.)"
   ]
  },
  {
   "cell_type": "markdown",
   "metadata": {},
   "source": [
    "For this task, you will be using the scikit-learn library, which comes already pre-installed with the Anaconda Python distribution. In case you're not using that, you can easily install it using pip."
   ]
  },
  {
   "cell_type": "markdown",
   "metadata": {},
   "source": [
    "Before embarking on creating your first model, we would strongly encourage you to read the short tutorial for Decision Trees in scikit-learn (http://scikit-learn.org/stable/modules/tree.html), and then dive a bit deeper into the documentation of the algorithm itself (http://scikit-learn.org/stable/modules/generated/sklearn.tree.DecisionTreeClassifier.html). "
   ]
  },
  {
   "cell_type": "markdown",
   "metadata": {},
   "source": [
    "Also, since you want to be able to present the results of your model, we suggest you take a look at the tutorial for accuracy metrics for classification models (http://scikit-learn.org/stable/modules/model_evaluation.html#classification-report) as well as the more detailed documentation (http://scikit-learn.org/stable/modules/generated/sklearn.metrics.classification_report.html).\n",
    "\n",
    "Finally, an *amazing* resource that explains the various classification model accuracy metrics, as well as the relationships between them, can be found on Wikipedia: https://en.wikipedia.org/wiki/Confusion_matrix"
   ]
  },
  {
   "cell_type": "markdown",
   "metadata": {},
   "source": [
    "(Note: as you've already learned in the Logistic Regression mini project, a standard practice in Machine Learning for achieving the best possible result when training a model is to use hyperparameter tuning, through Grid Search and k-fold Cross Validation. We strongly encourage you to use it here as well, not just because it's standard practice, but also becuase it's not going to be computationally to intensive, due to the size of the dataset that you're working with. Our suggestion here is that you split the data into 70% training, and 30% testing. Then, do the hyperparameter tuning and Cross Validation on the training set, and afterwards to a final test on the testing set.)"
   ]
  },
  {
   "cell_type": "markdown",
   "metadata": {},
   "source": [
    "### Now we pass the torch onto you! You can start building your first Decision Tree model! :)"
   ]
  },
  {
   "cell_type": "code",
   "execution_count": 1,
   "metadata": {
    "execution": {
     "iopub.execute_input": "2022-10-27T04:24:49.327830Z",
     "iopub.status.busy": "2022-10-27T04:24:49.327285Z",
     "iopub.status.idle": "2022-10-27T04:24:51.004910Z",
     "shell.execute_reply": "2022-10-27T04:24:51.004296Z",
     "shell.execute_reply.started": "2022-10-27T04:24:49.327780Z"
    }
   },
   "outputs": [],
   "source": [
    "import pandas as pd\n",
    "from sklearn.tree import DecisionTreeClassifier\n",
    "from sklearn.metrics import classification_report\n",
    "from sklearn.model_selection import train_test_split\n",
    "from sklearn.model_selection import GridSearchCV"
   ]
  },
  {
   "cell_type": "code",
   "execution_count": 2,
   "metadata": {
    "execution": {
     "iopub.execute_input": "2022-10-27T04:26:01.150717Z",
     "iopub.status.busy": "2022-10-27T04:26:01.150450Z",
     "iopub.status.idle": "2022-10-27T04:26:01.201343Z",
     "shell.execute_reply": "2022-10-27T04:26:01.200159Z",
     "shell.execute_reply.started": "2022-10-27T04:26:01.150684Z"
    }
   },
   "outputs": [
    {
     "name": "stdout",
     "output_type": "stream",
     "text": [
      "   Duration  Amount  InstallmentRatePercentage  ResidenceDuration  Age  \\\n",
      "0         6    1169                          4                  4   67   \n",
      "1        48    5951                          2                  2   22   \n",
      "2        12    2096                          2                  3   49   \n",
      "3        42    7882                          2                  4   45   \n",
      "4        24    4870                          3                  4   53   \n",
      "\n",
      "   NumberExistingCredits  NumberPeopleMaintenance  Telephone  ForeignWorker  \\\n",
      "0                      2                        1          0              1   \n",
      "1                      1                        1          1              1   \n",
      "2                      1                        2          1              1   \n",
      "3                      1                        2          1              1   \n",
      "4                      2                        2          1              1   \n",
      "\n",
      "   CheckingAccountStatus.lt.0  ...  OtherInstallmentPlans.Bank  \\\n",
      "0                           1  ...                           0   \n",
      "1                           0  ...                           0   \n",
      "2                           0  ...                           0   \n",
      "3                           1  ...                           0   \n",
      "4                           1  ...                           0   \n",
      "\n",
      "   OtherInstallmentPlans.Stores  OtherInstallmentPlans.None  Housing.Rent  \\\n",
      "0                             0                           1             0   \n",
      "1                             0                           1             0   \n",
      "2                             0                           1             0   \n",
      "3                             0                           1             0   \n",
      "4                             0                           1             0   \n",
      "\n",
      "   Housing.Own  Housing.ForFree  Job.UnemployedUnskilled  \\\n",
      "0            1                0                        0   \n",
      "1            1                0                        0   \n",
      "2            1                0                        0   \n",
      "3            0                1                        0   \n",
      "4            0                1                        0   \n",
      "\n",
      "   Job.UnskilledResident  Job.SkilledEmployee  \\\n",
      "0                      0                    1   \n",
      "1                      0                    1   \n",
      "2                      1                    0   \n",
      "3                      0                    1   \n",
      "4                      0                    1   \n",
      "\n",
      "   Job.Management.SelfEmp.HighlyQualified  \n",
      "0                                       0  \n",
      "1                                       0  \n",
      "2                                       0  \n",
      "3                                       0  \n",
      "4                                       0  \n",
      "\n",
      "[5 rows x 61 columns]\n"
     ]
    }
   ],
   "source": [
    "# Your code here! :)\n",
    "gc_DF = pd.read_csv('GermanCredit.csv.zip')\n",
    "credit = gc_DF['Class']\n",
    "gc_DF.pop('Class')\n",
    "print(gc_DF.head())"
   ]
  },
  {
   "cell_type": "code",
   "execution_count": 3,
   "metadata": {
    "execution": {
     "iopub.execute_input": "2022-10-27T04:29:40.702910Z",
     "iopub.status.busy": "2022-10-27T04:29:40.702634Z",
     "iopub.status.idle": "2022-10-27T04:29:40.708195Z",
     "shell.execute_reply": "2022-10-27T04:29:40.707388Z",
     "shell.execute_reply.started": "2022-10-27T04:29:40.702866Z"
    }
   },
   "outputs": [
    {
     "name": "stdout",
     "output_type": "stream",
     "text": [
      "0\n"
     ]
    }
   ],
   "source": [
    "print(sum(gc_DF.isnull().sum()))"
   ]
  },
  {
   "cell_type": "code",
   "execution_count": 4,
   "metadata": {
    "execution": {
     "iopub.execute_input": "2022-10-27T04:29:54.022952Z",
     "iopub.status.busy": "2022-10-27T04:29:54.022677Z",
     "iopub.status.idle": "2022-10-27T04:29:54.035746Z",
     "shell.execute_reply": "2022-10-27T04:29:54.035022Z",
     "shell.execute_reply.started": "2022-10-27T04:29:54.022909Z"
    }
   },
   "outputs": [],
   "source": [
    "x_train,x_test,y_train,y_test = train_test_split(gc_DF,credit,test_size=0.2,random_state=18)\n",
    "tree = DecisionTreeClassifier(max_depth=6)\n",
    "tree_fit = tree.fit(x_train,y_train)"
   ]
  },
  {
   "cell_type": "code",
   "execution_count": 5,
   "metadata": {
    "execution": {
     "iopub.execute_input": "2022-10-27T04:34:59.644376Z",
     "iopub.status.busy": "2022-10-27T04:34:59.644109Z",
     "iopub.status.idle": "2022-10-27T04:34:59.648998Z",
     "shell.execute_reply": "2022-10-27T04:34:59.648180Z",
     "shell.execute_reply.started": "2022-10-27T04:34:59.644332Z"
    }
   },
   "outputs": [
    {
     "name": "stdout",
     "output_type": "stream",
     "text": [
      "[0.14661818 0.19224623 0.01438994 0.03721735 0.09743473 0.\n",
      " 0.         0.         0.         0.01734501 0.         0.\n",
      " 0.22006599 0.         0.02792314 0.         0.01011792 0.\n",
      " 0.02476677 0.00867251 0.         0.         0.         0.00269662\n",
      " 0.         0.         0.         0.         0.         0.\n",
      " 0.01236635 0.         0.         0.04666148 0.00292004 0.\n",
      " 0.         0.         0.02341576 0.         0.01943951 0.\n",
      " 0.01011792 0.         0.         0.         0.03113472 0.\n",
      " 0.         0.         0.00468422 0.         0.         0.02820479\n",
      " 0.         0.         0.         0.         0.00674528 0.\n",
      " 0.01481553]\n"
     ]
    }
   ],
   "source": [
    "print(tree_fit.feature_importances_)"
   ]
  },
  {
   "cell_type": "code",
   "execution_count": 6,
   "metadata": {
    "execution": {
     "iopub.execute_input": "2022-10-27T04:35:37.121717Z",
     "iopub.status.busy": "2022-10-27T04:35:37.121460Z",
     "iopub.status.idle": "2022-10-27T04:35:37.126548Z",
     "shell.execute_reply": "2022-10-27T04:35:37.125711Z",
     "shell.execute_reply.started": "2022-10-27T04:35:37.121674Z"
    }
   },
   "outputs": [],
   "source": [
    "y_predict = tree_fit.predict(x_test)"
   ]
  },
  {
   "cell_type": "code",
   "execution_count": 7,
   "metadata": {
    "execution": {
     "iopub.execute_input": "2022-10-27T04:35:44.725758Z",
     "iopub.status.busy": "2022-10-27T04:35:44.725487Z",
     "iopub.status.idle": "2022-10-27T04:35:44.737147Z",
     "shell.execute_reply": "2022-10-27T04:35:44.736341Z",
     "shell.execute_reply.started": "2022-10-27T04:35:44.725718Z"
    }
   },
   "outputs": [
    {
     "name": "stdout",
     "output_type": "stream",
     "text": [
      "              precision    recall  f1-score   support\n",
      "\n",
      "         Bad       0.56      0.35      0.43        69\n",
      "        Good       0.71      0.85      0.78       131\n",
      "\n",
      "    accuracy                           0.68       200\n",
      "   macro avg       0.64      0.60      0.60       200\n",
      "weighted avg       0.66      0.68      0.66       200\n",
      "\n"
     ]
    }
   ],
   "source": [
    "print(classification_report(y_test,y_predict))"
   ]
  },
  {
   "cell_type": "code",
   "execution_count": 8,
   "metadata": {
    "execution": {
     "iopub.execute_input": "2022-10-27T04:36:10.018335Z",
     "iopub.status.busy": "2022-10-27T04:36:10.018049Z",
     "iopub.status.idle": "2022-10-27T04:36:11.956811Z",
     "shell.execute_reply": "2022-10-27T04:36:11.956296Z",
     "shell.execute_reply.started": "2022-10-27T04:36:10.018285Z"
    }
   },
   "outputs": [],
   "source": [
    "tree_params = {'criterion':['gini','entropy'],'max_depth':[4,5,6,7,8,9,10,11,12,15,20,30,40,50,70,90,120,150]}\n",
    "tree = DecisionTreeClassifier()\n",
    "gscv = GridSearchCV(tree,tree_params,cv=5,scoring='accuracy')\n",
    "gscv_fit = gscv.fit(x_train,y_train)"
   ]
  },
  {
   "cell_type": "code",
   "execution_count": 9,
   "metadata": {
    "execution": {
     "iopub.execute_input": "2022-10-27T04:36:24.930942Z",
     "iopub.status.busy": "2022-10-27T04:36:24.930493Z",
     "iopub.status.idle": "2022-10-27T04:36:24.938143Z",
     "shell.execute_reply": "2022-10-27T04:36:24.937084Z",
     "shell.execute_reply.started": "2022-10-27T04:36:24.930880Z"
    }
   },
   "outputs": [],
   "source": [
    "y_predict = gscv_fit.predict(x_test)"
   ]
  },
  {
   "cell_type": "code",
   "execution_count": 10,
   "metadata": {
    "execution": {
     "iopub.execute_input": "2022-10-27T04:36:49.872452Z",
     "iopub.status.busy": "2022-10-27T04:36:49.872195Z",
     "iopub.status.idle": "2022-10-27T04:36:49.883994Z",
     "shell.execute_reply": "2022-10-27T04:36:49.883320Z",
     "shell.execute_reply.started": "2022-10-27T04:36:49.872413Z"
    }
   },
   "outputs": [
    {
     "name": "stdout",
     "output_type": "stream",
     "text": [
      "              precision    recall  f1-score   support\n",
      "\n",
      "         Bad       0.65      0.38      0.48        69\n",
      "        Good       0.73      0.89      0.80       131\n",
      "\n",
      "    accuracy                           0.71       200\n",
      "   macro avg       0.69      0.63      0.64       200\n",
      "weighted avg       0.70      0.71      0.69       200\n",
      "\n"
     ]
    }
   ],
   "source": [
    "print(classification_report(y_test,y_predict))"
   ]
  },
  {
   "cell_type": "code",
   "execution_count": 11,
   "metadata": {
    "execution": {
     "iopub.execute_input": "2022-10-27T04:37:05.237330Z",
     "iopub.status.busy": "2022-10-27T04:37:05.237056Z",
     "iopub.status.idle": "2022-10-27T04:37:05.245571Z",
     "shell.execute_reply": "2022-10-27T04:37:05.245029Z",
     "shell.execute_reply.started": "2022-10-27T04:37:05.237289Z"
    }
   },
   "outputs": [
    {
     "data": {
      "text/plain": [
       "{'criterion': 'entropy', 'max_depth': 5}"
      ]
     },
     "execution_count": 11,
     "metadata": {},
     "output_type": "execute_result"
    }
   ],
   "source": [
    "gscv_fit.best_params_"
   ]
  },
  {
   "cell_type": "markdown",
   "metadata": {},
   "source": [
    "\n",
    "### After you've built the best model you can, now it's time to visualize it!"
   ]
  },
  {
   "cell_type": "markdown",
   "metadata": {},
   "source": [
    "Rememeber that amazing blog post from a few paragraphs ago, that demonstrated how to visualize and interpret the results of your Decision Tree model. We've seen that this can perform very well, but let's see how it does on the \"German Credit\" dataset that we're working on, due to it being a bit larger than the one used by the blog authors."
   ]
  },
  {
   "cell_type": "markdown",
   "metadata": {},
   "source": [
    "First, we're going to need to install their package. If you're using Anaconda, this can be done easily by running:"
   ]
  },
  {
   "cell_type": "code",
   "execution_count": 16,
   "metadata": {
    "execution": {
     "iopub.execute_input": "2022-10-27T04:42:20.327383Z",
     "iopub.status.busy": "2022-10-27T04:42:20.327096Z",
     "iopub.status.idle": "2022-10-27T04:42:24.012632Z",
     "shell.execute_reply": "2022-10-27T04:42:24.011585Z",
     "shell.execute_reply.started": "2022-10-27T04:42:20.327337Z"
    }
   },
   "outputs": [
    {
     "name": "stdout",
     "output_type": "stream",
     "text": [
      "Collecting dtreeviz\n",
      "  Downloading dtreeviz-1.4.0-py3-none-any.whl (72 kB)\n",
      "\u001b[K     |████████████████████████████████| 72 kB 1.4 MB/s  eta 0:00:01\n",
      "\u001b[?25hRequirement already satisfied: pytest in /opt/conda/envs/springboard/lib/python3.7/site-packages (from dtreeviz) (5.3.5)\n",
      "Requirement already satisfied: graphviz>=0.9 in /opt/conda/envs/springboard/lib/python3.7/site-packages (from dtreeviz) (0.20.1)\n",
      "Requirement already satisfied: scikit-learn in /opt/conda/envs/springboard/lib/python3.7/site-packages (from dtreeviz) (0.22.1)\n",
      "Requirement already satisfied: pandas in /opt/conda/envs/springboard/lib/python3.7/site-packages (from dtreeviz) (1.0.1)\n",
      "Requirement already satisfied: numpy in /opt/conda/envs/springboard/lib/python3.7/site-packages (from dtreeviz) (1.18.1)\n",
      "Requirement already satisfied: matplotlib in /opt/conda/envs/springboard/lib/python3.7/site-packages (from dtreeviz) (3.1.3)\n",
      "Collecting colour\n",
      "  Downloading colour-0.1.5-py2.py3-none-any.whl (23 kB)\n",
      "Requirement already satisfied: kiwisolver>=1.0.1 in /opt/conda/envs/springboard/lib/python3.7/site-packages (from matplotlib->dtreeviz) (1.1.0)\n",
      "Requirement already satisfied: cycler>=0.10 in /opt/conda/envs/springboard/lib/python3.7/site-packages (from matplotlib->dtreeviz) (0.10.0)\n",
      "Requirement already satisfied: python-dateutil>=2.1 in /opt/conda/envs/springboard/lib/python3.7/site-packages (from matplotlib->dtreeviz) (2.8.1)\n",
      "Requirement already satisfied: pyparsing!=2.0.4,!=2.1.2,!=2.1.6,>=2.0.1 in /opt/conda/envs/springboard/lib/python3.7/site-packages (from matplotlib->dtreeviz) (2.4.6)\n",
      "Requirement already satisfied: six in /opt/conda/envs/springboard/lib/python3.7/site-packages (from cycler>=0.10->matplotlib->dtreeviz) (1.14.0)\n",
      "Requirement already satisfied: setuptools in /opt/conda/envs/springboard/lib/python3.7/site-packages (from kiwisolver>=1.0.1->matplotlib->dtreeviz) (49.6.0.post20210108)\n",
      "Requirement already satisfied: pytz>=2017.2 in /opt/conda/envs/springboard/lib/python3.7/site-packages (from pandas->dtreeviz) (2019.3)\n",
      "Requirement already satisfied: importlib-metadata>=0.12 in /opt/conda/envs/springboard/lib/python3.7/site-packages (from pytest->dtreeviz) (1.5.0)\n",
      "Requirement already satisfied: more-itertools>=4.0.0 in /opt/conda/envs/springboard/lib/python3.7/site-packages (from pytest->dtreeviz) (8.2.0)\n",
      "Requirement already satisfied: py>=1.5.0 in /opt/conda/envs/springboard/lib/python3.7/site-packages (from pytest->dtreeviz) (1.8.1)\n",
      "Requirement already satisfied: attrs>=17.4.0 in /opt/conda/envs/springboard/lib/python3.7/site-packages (from pytest->dtreeviz) (19.3.0)\n",
      "Requirement already satisfied: wcwidth in /opt/conda/envs/springboard/lib/python3.7/site-packages (from pytest->dtreeviz) (0.1.8)\n",
      "Requirement already satisfied: packaging in /opt/conda/envs/springboard/lib/python3.7/site-packages (from pytest->dtreeviz) (20.1)\n",
      "Requirement already satisfied: pluggy<1.0,>=0.12 in /opt/conda/envs/springboard/lib/python3.7/site-packages (from pytest->dtreeviz) (0.13.1)\n",
      "Requirement already satisfied: zipp>=0.5 in /opt/conda/envs/springboard/lib/python3.7/site-packages (from importlib-metadata>=0.12->pytest->dtreeviz) (2.2.0)\n",
      "Requirement already satisfied: joblib>=0.11 in /opt/conda/envs/springboard/lib/python3.7/site-packages (from scikit-learn->dtreeviz) (0.14.1)\n",
      "Requirement already satisfied: scipy>=0.17.0 in /opt/conda/envs/springboard/lib/python3.7/site-packages (from scikit-learn->dtreeviz) (1.4.1)\n",
      "Installing collected packages: colour, dtreeviz\n",
      "Successfully installed colour-0.1.5 dtreeviz-1.4.0\n"
     ]
    }
   ],
   "source": [
    "! pip install dtreeviz"
   ]
  },
  {
   "cell_type": "code",
   "execution_count": 12,
   "metadata": {
    "execution": {
     "iopub.execute_input": "2022-10-27T04:38:11.021844Z",
     "iopub.status.busy": "2022-10-27T04:38:11.021598Z",
     "iopub.status.idle": "2022-10-27T04:38:15.146090Z",
     "shell.execute_reply": "2022-10-27T04:38:15.145133Z",
     "shell.execute_reply.started": "2022-10-27T04:38:11.021810Z"
    }
   },
   "outputs": [
    {
     "name": "stdout",
     "output_type": "stream",
     "text": [
      "Collecting graphviz\n",
      "  Downloading graphviz-0.20.1-py3-none-any.whl (47 kB)\n",
      "\u001b[K     |████████████████████████████████| 47 kB 8.3 MB/s  eta 0:00:01\n",
      "\u001b[?25hInstalling collected packages: graphviz\n",
      "Successfully installed graphviz-0.20.1\n"
     ]
    }
   ],
   "source": [
    "! pip install graphviz"
   ]
  },
  {
   "cell_type": "code",
   "execution_count": 23,
   "metadata": {
    "execution": {
     "iopub.execute_input": "2022-10-27T04:51:59.856118Z",
     "iopub.status.busy": "2022-10-27T04:51:59.855821Z",
     "iopub.status.idle": "2022-10-27T04:52:05.943897Z",
     "shell.execute_reply": "2022-10-27T04:52:05.943071Z",
     "shell.execute_reply.started": "2022-10-27T04:51:59.856068Z"
    }
   },
   "outputs": [
    {
     "name": "stdout",
     "output_type": "stream",
     "text": [
      "Reading package lists... Done\n",
      "Building dependency tree       \n",
      "Reading state information... Done\n",
      "The following additional packages will be installed:\n",
      "  fonts-liberation libcairo2 libcdt5 libcgraph6 libdatrie1 libgd3\n",
      "  libgraphite2-3 libgvc6 libgvpr2 libharfbuzz0b libltdl7 libpango-1.0-0\n",
      "  libpangocairo-1.0-0 libpangoft2-1.0-0 libpathplan4 libpixman-1-0\n",
      "  libthai-data libthai0 libvpx3 libxaw7 libxcb-render0 libxcb-shm0 libxmu6\n",
      "  libxpm4\n",
      "Suggested packages:\n",
      "  gsfonts graphviz-doc libgd-tools\n",
      "The following NEW packages will be installed:\n",
      "  fonts-liberation graphviz libcairo2 libcdt5 libcgraph6 libdatrie1 libgd3\n",
      "  libgraphite2-3 libgvc6 libgvpr2 libharfbuzz0b libltdl7 libpango-1.0-0\n",
      "  libpangocairo-1.0-0 libpangoft2-1.0-0 libpathplan4 libpixman-1-0\n",
      "  libthai-data libthai0 libvpx3 libxaw7 libxcb-render0 libxcb-shm0 libxmu6\n",
      "  libxpm4\n",
      "0 upgraded, 25 newly installed, 0 to remove and 52 not upgraded.\n",
      "Need to get 4896 kB of archives.\n",
      "After this operation, 22.7 MB of additional disk space will be used.\n",
      "Get:1 http://archive.ubuntu.com/ubuntu xenial/main amd64 fonts-liberation all 1.07.4-1 [829 kB]\n",
      "Get:2 http://archive.ubuntu.com/ubuntu xenial-updates/main amd64 libcdt5 amd64 2.38.0-12ubuntu2.1 [23.4 kB]\n",
      "Get:3 http://archive.ubuntu.com/ubuntu xenial-updates/main amd64 libcgraph6 amd64 2.38.0-12ubuntu2.1 [43.6 kB]\n",
      "Get:4 http://archive.ubuntu.com/ubuntu xenial-updates/main amd64 libvpx3 amd64 1.5.0-2ubuntu1.1 [732 kB]\n",
      "Get:5 http://archive.ubuntu.com/ubuntu xenial-updates/main amd64 libxpm4 amd64 1:3.5.11-1ubuntu0.16.04.1 [33.8 kB]\n",
      "Get:6 http://archive.ubuntu.com/ubuntu xenial-updates/main amd64 libgd3 amd64 2.1.1-4ubuntu0.16.04.12 [126 kB]\n",
      "Get:7 http://archive.ubuntu.com/ubuntu xenial/main amd64 libpixman-1-0 amd64 0.33.6-1 [231 kB]\n",
      "Get:8 http://archive.ubuntu.com/ubuntu xenial/main amd64 libxcb-render0 amd64 1.11.1-1ubuntu1 [11.4 kB]\n",
      "Get:9 http://archive.ubuntu.com/ubuntu xenial/main amd64 libxcb-shm0 amd64 1.11.1-1ubuntu1 [5588 B]\n",
      "Get:10 http://archive.ubuntu.com/ubuntu xenial/main amd64 libcairo2 amd64 1.14.6-1 [555 kB]\n",
      "Get:11 http://archive.ubuntu.com/ubuntu xenial/main amd64 libltdl7 amd64 2.4.6-0.1 [38.3 kB]\n",
      "Get:12 http://archive.ubuntu.com/ubuntu xenial/main amd64 libthai-data all 0.1.24-2 [131 kB]\n",
      "Get:13 http://archive.ubuntu.com/ubuntu xenial/main amd64 libdatrie1 amd64 0.2.10-2 [17.3 kB]\n",
      "Get:14 http://archive.ubuntu.com/ubuntu xenial/main amd64 libthai0 amd64 0.1.24-2 [17.3 kB]\n",
      "Get:15 http://archive.ubuntu.com/ubuntu xenial/main amd64 libpango-1.0-0 amd64 1.38.1-1 [148 kB]\n",
      "Get:16 http://archive.ubuntu.com/ubuntu xenial-updates/main amd64 libgraphite2-3 amd64 1.3.10-0ubuntu0.16.04.1 [71.7 kB]\n",
      "Get:17 http://archive.ubuntu.com/ubuntu xenial-updates/main amd64 libharfbuzz0b amd64 1.0.1-1ubuntu0.1 [140 kB]\n",
      "Get:18 http://archive.ubuntu.com/ubuntu xenial/main amd64 libpangoft2-1.0-0 amd64 1.38.1-1 [33.3 kB]\n",
      "Get:19 http://archive.ubuntu.com/ubuntu xenial/main amd64 libpangocairo-1.0-0 amd64 1.38.1-1 [20.5 kB]\n",
      "Get:20 http://archive.ubuntu.com/ubuntu xenial-updates/main amd64 libpathplan4 amd64 2.38.0-12ubuntu2.1 [26.6 kB]\n",
      "Get:21 http://archive.ubuntu.com/ubuntu xenial-updates/main amd64 libgvc6 amd64 2.38.0-12ubuntu2.1 [591 kB]\n",
      "Get:22 http://archive.ubuntu.com/ubuntu xenial-updates/main amd64 libgvpr2 amd64 2.38.0-12ubuntu2.1 [170 kB]\n",
      "Get:23 http://archive.ubuntu.com/ubuntu xenial/main amd64 libxmu6 amd64 2:1.1.2-2 [46.0 kB]\n",
      "Get:24 http://archive.ubuntu.com/ubuntu xenial/main amd64 libxaw7 amd64 2:1.0.13-1 [173 kB]\n",
      "Get:25 http://archive.ubuntu.com/ubuntu xenial-updates/main amd64 graphviz amd64 2.38.0-12ubuntu2.1 [680 kB]\n",
      "Fetched 4896 kB in 0s (26.3 MB/s)  \n",
      "debconf: delaying package configuration, since apt-utils is not installed\n",
      "Selecting previously unselected package fonts-liberation.\n",
      "(Reading database ... 18610 files and directories currently installed.)\n",
      "Preparing to unpack .../fonts-liberation_1.07.4-1_all.deb ...\n",
      "Unpacking fonts-liberation (1.07.4-1) ...\n",
      "Selecting previously unselected package libcdt5.\n",
      "Preparing to unpack .../libcdt5_2.38.0-12ubuntu2.1_amd64.deb ...\n",
      "Unpacking libcdt5 (2.38.0-12ubuntu2.1) ...\n",
      "Selecting previously unselected package libcgraph6.\n",
      "Preparing to unpack .../libcgraph6_2.38.0-12ubuntu2.1_amd64.deb ...\n",
      "Unpacking libcgraph6 (2.38.0-12ubuntu2.1) ...\n",
      "Selecting previously unselected package libvpx3:amd64.\n",
      "Preparing to unpack .../libvpx3_1.5.0-2ubuntu1.1_amd64.deb ...\n",
      "Unpacking libvpx3:amd64 (1.5.0-2ubuntu1.1) ...\n",
      "Selecting previously unselected package libxpm4:amd64.\n",
      "Preparing to unpack .../libxpm4_1%3a3.5.11-1ubuntu0.16.04.1_amd64.deb ...\n",
      "Unpacking libxpm4:amd64 (1:3.5.11-1ubuntu0.16.04.1) ...\n",
      "Selecting previously unselected package libgd3:amd64.\n",
      "Preparing to unpack .../libgd3_2.1.1-4ubuntu0.16.04.12_amd64.deb ...\n",
      "Unpacking libgd3:amd64 (2.1.1-4ubuntu0.16.04.12) ...\n",
      "Selecting previously unselected package libpixman-1-0:amd64.\n",
      "Preparing to unpack .../libpixman-1-0_0.33.6-1_amd64.deb ...\n",
      "Unpacking libpixman-1-0:amd64 (0.33.6-1) ...\n",
      "Selecting previously unselected package libxcb-render0:amd64.\n",
      "Preparing to unpack .../libxcb-render0_1.11.1-1ubuntu1_amd64.deb ...\n",
      "Unpacking libxcb-render0:amd64 (1.11.1-1ubuntu1) ...\n",
      "Selecting previously unselected package libxcb-shm0:amd64.\n",
      "Preparing to unpack .../libxcb-shm0_1.11.1-1ubuntu1_amd64.deb ...\n",
      "Unpacking libxcb-shm0:amd64 (1.11.1-1ubuntu1) ...\n",
      "Selecting previously unselected package libcairo2:amd64.\n",
      "Preparing to unpack .../libcairo2_1.14.6-1_amd64.deb ...\n",
      "Unpacking libcairo2:amd64 (1.14.6-1) ...\n",
      "Selecting previously unselected package libltdl7:amd64.\n",
      "Preparing to unpack .../libltdl7_2.4.6-0.1_amd64.deb ...\n",
      "Unpacking libltdl7:amd64 (2.4.6-0.1) ...\n",
      "Selecting previously unselected package libthai-data.\n",
      "Preparing to unpack .../libthai-data_0.1.24-2_all.deb ...\n",
      "Unpacking libthai-data (0.1.24-2) ...\n",
      "Selecting previously unselected package libdatrie1:amd64.\n",
      "Preparing to unpack .../libdatrie1_0.2.10-2_amd64.deb ...\n",
      "Unpacking libdatrie1:amd64 (0.2.10-2) ...\n",
      "Selecting previously unselected package libthai0:amd64.\n",
      "Preparing to unpack .../libthai0_0.1.24-2_amd64.deb ...\n",
      "Unpacking libthai0:amd64 (0.1.24-2) ...\n",
      "Selecting previously unselected package libpango-1.0-0:amd64.\n",
      "Preparing to unpack .../libpango-1.0-0_1.38.1-1_amd64.deb ...\n",
      "Unpacking libpango-1.0-0:amd64 (1.38.1-1) ...\n",
      "Selecting previously unselected package libgraphite2-3:amd64.\n",
      "Preparing to unpack .../libgraphite2-3_1.3.10-0ubuntu0.16.04.1_amd64.deb ...\n",
      "Unpacking libgraphite2-3:amd64 (1.3.10-0ubuntu0.16.04.1) ...\n",
      "Selecting previously unselected package libharfbuzz0b:amd64.\n",
      "Preparing to unpack .../libharfbuzz0b_1.0.1-1ubuntu0.1_amd64.deb ...\n",
      "Unpacking libharfbuzz0b:amd64 (1.0.1-1ubuntu0.1) ...\n",
      "Selecting previously unselected package libpangoft2-1.0-0:amd64.\n",
      "Preparing to unpack .../libpangoft2-1.0-0_1.38.1-1_amd64.deb ...\n",
      "Unpacking libpangoft2-1.0-0:amd64 (1.38.1-1) ...\n",
      "Selecting previously unselected package libpangocairo-1.0-0:amd64.\n",
      "Preparing to unpack .../libpangocairo-1.0-0_1.38.1-1_amd64.deb ...\n",
      "Unpacking libpangocairo-1.0-0:amd64 (1.38.1-1) ...\n",
      "Selecting previously unselected package libpathplan4.\n",
      "Preparing to unpack .../libpathplan4_2.38.0-12ubuntu2.1_amd64.deb ...\n",
      "Unpacking libpathplan4 (2.38.0-12ubuntu2.1) ...\n",
      "Selecting previously unselected package libgvc6.\n",
      "Preparing to unpack .../libgvc6_2.38.0-12ubuntu2.1_amd64.deb ...\n",
      "Unpacking libgvc6 (2.38.0-12ubuntu2.1) ...\n",
      "Selecting previously unselected package libgvpr2.\n",
      "Preparing to unpack .../libgvpr2_2.38.0-12ubuntu2.1_amd64.deb ...\n",
      "Unpacking libgvpr2 (2.38.0-12ubuntu2.1) ...\n",
      "Selecting previously unselected package libxmu6:amd64.\n",
      "Preparing to unpack .../libxmu6_2%3a1.1.2-2_amd64.deb ...\n",
      "Unpacking libxmu6:amd64 (2:1.1.2-2) ...\n",
      "Selecting previously unselected package libxaw7:amd64.\n",
      "Preparing to unpack .../libxaw7_2%3a1.0.13-1_amd64.deb ...\n",
      "Unpacking libxaw7:amd64 (2:1.0.13-1) ...\n",
      "Selecting previously unselected package graphviz.\n",
      "Preparing to unpack .../graphviz_2.38.0-12ubuntu2.1_amd64.deb ...\n",
      "Unpacking graphviz (2.38.0-12ubuntu2.1) ...\n",
      "Processing triggers for fontconfig (2.11.94-0ubuntu1.1) ...\n",
      "Processing triggers for libc-bin (2.23-0ubuntu11.2) ...\n",
      "Setting up fonts-liberation (1.07.4-1) ...\n",
      "Setting up libcdt5 (2.38.0-12ubuntu2.1) ...\n",
      "Setting up libcgraph6 (2.38.0-12ubuntu2.1) ...\n",
      "Setting up libvpx3:amd64 (1.5.0-2ubuntu1.1) ...\n",
      "Setting up libxpm4:amd64 (1:3.5.11-1ubuntu0.16.04.1) ...\n",
      "Setting up libgd3:amd64 (2.1.1-4ubuntu0.16.04.12) ...\n",
      "Setting up libpixman-1-0:amd64 (0.33.6-1) ...\n",
      "Setting up libxcb-render0:amd64 (1.11.1-1ubuntu1) ...\n",
      "Setting up libxcb-shm0:amd64 (1.11.1-1ubuntu1) ...\n",
      "Setting up libcairo2:amd64 (1.14.6-1) ...\n",
      "Setting up libltdl7:amd64 (2.4.6-0.1) ...\n",
      "Setting up libthai-data (0.1.24-2) ...\n",
      "Setting up libdatrie1:amd64 (0.2.10-2) ...\n",
      "Setting up libthai0:amd64 (0.1.24-2) ...\n",
      "Setting up libpango-1.0-0:amd64 (1.38.1-1) ...\n",
      "Setting up libgraphite2-3:amd64 (1.3.10-0ubuntu0.16.04.1) ...\n",
      "Setting up libharfbuzz0b:amd64 (1.0.1-1ubuntu0.1) ...\n",
      "Setting up libpangoft2-1.0-0:amd64 (1.38.1-1) ...\n",
      "Setting up libpangocairo-1.0-0:amd64 (1.38.1-1) ...\n",
      "Setting up libpathplan4 (2.38.0-12ubuntu2.1) ...\n",
      "Setting up libgvc6 (2.38.0-12ubuntu2.1) ...\n",
      "Setting up libgvpr2 (2.38.0-12ubuntu2.1) ...\n",
      "Setting up libxmu6:amd64 (2:1.1.2-2) ...\n",
      "Setting up libxaw7:amd64 (2:1.0.13-1) ...\n",
      "Setting up graphviz (2.38.0-12ubuntu2.1) ...\n",
      "Processing triggers for libc-bin (2.23-0ubuntu11.2) ...\n"
     ]
    }
   ],
   "source": [
    "!apt-get -y install graphviz"
   ]
  },
  {
   "cell_type": "code",
   "execution_count": 21,
   "metadata": {
    "execution": {
     "iopub.execute_input": "2022-10-27T04:50:11.624163Z",
     "iopub.status.busy": "2022-10-27T04:50:11.623854Z",
     "iopub.status.idle": "2022-10-27T04:50:17.942255Z",
     "shell.execute_reply": "2022-10-27T04:50:17.941592Z",
     "shell.execute_reply.started": "2022-10-27T04:50:11.624104Z"
    }
   },
   "outputs": [
    {
     "name": "stdout",
     "output_type": "stream",
     "text": [
      "Get:1 http://archive.ubuntu.com/ubuntu xenial InRelease [247 kB]\n",
      "Get:2 http://security.ubuntu.com/ubuntu xenial-security InRelease [99.8 kB]\n",
      "Ign:3 http://developer.download.nvidia.com/compute/machine-learning/repos/ubuntu1604/x86_64  InRelease\n",
      "Get:4 http://developer.download.nvidia.com/compute/machine-learning/repos/ubuntu1604/x86_64  Release [564 B]\n",
      "Get:5 http://developer.download.nvidia.com/compute/machine-learning/repos/ubuntu1604/x86_64  Release.gpg [833 B]\n",
      "Get:6 https://developer.download.nvidia.com/compute/cuda/repos/ubuntu1604/x86_64  InRelease [1581 B]\n",
      "Get:7 http://developer.download.nvidia.com/compute/machine-learning/repos/ubuntu1604/x86_64  Packages [122 kB]\n",
      "Ign:6 https://developer.download.nvidia.com/compute/cuda/repos/ubuntu1604/x86_64  InRelease\n",
      "Get:8 https://developer.download.nvidia.com/compute/cuda/repos/ubuntu1604/x86_64  Packages [518 kB]\n",
      "Get:9 http://archive.ubuntu.com/ubuntu xenial-updates InRelease [99.8 kB]      \n",
      "Get:10 http://archive.ubuntu.com/ubuntu xenial-backports InRelease [97.4 kB]   \n",
      "Get:11 http://security.ubuntu.com/ubuntu xenial-security/main amd64 Packages [2051 kB]\n",
      "Get:12 http://archive.ubuntu.com/ubuntu xenial/main amd64 Packages [1558 kB]   \n",
      "Get:13 http://archive.ubuntu.com/ubuntu xenial/restricted amd64 Packages [14.1 kB]\n",
      "Get:14 http://archive.ubuntu.com/ubuntu xenial/universe amd64 Packages [9827 kB]\n",
      "Get:15 http://security.ubuntu.com/ubuntu xenial-security/restricted amd64 Packages [15.9 kB]\n",
      "Get:16 http://security.ubuntu.com/ubuntu xenial-security/universe amd64 Packages [984 kB]\n",
      "Get:17 http://security.ubuntu.com/ubuntu xenial-security/multiverse amd64 Packages [8820 B]\n",
      "Get:18 http://archive.ubuntu.com/ubuntu xenial/multiverse amd64 Packages [176 kB]\n",
      "Get:19 http://archive.ubuntu.com/ubuntu xenial-updates/main amd64 Packages [2560 kB]\n",
      "Get:20 http://archive.ubuntu.com/ubuntu xenial-updates/restricted amd64 Packages [16.4 kB]\n",
      "Get:21 http://archive.ubuntu.com/ubuntu xenial-updates/universe amd64 Packages [1544 kB]\n",
      "Get:22 http://archive.ubuntu.com/ubuntu xenial-updates/multiverse amd64 Packages [26.2 kB]\n",
      "Get:23 http://archive.ubuntu.com/ubuntu xenial-backports/main amd64 Packages [10.9 kB]\n",
      "Get:24 http://archive.ubuntu.com/ubuntu xenial-backports/universe amd64 Packages [12.7 kB]\n",
      "Fetched 20.0 MB in 3s (5549 kB/s)                \n",
      "Reading package lists... Done\n",
      "W: GPG error: https://developer.download.nvidia.com/compute/cuda/repos/ubuntu1604/x86_64  InRelease: The following signatures couldn't be verified because the public key is not available: NO_PUBKEY A4B469963BF863CC\n",
      "W: The repository 'https://developer.download.nvidia.com/compute/cuda/repos/ubuntu1604/x86_64  InRelease' is not signed.\n",
      "N: Data from such a repository can't be authenticated and is therefore potentially dangerous to use.\n",
      "N: See apt-secure(8) manpage for repository creation and user configuration details.\n"
     ]
    }
   ],
   "source": [
    "!apt-get update"
   ]
  },
  {
   "cell_type": "markdown",
   "metadata": {},
   "source": [
    "If for any reason this way of installing doesn't work for you straight out of the box, please refer to the more detailed documentation here: https://github.com/parrt/dtreeviz"
   ]
  },
  {
   "cell_type": "markdown",
   "metadata": {},
   "source": [
    "Now you're ready to visualize your Decision Tree model! Please feel free to use the blog post for guidance and inspiration!"
   ]
  },
  {
   "cell_type": "code",
   "execution_count": 24,
   "metadata": {
    "execution": {
     "iopub.execute_input": "2022-10-27T04:55:25.676852Z",
     "iopub.status.busy": "2022-10-27T04:55:25.676509Z",
     "iopub.status.idle": "2022-10-27T04:55:25.784451Z",
     "shell.execute_reply": "2022-10-27T04:55:25.782239Z",
     "shell.execute_reply.started": "2022-10-27T04:55:25.676777Z"
    }
   },
   "outputs": [
    {
     "data": {
      "image/svg+xml": [
       "<?xml version=\"1.0\" encoding=\"UTF-8\" standalone=\"no\"?>\n",
       "<!DOCTYPE svg PUBLIC \"-//W3C//DTD SVG 1.1//EN\"\n",
       " \"http://www.w3.org/Graphics/SVG/1.1/DTD/svg11.dtd\">\n",
       "<!-- Generated by graphviz version 2.38.0 (20140413.2041)\n",
       " -->\n",
       "<!-- Title: Tree Pages: 1 -->\n",
       "<svg width=\"5149pt\" height=\"685pt\"\n",
       " viewBox=\"0.00 0.00 5149.00 685.00\" xmlns=\"http://www.w3.org/2000/svg\" xmlns:xlink=\"http://www.w3.org/1999/xlink\">\n",
       "<g id=\"graph0\" class=\"graph\" transform=\"scale(1 1) rotate(0) translate(4 681)\">\n",
       "<title>Tree</title>\n",
       "<polygon fill=\"white\" stroke=\"none\" points=\"-4,4 -4,-681 5145,-681 5145,4 -4,4\"/>\n",
       "<!-- 0 -->\n",
       "<g id=\"node1\" class=\"node\"><title>0</title>\n",
       "<polygon fill=\"none\" stroke=\"black\" points=\"2637,-677 2353,-677 2353,-609 2637,-609 2637,-677\"/>\n",
       "<text text-anchor=\"middle\" x=\"2495\" y=\"-661.8\" font-family=\"Times,serif\" font-size=\"14.00\">CheckingAccountStatus.none &lt;= 0.5</text>\n",
       "<text text-anchor=\"middle\" x=\"2495\" y=\"-646.8\" font-family=\"Times,serif\" font-size=\"14.00\">entropy = 0.88</text>\n",
       "<text text-anchor=\"middle\" x=\"2495\" y=\"-631.8\" font-family=\"Times,serif\" font-size=\"14.00\">samples = 900</text>\n",
       "<text text-anchor=\"middle\" x=\"2495\" y=\"-616.8\" font-family=\"Times,serif\" font-size=\"14.00\">value = [269, 631]</text>\n",
       "</g>\n",
       "<!-- 1 -->\n",
       "<g id=\"node2\" class=\"node\"><title>1</title>\n",
       "<polygon fill=\"none\" stroke=\"black\" points=\"2107.5,-573 1958.5,-573 1958.5,-505 2107.5,-505 2107.5,-573\"/>\n",
       "<text text-anchor=\"middle\" x=\"2033\" y=\"-557.8\" font-family=\"Times,serif\" font-size=\"14.00\">Duration &lt;= 11.5</text>\n",
       "<text text-anchor=\"middle\" x=\"2033\" y=\"-542.8\" font-family=\"Times,serif\" font-size=\"14.00\">entropy = 0.981</text>\n",
       "<text text-anchor=\"middle\" x=\"2033\" y=\"-527.8\" font-family=\"Times,serif\" font-size=\"14.00\">samples = 542</text>\n",
       "<text text-anchor=\"middle\" x=\"2033\" y=\"-512.8\" font-family=\"Times,serif\" font-size=\"14.00\">value = [227, 315]</text>\n",
       "</g>\n",
       "<!-- 0&#45;&gt;1 -->\n",
       "<g id=\"edge1\" class=\"edge\"><title>0&#45;&gt;1</title>\n",
       "<path fill=\"none\" stroke=\"black\" d=\"M2352.93,-610.634C2275.87,-593.621 2183.23,-573.167 2117.51,-558.659\"/>\n",
       "<polygon fill=\"black\" stroke=\"black\" points=\"2118.13,-555.211 2107.61,-556.473 2116.62,-562.046 2118.13,-555.211\"/>\n",
       "<text text-anchor=\"middle\" x=\"2121.06\" y=\"-573.846\" font-family=\"Times,serif\" font-size=\"14.00\">True</text>\n",
       "</g>\n",
       "<!-- 42 -->\n",
       "<g id=\"node43\" class=\"node\"><title>42</title>\n",
       "<polygon fill=\"none\" stroke=\"black\" points=\"3096,-573 2818,-573 2818,-505 3096,-505 3096,-573\"/>\n",
       "<text text-anchor=\"middle\" x=\"2957\" y=\"-557.8\" font-family=\"Times,serif\" font-size=\"14.00\">OtherInstallmentPlans.None &lt;= 0.5</text>\n",
       "<text text-anchor=\"middle\" x=\"2957\" y=\"-542.8\" font-family=\"Times,serif\" font-size=\"14.00\">entropy = 0.522</text>\n",
       "<text text-anchor=\"middle\" x=\"2957\" y=\"-527.8\" font-family=\"Times,serif\" font-size=\"14.00\">samples = 358</text>\n",
       "<text text-anchor=\"middle\" x=\"2957\" y=\"-512.8\" font-family=\"Times,serif\" font-size=\"14.00\">value = [42, 316]</text>\n",
       "</g>\n",
       "<!-- 0&#45;&gt;42 -->\n",
       "<g id=\"edge42\" class=\"edge\"><title>0&#45;&gt;42</title>\n",
       "<path fill=\"none\" stroke=\"black\" d=\"M2637.07,-610.634C2691.23,-598.676 2753.09,-585.019 2807.89,-572.921\"/>\n",
       "<polygon fill=\"black\" stroke=\"black\" points=\"2808.67,-576.333 2817.68,-570.759 2807.16,-569.497 2808.67,-576.333\"/>\n",
       "<text text-anchor=\"middle\" x=\"2804.23\" y=\"-588.132\" font-family=\"Times,serif\" font-size=\"14.00\">False</text>\n",
       "</g>\n",
       "<!-- 2 -->\n",
       "<g id=\"node3\" class=\"node\"><title>2</title>\n",
       "<polygon fill=\"none\" stroke=\"black\" points=\"1103.5,-469 888.5,-469 888.5,-401 1103.5,-401 1103.5,-469\"/>\n",
       "<text text-anchor=\"middle\" x=\"996\" y=\"-453.8\" font-family=\"Times,serif\" font-size=\"14.00\">Property.RealEstate &lt;= 0.5</text>\n",
       "<text text-anchor=\"middle\" x=\"996\" y=\"-438.8\" font-family=\"Times,serif\" font-size=\"14.00\">entropy = 0.76</text>\n",
       "<text text-anchor=\"middle\" x=\"996\" y=\"-423.8\" font-family=\"Times,serif\" font-size=\"14.00\">samples = 91</text>\n",
       "<text text-anchor=\"middle\" x=\"996\" y=\"-408.8\" font-family=\"Times,serif\" font-size=\"14.00\">value = [20, 71]</text>\n",
       "</g>\n",
       "<!-- 1&#45;&gt;2 -->\n",
       "<g id=\"edge2\" class=\"edge\"><title>1&#45;&gt;2</title>\n",
       "<path fill=\"none\" stroke=\"black\" d=\"M1958.42,-530.664C1780.36,-513.15 1329.27,-468.781 1113.93,-447.599\"/>\n",
       "<polygon fill=\"black\" stroke=\"black\" points=\"1114.15,-444.104 1103.85,-446.608 1113.46,-451.071 1114.15,-444.104\"/>\n",
       "</g>\n",
       "<!-- 19 -->\n",
       "<g id=\"node20\" class=\"node\"><title>19</title>\n",
       "<polygon fill=\"none\" stroke=\"black\" points=\"2107.5,-469 1958.5,-469 1958.5,-401 2107.5,-401 2107.5,-469\"/>\n",
       "<text text-anchor=\"middle\" x=\"2033\" y=\"-453.8\" font-family=\"Times,serif\" font-size=\"14.00\">Duration &lt;= 31.5</text>\n",
       "<text text-anchor=\"middle\" x=\"2033\" y=\"-438.8\" font-family=\"Times,serif\" font-size=\"14.00\">entropy = 0.995</text>\n",
       "<text text-anchor=\"middle\" x=\"2033\" y=\"-423.8\" font-family=\"Times,serif\" font-size=\"14.00\">samples = 451</text>\n",
       "<text text-anchor=\"middle\" x=\"2033\" y=\"-408.8\" font-family=\"Times,serif\" font-size=\"14.00\">value = [207, 244]</text>\n",
       "</g>\n",
       "<!-- 1&#45;&gt;19 -->\n",
       "<g id=\"edge19\" class=\"edge\"><title>1&#45;&gt;19</title>\n",
       "<path fill=\"none\" stroke=\"black\" d=\"M2033,-504.884C2033,-496.778 2033,-487.982 2033,-479.472\"/>\n",
       "<polygon fill=\"black\" stroke=\"black\" points=\"2036.5,-479.299 2033,-469.299 2029.5,-479.299 2036.5,-479.299\"/>\n",
       "</g>\n",
       "<!-- 3 -->\n",
       "<g id=\"node4\" class=\"node\"><title>3</title>\n",
       "<polygon fill=\"none\" stroke=\"black\" points=\"736,-365 440,-365 440,-297 736,-297 736,-365\"/>\n",
       "<text text-anchor=\"middle\" x=\"588\" y=\"-349.8\" font-family=\"Times,serif\" font-size=\"14.00\">CreditHistory.ThisBank.AllPaid &lt;= 0.5</text>\n",
       "<text text-anchor=\"middle\" x=\"588\" y=\"-334.8\" font-family=\"Times,serif\" font-size=\"14.00\">entropy = 0.944</text>\n",
       "<text text-anchor=\"middle\" x=\"588\" y=\"-319.8\" font-family=\"Times,serif\" font-size=\"14.00\">samples = 47</text>\n",
       "<text text-anchor=\"middle\" x=\"588\" y=\"-304.8\" font-family=\"Times,serif\" font-size=\"14.00\">value = [17, 30]</text>\n",
       "</g>\n",
       "<!-- 2&#45;&gt;3 -->\n",
       "<g id=\"edge3\" class=\"edge\"><title>2&#45;&gt;3</title>\n",
       "<path fill=\"none\" stroke=\"black\" d=\"M888.269,-407.067C839.807,-394.952 781.939,-380.485 729.998,-367.499\"/>\n",
       "<polygon fill=\"black\" stroke=\"black\" points=\"730.583,-364.038 720.033,-365.008 728.885,-370.829 730.583,-364.038\"/>\n",
       "</g>\n",
       "<!-- 12 -->\n",
       "<g id=\"node13\" class=\"node\"><title>12</title>\n",
       "<polygon fill=\"none\" stroke=\"black\" points=\"1183.5,-365 808.5,-365 808.5,-297 1183.5,-297 1183.5,-365\"/>\n",
       "<text text-anchor=\"middle\" x=\"996\" y=\"-349.8\" font-family=\"Times,serif\" font-size=\"14.00\">Job.Management.SelfEmp.HighlyQualified &lt;= 0.5</text>\n",
       "<text text-anchor=\"middle\" x=\"996\" y=\"-334.8\" font-family=\"Times,serif\" font-size=\"14.00\">entropy = 0.359</text>\n",
       "<text text-anchor=\"middle\" x=\"996\" y=\"-319.8\" font-family=\"Times,serif\" font-size=\"14.00\">samples = 44</text>\n",
       "<text text-anchor=\"middle\" x=\"996\" y=\"-304.8\" font-family=\"Times,serif\" font-size=\"14.00\">value = [3, 41]</text>\n",
       "</g>\n",
       "<!-- 2&#45;&gt;12 -->\n",
       "<g id=\"edge12\" class=\"edge\"><title>2&#45;&gt;12</title>\n",
       "<path fill=\"none\" stroke=\"black\" d=\"M996,-400.884C996,-392.778 996,-383.982 996,-375.472\"/>\n",
       "<polygon fill=\"black\" stroke=\"black\" points=\"999.5,-375.299 996,-365.299 992.5,-375.299 999.5,-375.299\"/>\n",
       "</g>\n",
       "<!-- 4 -->\n",
       "<g id=\"node5\" class=\"node\"><title>4</title>\n",
       "<polygon fill=\"none\" stroke=\"black\" points=\"489,-261 355,-261 355,-193 489,-193 489,-261\"/>\n",
       "<text text-anchor=\"middle\" x=\"422\" y=\"-245.8\" font-family=\"Times,serif\" font-size=\"14.00\">Age &lt;= 34.5</text>\n",
       "<text text-anchor=\"middle\" x=\"422\" y=\"-230.8\" font-family=\"Times,serif\" font-size=\"14.00\">entropy = 0.863</text>\n",
       "<text text-anchor=\"middle\" x=\"422\" y=\"-215.8\" font-family=\"Times,serif\" font-size=\"14.00\">samples = 42</text>\n",
       "<text text-anchor=\"middle\" x=\"422\" y=\"-200.8\" font-family=\"Times,serif\" font-size=\"14.00\">value = [12, 30]</text>\n",
       "</g>\n",
       "<!-- 3&#45;&gt;4 -->\n",
       "<g id=\"edge4\" class=\"edge\"><title>3&#45;&gt;4</title>\n",
       "<path fill=\"none\" stroke=\"black\" d=\"M534.105,-296.884C518.369,-287.214 501.035,-276.563 484.799,-266.587\"/>\n",
       "<polygon fill=\"black\" stroke=\"black\" points=\"486.261,-263.378 475.909,-261.125 482.597,-269.342 486.261,-263.378\"/>\n",
       "</g>\n",
       "<!-- 11 -->\n",
       "<g id=\"node12\" class=\"node\"><title>11</title>\n",
       "<polygon fill=\"none\" stroke=\"black\" points=\"646,-253.5 530,-253.5 530,-200.5 646,-200.5 646,-253.5\"/>\n",
       "<text text-anchor=\"middle\" x=\"588\" y=\"-238.3\" font-family=\"Times,serif\" font-size=\"14.00\">entropy = 0.0</text>\n",
       "<text text-anchor=\"middle\" x=\"588\" y=\"-223.3\" font-family=\"Times,serif\" font-size=\"14.00\">samples = 5</text>\n",
       "<text text-anchor=\"middle\" x=\"588\" y=\"-208.3\" font-family=\"Times,serif\" font-size=\"14.00\">value = [5, 0]</text>\n",
       "</g>\n",
       "<!-- 3&#45;&gt;11 -->\n",
       "<g id=\"edge11\" class=\"edge\"><title>3&#45;&gt;11</title>\n",
       "<path fill=\"none\" stroke=\"black\" d=\"M588,-296.884C588,-286.326 588,-274.597 588,-263.854\"/>\n",
       "<polygon fill=\"black\" stroke=\"black\" points=\"591.5,-263.52 588,-253.52 584.5,-263.52 591.5,-263.52\"/>\n",
       "</g>\n",
       "<!-- 5 -->\n",
       "<g id=\"node6\" class=\"node\"><title>5</title>\n",
       "<polygon fill=\"none\" stroke=\"black\" points=\"269.5,-157 134.5,-157 134.5,-89 269.5,-89 269.5,-157\"/>\n",
       "<text text-anchor=\"middle\" x=\"202\" y=\"-141.8\" font-family=\"Times,serif\" font-size=\"14.00\">Duration &lt;= 7.5</text>\n",
       "<text text-anchor=\"middle\" x=\"202\" y=\"-126.8\" font-family=\"Times,serif\" font-size=\"14.00\">entropy = 0.994</text>\n",
       "<text text-anchor=\"middle\" x=\"202\" y=\"-111.8\" font-family=\"Times,serif\" font-size=\"14.00\">samples = 22</text>\n",
       "<text text-anchor=\"middle\" x=\"202\" y=\"-96.8\" font-family=\"Times,serif\" font-size=\"14.00\">value = [10, 12]</text>\n",
       "</g>\n",
       "<!-- 4&#45;&gt;5 -->\n",
       "<g id=\"edge5\" class=\"edge\"><title>4&#45;&gt;5</title>\n",
       "<path fill=\"none\" stroke=\"black\" d=\"M354.797,-194.842C330.819,-183.725 303.626,-171.118 278.895,-159.651\"/>\n",
       "<polygon fill=\"black\" stroke=\"black\" points=\"280.094,-156.349 269.549,-155.318 277.149,-162.7 280.094,-156.349\"/>\n",
       "</g>\n",
       "<!-- 8 -->\n",
       "<g id=\"node9\" class=\"node\"><title>8</title>\n",
       "<polygon fill=\"none\" stroke=\"black\" points=\"556.5,-157 287.5,-157 287.5,-89 556.5,-89 556.5,-157\"/>\n",
       "<text text-anchor=\"middle\" x=\"422\" y=\"-141.8\" font-family=\"Times,serif\" font-size=\"14.00\">InstallmentRatePercentage &lt;= 1.5</text>\n",
       "<text text-anchor=\"middle\" x=\"422\" y=\"-126.8\" font-family=\"Times,serif\" font-size=\"14.00\">entropy = 0.469</text>\n",
       "<text text-anchor=\"middle\" x=\"422\" y=\"-111.8\" font-family=\"Times,serif\" font-size=\"14.00\">samples = 20</text>\n",
       "<text text-anchor=\"middle\" x=\"422\" y=\"-96.8\" font-family=\"Times,serif\" font-size=\"14.00\">value = [2, 18]</text>\n",
       "</g>\n",
       "<!-- 4&#45;&gt;8 -->\n",
       "<g id=\"edge8\" class=\"edge\"><title>4&#45;&gt;8</title>\n",
       "<path fill=\"none\" stroke=\"black\" d=\"M422,-192.884C422,-184.778 422,-175.982 422,-167.472\"/>\n",
       "<polygon fill=\"black\" stroke=\"black\" points=\"425.5,-167.299 422,-157.299 418.5,-167.299 425.5,-167.299\"/>\n",
       "</g>\n",
       "<!-- 6 -->\n",
       "<g id=\"node7\" class=\"node\"><title>6</title>\n",
       "<polygon fill=\"none\" stroke=\"black\" points=\"134,-53 0,-53 0,-0 134,-0 134,-53\"/>\n",
       "<text text-anchor=\"middle\" x=\"67\" y=\"-37.8\" font-family=\"Times,serif\" font-size=\"14.00\">entropy = 0.722</text>\n",
       "<text text-anchor=\"middle\" x=\"67\" y=\"-22.8\" font-family=\"Times,serif\" font-size=\"14.00\">samples = 10</text>\n",
       "<text text-anchor=\"middle\" x=\"67\" y=\"-7.8\" font-family=\"Times,serif\" font-size=\"14.00\">value = [2, 8]</text>\n",
       "</g>\n",
       "<!-- 5&#45;&gt;6 -->\n",
       "<g id=\"edge6\" class=\"edge\"><title>5&#45;&gt;6</title>\n",
       "<path fill=\"none\" stroke=\"black\" d=\"M154.784,-88.9485C140.931,-79.2516 125.822,-68.6752 112.104,-59.073\"/>\n",
       "<polygon fill=\"black\" stroke=\"black\" points=\"113.966,-56.1041 103.767,-53.2367 109.952,-61.8387 113.966,-56.1041\"/>\n",
       "</g>\n",
       "<!-- 7 -->\n",
       "<g id=\"node8\" class=\"node\"><title>7</title>\n",
       "<polygon fill=\"none\" stroke=\"black\" points=\"286,-53 152,-53 152,-0 286,-0 286,-53\"/>\n",
       "<text text-anchor=\"middle\" x=\"219\" y=\"-37.8\" font-family=\"Times,serif\" font-size=\"14.00\">entropy = 0.918</text>\n",
       "<text text-anchor=\"middle\" x=\"219\" y=\"-22.8\" font-family=\"Times,serif\" font-size=\"14.00\">samples = 12</text>\n",
       "<text text-anchor=\"middle\" x=\"219\" y=\"-7.8\" font-family=\"Times,serif\" font-size=\"14.00\">value = [8, 4]</text>\n",
       "</g>\n",
       "<!-- 5&#45;&gt;7 -->\n",
       "<g id=\"edge7\" class=\"edge\"><title>5&#45;&gt;7</title>\n",
       "<path fill=\"none\" stroke=\"black\" d=\"M207.946,-88.9485C209.443,-80.6238 211.058,-71.6509 212.577,-63.2027\"/>\n",
       "<polygon fill=\"black\" stroke=\"black\" points=\"216.044,-63.6984 214.37,-53.2367 209.155,-62.459 216.044,-63.6984\"/>\n",
       "</g>\n",
       "<!-- 9 -->\n",
       "<g id=\"node10\" class=\"node\"><title>9</title>\n",
       "<polygon fill=\"none\" stroke=\"black\" points=\"472,-53 338,-53 338,-0 472,-0 472,-53\"/>\n",
       "<text text-anchor=\"middle\" x=\"405\" y=\"-37.8\" font-family=\"Times,serif\" font-size=\"14.00\">entropy = 0.971</text>\n",
       "<text text-anchor=\"middle\" x=\"405\" y=\"-22.8\" font-family=\"Times,serif\" font-size=\"14.00\">samples = 5</text>\n",
       "<text text-anchor=\"middle\" x=\"405\" y=\"-7.8\" font-family=\"Times,serif\" font-size=\"14.00\">value = [2, 3]</text>\n",
       "</g>\n",
       "<!-- 8&#45;&gt;9 -->\n",
       "<g id=\"edge9\" class=\"edge\"><title>8&#45;&gt;9</title>\n",
       "<path fill=\"none\" stroke=\"black\" d=\"M416.054,-88.9485C414.557,-80.6238 412.942,-71.6509 411.423,-63.2027\"/>\n",
       "<polygon fill=\"black\" stroke=\"black\" points=\"414.845,-62.459 409.63,-53.2367 407.956,-63.6984 414.845,-62.459\"/>\n",
       "</g>\n",
       "<!-- 10 -->\n",
       "<g id=\"node11\" class=\"node\"><title>10</title>\n",
       "<polygon fill=\"none\" stroke=\"black\" points=\"612,-53 490,-53 490,-0 612,-0 612,-53\"/>\n",
       "<text text-anchor=\"middle\" x=\"551\" y=\"-37.8\" font-family=\"Times,serif\" font-size=\"14.00\">entropy = 0.0</text>\n",
       "<text text-anchor=\"middle\" x=\"551\" y=\"-22.8\" font-family=\"Times,serif\" font-size=\"14.00\">samples = 15</text>\n",
       "<text text-anchor=\"middle\" x=\"551\" y=\"-7.8\" font-family=\"Times,serif\" font-size=\"14.00\">value = [0, 15]</text>\n",
       "</g>\n",
       "<!-- 8&#45;&gt;10 -->\n",
       "<g id=\"edge10\" class=\"edge\"><title>8&#45;&gt;10</title>\n",
       "<path fill=\"none\" stroke=\"black\" d=\"M467.118,-88.9485C480.23,-79.3431 494.52,-68.8747 507.529,-59.345\"/>\n",
       "<polygon fill=\"black\" stroke=\"black\" points=\"509.869,-61.9698 515.867,-53.2367 505.732,-56.3228 509.869,-61.9698\"/>\n",
       "</g>\n",
       "<!-- 13 -->\n",
       "<g id=\"node14\" class=\"node\"><title>13</title>\n",
       "<polygon fill=\"none\" stroke=\"black\" points=\"974,-261 708,-261 708,-193 974,-193 974,-261\"/>\n",
       "<text text-anchor=\"middle\" x=\"841\" y=\"-245.8\" font-family=\"Times,serif\" font-size=\"14.00\">Personal.Female.NotSingle &lt;= 0.5</text>\n",
       "<text text-anchor=\"middle\" x=\"841\" y=\"-230.8\" font-family=\"Times,serif\" font-size=\"14.00\">entropy = 0.271</text>\n",
       "<text text-anchor=\"middle\" x=\"841\" y=\"-215.8\" font-family=\"Times,serif\" font-size=\"14.00\">samples = 43</text>\n",
       "<text text-anchor=\"middle\" x=\"841\" y=\"-200.8\" font-family=\"Times,serif\" font-size=\"14.00\">value = [2, 41]</text>\n",
       "</g>\n",
       "<!-- 12&#45;&gt;13 -->\n",
       "<g id=\"edge13\" class=\"edge\"><title>12&#45;&gt;13</title>\n",
       "<path fill=\"none\" stroke=\"black\" d=\"M945.676,-296.884C931.119,-287.304 915.097,-276.761 900.059,-266.864\"/>\n",
       "<polygon fill=\"black\" stroke=\"black\" points=\"901.614,-263.698 891.337,-261.125 897.766,-269.546 901.614,-263.698\"/>\n",
       "</g>\n",
       "<!-- 18 -->\n",
       "<g id=\"node19\" class=\"node\"><title>18</title>\n",
       "<polygon fill=\"none\" stroke=\"black\" points=\"1108,-253.5 992,-253.5 992,-200.5 1108,-200.5 1108,-253.5\"/>\n",
       "<text text-anchor=\"middle\" x=\"1050\" y=\"-238.3\" font-family=\"Times,serif\" font-size=\"14.00\">entropy = 0.0</text>\n",
       "<text text-anchor=\"middle\" x=\"1050\" y=\"-223.3\" font-family=\"Times,serif\" font-size=\"14.00\">samples = 1</text>\n",
       "<text text-anchor=\"middle\" x=\"1050\" y=\"-208.3\" font-family=\"Times,serif\" font-size=\"14.00\">value = [1, 0]</text>\n",
       "</g>\n",
       "<!-- 12&#45;&gt;18 -->\n",
       "<g id=\"edge18\" class=\"edge\"><title>12&#45;&gt;18</title>\n",
       "<path fill=\"none\" stroke=\"black\" d=\"M1013.53,-296.884C1019.35,-285.886 1025.85,-273.617 1031.73,-262.517\"/>\n",
       "<polygon fill=\"black\" stroke=\"black\" points=\"1034.9,-263.995 1036.49,-253.52 1028.72,-260.72 1034.9,-263.995\"/>\n",
       "</g>\n",
       "<!-- 14 -->\n",
       "<g id=\"node15\" class=\"node\"><title>14</title>\n",
       "<polygon fill=\"none\" stroke=\"black\" points=\"697,-149.5 575,-149.5 575,-96.5 697,-96.5 697,-149.5\"/>\n",
       "<text text-anchor=\"middle\" x=\"636\" y=\"-134.3\" font-family=\"Times,serif\" font-size=\"14.00\">entropy = 0.0</text>\n",
       "<text text-anchor=\"middle\" x=\"636\" y=\"-119.3\" font-family=\"Times,serif\" font-size=\"14.00\">samples = 31</text>\n",
       "<text text-anchor=\"middle\" x=\"636\" y=\"-104.3\" font-family=\"Times,serif\" font-size=\"14.00\">value = [0, 31]</text>\n",
       "</g>\n",
       "<!-- 13&#45;&gt;14 -->\n",
       "<g id=\"edge14\" class=\"edge\"><title>13&#45;&gt;14</title>\n",
       "<path fill=\"none\" stroke=\"black\" d=\"M774.442,-192.884C749.355,-180.401 720.978,-166.282 696.476,-154.091\"/>\n",
       "<polygon fill=\"black\" stroke=\"black\" points=\"697.802,-150.841 687.29,-149.52 694.684,-157.108 697.802,-150.841\"/>\n",
       "</g>\n",
       "<!-- 15 -->\n",
       "<g id=\"node16\" class=\"node\"><title>15</title>\n",
       "<polygon fill=\"none\" stroke=\"black\" points=\"1011,-157 715,-157 715,-89 1011,-89 1011,-157\"/>\n",
       "<text text-anchor=\"middle\" x=\"863\" y=\"-141.8\" font-family=\"Times,serif\" font-size=\"14.00\">CheckingAccountStatus.gt.200 &lt;= 0.5</text>\n",
       "<text text-anchor=\"middle\" x=\"863\" y=\"-126.8\" font-family=\"Times,serif\" font-size=\"14.00\">entropy = 0.65</text>\n",
       "<text text-anchor=\"middle\" x=\"863\" y=\"-111.8\" font-family=\"Times,serif\" font-size=\"14.00\">samples = 12</text>\n",
       "<text text-anchor=\"middle\" x=\"863\" y=\"-96.8\" font-family=\"Times,serif\" font-size=\"14.00\">value = [2, 10]</text>\n",
       "</g>\n",
       "<!-- 13&#45;&gt;15 -->\n",
       "<g id=\"edge15\" class=\"edge\"><title>13&#45;&gt;15</title>\n",
       "<path fill=\"none\" stroke=\"black\" d=\"M848.143,-192.884C849.91,-184.689 851.83,-175.789 853.684,-167.192\"/>\n",
       "<polygon fill=\"black\" stroke=\"black\" points=\"857.131,-167.813 855.818,-157.299 850.288,-166.337 857.131,-167.813\"/>\n",
       "</g>\n",
       "<!-- 16 -->\n",
       "<g id=\"node17\" class=\"node\"><title>16</title>\n",
       "<polygon fill=\"none\" stroke=\"black\" points=\"802,-53 668,-53 668,-0 802,-0 802,-53\"/>\n",
       "<text text-anchor=\"middle\" x=\"735\" y=\"-37.8\" font-family=\"Times,serif\" font-size=\"14.00\">entropy = 0.439</text>\n",
       "<text text-anchor=\"middle\" x=\"735\" y=\"-22.8\" font-family=\"Times,serif\" font-size=\"14.00\">samples = 11</text>\n",
       "<text text-anchor=\"middle\" x=\"735\" y=\"-7.8\" font-family=\"Times,serif\" font-size=\"14.00\">value = [1, 10]</text>\n",
       "</g>\n",
       "<!-- 15&#45;&gt;16 -->\n",
       "<g id=\"edge16\" class=\"edge\"><title>15&#45;&gt;16</title>\n",
       "<path fill=\"none\" stroke=\"black\" d=\"M818.232,-88.9485C805.221,-79.3431 791.042,-68.8747 778.134,-59.345\"/>\n",
       "<polygon fill=\"black\" stroke=\"black\" points=\"779.984,-56.3605 769.86,-53.2367 775.827,-61.992 779.984,-56.3605\"/>\n",
       "</g>\n",
       "<!-- 17 -->\n",
       "<g id=\"node18\" class=\"node\"><title>17</title>\n",
       "<polygon fill=\"none\" stroke=\"black\" points=\"936,-53 820,-53 820,-0 936,-0 936,-53\"/>\n",
       "<text text-anchor=\"middle\" x=\"878\" y=\"-37.8\" font-family=\"Times,serif\" font-size=\"14.00\">entropy = 0.0</text>\n",
       "<text text-anchor=\"middle\" x=\"878\" y=\"-22.8\" font-family=\"Times,serif\" font-size=\"14.00\">samples = 1</text>\n",
       "<text text-anchor=\"middle\" x=\"878\" y=\"-7.8\" font-family=\"Times,serif\" font-size=\"14.00\">value = [1, 0]</text>\n",
       "</g>\n",
       "<!-- 15&#45;&gt;17 -->\n",
       "<g id=\"edge17\" class=\"edge\"><title>15&#45;&gt;17</title>\n",
       "<path fill=\"none\" stroke=\"black\" d=\"M868.246,-88.9485C869.568,-80.6238 870.992,-71.6509 872.333,-63.2027\"/>\n",
       "<polygon fill=\"black\" stroke=\"black\" points=\"875.804,-63.6618 873.915,-53.2367 868.89,-62.5643 875.804,-63.6618\"/>\n",
       "</g>\n",
       "<!-- 20 -->\n",
       "<g id=\"node21\" class=\"node\"><title>20</title>\n",
       "<polygon fill=\"none\" stroke=\"black\" points=\"1935.5,-365 1780.5,-365 1780.5,-297 1935.5,-297 1935.5,-365\"/>\n",
       "<text text-anchor=\"middle\" x=\"1858\" y=\"-349.8\" font-family=\"Times,serif\" font-size=\"14.00\">Amount &lt;= 1381.5</text>\n",
       "<text text-anchor=\"middle\" x=\"1858\" y=\"-334.8\" font-family=\"Times,serif\" font-size=\"14.00\">entropy = 0.98</text>\n",
       "<text text-anchor=\"middle\" x=\"1858\" y=\"-319.8\" font-family=\"Times,serif\" font-size=\"14.00\">samples = 351</text>\n",
       "<text text-anchor=\"middle\" x=\"1858\" y=\"-304.8\" font-family=\"Times,serif\" font-size=\"14.00\">value = [146, 205]</text>\n",
       "</g>\n",
       "<!-- 19&#45;&gt;20 -->\n",
       "<g id=\"edge20\" class=\"edge\"><title>19&#45;&gt;20</title>\n",
       "<path fill=\"none\" stroke=\"black\" d=\"M1976.18,-400.884C1959.44,-391.125 1940.98,-380.366 1923.73,-370.31\"/>\n",
       "<polygon fill=\"black\" stroke=\"black\" points=\"1925.23,-367.137 1914.83,-365.125 1921.71,-373.184 1925.23,-367.137\"/>\n",
       "</g>\n",
       "<!-- 33 -->\n",
       "<g id=\"node34\" class=\"node\"><title>33</title>\n",
       "<polygon fill=\"none\" stroke=\"black\" points=\"2367,-365 2047,-365 2047,-297 2367,-297 2367,-365\"/>\n",
       "<text text-anchor=\"middle\" x=\"2207\" y=\"-349.8\" font-family=\"Times,serif\" font-size=\"14.00\">EmploymentDuration.Unemployed &lt;= 0.5</text>\n",
       "<text text-anchor=\"middle\" x=\"2207\" y=\"-334.8\" font-family=\"Times,serif\" font-size=\"14.00\">entropy = 0.965</text>\n",
       "<text text-anchor=\"middle\" x=\"2207\" y=\"-319.8\" font-family=\"Times,serif\" font-size=\"14.00\">samples = 100</text>\n",
       "<text text-anchor=\"middle\" x=\"2207\" y=\"-304.8\" font-family=\"Times,serif\" font-size=\"14.00\">value = [61, 39]</text>\n",
       "</g>\n",
       "<!-- 19&#45;&gt;33 -->\n",
       "<g id=\"edge33\" class=\"edge\"><title>19&#45;&gt;33</title>\n",
       "<path fill=\"none\" stroke=\"black\" d=\"M2089.49,-400.884C2106.14,-391.125 2124.49,-380.366 2141.65,-370.31\"/>\n",
       "<polygon fill=\"black\" stroke=\"black\" points=\"2143.64,-373.201 2150.49,-365.125 2140.1,-367.163 2143.64,-373.201\"/>\n",
       "</g>\n",
       "<!-- 21 -->\n",
       "<g id=\"node22\" class=\"node\"><title>21</title>\n",
       "<polygon fill=\"none\" stroke=\"black\" points=\"1571,-261 1377,-261 1377,-193 1571,-193 1571,-261\"/>\n",
       "<text text-anchor=\"middle\" x=\"1474\" y=\"-245.8\" font-family=\"Times,serif\" font-size=\"14.00\">Purpose.NewCar &lt;= 0.5</text>\n",
       "<text text-anchor=\"middle\" x=\"1474\" y=\"-230.8\" font-family=\"Times,serif\" font-size=\"14.00\">entropy = 0.988</text>\n",
       "<text text-anchor=\"middle\" x=\"1474\" y=\"-215.8\" font-family=\"Times,serif\" font-size=\"14.00\">samples = 101</text>\n",
       "<text text-anchor=\"middle\" x=\"1474\" y=\"-200.8\" font-family=\"Times,serif\" font-size=\"14.00\">value = [57, 44]</text>\n",
       "</g>\n",
       "<!-- 20&#45;&gt;21 -->\n",
       "<g id=\"edge21\" class=\"edge\"><title>20&#45;&gt;21</title>\n",
       "<path fill=\"none\" stroke=\"black\" d=\"M1780.29,-309.359C1722.98,-294.136 1644.31,-273.239 1581.05,-256.435\"/>\n",
       "<polygon fill=\"black\" stroke=\"black\" points=\"1581.6,-252.96 1571.04,-253.775 1579.8,-259.725 1581.6,-252.96\"/>\n",
       "</g>\n",
       "<!-- 28 -->\n",
       "<g id=\"node29\" class=\"node\"><title>28</title>\n",
       "<polygon fill=\"none\" stroke=\"black\" points=\"1940,-261 1776,-261 1776,-193 1940,-193 1940,-261\"/>\n",
       "<text text-anchor=\"middle\" x=\"1858\" y=\"-245.8\" font-family=\"Times,serif\" font-size=\"14.00\">Amount &lt;= 11091.5</text>\n",
       "<text text-anchor=\"middle\" x=\"1858\" y=\"-230.8\" font-family=\"Times,serif\" font-size=\"14.00\">entropy = 0.939</text>\n",
       "<text text-anchor=\"middle\" x=\"1858\" y=\"-215.8\" font-family=\"Times,serif\" font-size=\"14.00\">samples = 250</text>\n",
       "<text text-anchor=\"middle\" x=\"1858\" y=\"-200.8\" font-family=\"Times,serif\" font-size=\"14.00\">value = [89, 161]</text>\n",
       "</g>\n",
       "<!-- 20&#45;&gt;28 -->\n",
       "<g id=\"edge28\" class=\"edge\"><title>20&#45;&gt;28</title>\n",
       "<path fill=\"none\" stroke=\"black\" d=\"M1858,-296.884C1858,-288.778 1858,-279.982 1858,-271.472\"/>\n",
       "<polygon fill=\"black\" stroke=\"black\" points=\"1861.5,-271.299 1858,-261.299 1854.5,-271.299 1861.5,-271.299\"/>\n",
       "</g>\n",
       "<!-- 22 -->\n",
       "<g id=\"node23\" class=\"node\"><title>22</title>\n",
       "<polygon fill=\"none\" stroke=\"black\" points=\"1323,-157 1029,-157 1029,-89 1323,-89 1323,-157\"/>\n",
       "<text text-anchor=\"middle\" x=\"1176\" y=\"-141.8\" font-family=\"Times,serif\" font-size=\"14.00\">OtherDebtorsGuarantors.None &lt;= 0.5</text>\n",
       "<text text-anchor=\"middle\" x=\"1176\" y=\"-126.8\" font-family=\"Times,serif\" font-size=\"14.00\">entropy = 0.992</text>\n",
       "<text text-anchor=\"middle\" x=\"1176\" y=\"-111.8\" font-family=\"Times,serif\" font-size=\"14.00\">samples = 65</text>\n",
       "<text text-anchor=\"middle\" x=\"1176\" y=\"-96.8\" font-family=\"Times,serif\" font-size=\"14.00\">value = [29, 36]</text>\n",
       "</g>\n",
       "<!-- 21&#45;&gt;22 -->\n",
       "<g id=\"edge22\" class=\"edge\"><title>21&#45;&gt;22</title>\n",
       "<path fill=\"none\" stroke=\"black\" d=\"M1377.25,-192.884C1346.83,-182.472 1313.08,-170.922 1282.06,-160.301\"/>\n",
       "<polygon fill=\"black\" stroke=\"black\" points=\"1283.12,-156.965 1272.52,-157.038 1280.85,-163.587 1283.12,-156.965\"/>\n",
       "</g>\n",
       "<!-- 25 -->\n",
       "<g id=\"node26\" class=\"node\"><title>25</title>\n",
       "<polygon fill=\"none\" stroke=\"black\" points=\"1607,-157 1341,-157 1341,-89 1607,-89 1607,-157\"/>\n",
       "<text text-anchor=\"middle\" x=\"1474\" y=\"-141.8\" font-family=\"Times,serif\" font-size=\"14.00\">Personal.Female.NotSingle &lt;= 0.5</text>\n",
       "<text text-anchor=\"middle\" x=\"1474\" y=\"-126.8\" font-family=\"Times,serif\" font-size=\"14.00\">entropy = 0.764</text>\n",
       "<text text-anchor=\"middle\" x=\"1474\" y=\"-111.8\" font-family=\"Times,serif\" font-size=\"14.00\">samples = 36</text>\n",
       "<text text-anchor=\"middle\" x=\"1474\" y=\"-96.8\" font-family=\"Times,serif\" font-size=\"14.00\">value = [28, 8]</text>\n",
       "</g>\n",
       "<!-- 21&#45;&gt;25 -->\n",
       "<g id=\"edge25\" class=\"edge\"><title>21&#45;&gt;25</title>\n",
       "<path fill=\"none\" stroke=\"black\" d=\"M1474,-192.884C1474,-184.778 1474,-175.982 1474,-167.472\"/>\n",
       "<polygon fill=\"black\" stroke=\"black\" points=\"1477.5,-167.299 1474,-157.299 1470.5,-167.299 1477.5,-167.299\"/>\n",
       "</g>\n",
       "<!-- 23 -->\n",
       "<g id=\"node24\" class=\"node\"><title>23</title>\n",
       "<polygon fill=\"none\" stroke=\"black\" points=\"1108,-53 986,-53 986,-0 1108,-0 1108,-53\"/>\n",
       "<text text-anchor=\"middle\" x=\"1047\" y=\"-37.8\" font-family=\"Times,serif\" font-size=\"14.00\">entropy = 0.0</text>\n",
       "<text text-anchor=\"middle\" x=\"1047\" y=\"-22.8\" font-family=\"Times,serif\" font-size=\"14.00\">samples = 10</text>\n",
       "<text text-anchor=\"middle\" x=\"1047\" y=\"-7.8\" font-family=\"Times,serif\" font-size=\"14.00\">value = [0, 10]</text>\n",
       "</g>\n",
       "<!-- 22&#45;&gt;23 -->\n",
       "<g id=\"edge23\" class=\"edge\"><title>22&#45;&gt;23</title>\n",
       "<path fill=\"none\" stroke=\"black\" d=\"M1130.88,-88.9485C1117.77,-79.3431 1103.48,-68.8747 1090.47,-59.345\"/>\n",
       "<polygon fill=\"black\" stroke=\"black\" points=\"1092.27,-56.3228 1082.13,-53.2367 1088.13,-61.9698 1092.27,-56.3228\"/>\n",
       "</g>\n",
       "<!-- 24 -->\n",
       "<g id=\"node25\" class=\"node\"><title>24</title>\n",
       "<polygon fill=\"none\" stroke=\"black\" points=\"1260,-53 1126,-53 1126,-0 1260,-0 1260,-53\"/>\n",
       "<text text-anchor=\"middle\" x=\"1193\" y=\"-37.8\" font-family=\"Times,serif\" font-size=\"14.00\">entropy = 0.998</text>\n",
       "<text text-anchor=\"middle\" x=\"1193\" y=\"-22.8\" font-family=\"Times,serif\" font-size=\"14.00\">samples = 55</text>\n",
       "<text text-anchor=\"middle\" x=\"1193\" y=\"-7.8\" font-family=\"Times,serif\" font-size=\"14.00\">value = [29, 26]</text>\n",
       "</g>\n",
       "<!-- 22&#45;&gt;24 -->\n",
       "<g id=\"edge24\" class=\"edge\"><title>22&#45;&gt;24</title>\n",
       "<path fill=\"none\" stroke=\"black\" d=\"M1181.95,-88.9485C1183.44,-80.6238 1185.06,-71.6509 1186.58,-63.2027\"/>\n",
       "<polygon fill=\"black\" stroke=\"black\" points=\"1190.04,-63.6984 1188.37,-53.2367 1183.15,-62.459 1190.04,-63.6984\"/>\n",
       "</g>\n",
       "<!-- 26 -->\n",
       "<g id=\"node27\" class=\"node\"><title>26</title>\n",
       "<polygon fill=\"none\" stroke=\"black\" points=\"1447,-53 1313,-53 1313,-0 1447,-0 1447,-53\"/>\n",
       "<text text-anchor=\"middle\" x=\"1380\" y=\"-37.8\" font-family=\"Times,serif\" font-size=\"14.00\">entropy = 0.904</text>\n",
       "<text text-anchor=\"middle\" x=\"1380\" y=\"-22.8\" font-family=\"Times,serif\" font-size=\"14.00\">samples = 25</text>\n",
       "<text text-anchor=\"middle\" x=\"1380\" y=\"-7.8\" font-family=\"Times,serif\" font-size=\"14.00\">value = [17, 8]</text>\n",
       "</g>\n",
       "<!-- 25&#45;&gt;26 -->\n",
       "<g id=\"edge26\" class=\"edge\"><title>25&#45;&gt;26</title>\n",
       "<path fill=\"none\" stroke=\"black\" d=\"M1441.12,-88.9485C1431.93,-79.709 1421.95,-69.671 1412.76,-60.4381\"/>\n",
       "<polygon fill=\"black\" stroke=\"black\" points=\"1415.13,-57.8582 1405.6,-53.2367 1410.17,-62.7948 1415.13,-57.8582\"/>\n",
       "</g>\n",
       "<!-- 27 -->\n",
       "<g id=\"node28\" class=\"node\"><title>27</title>\n",
       "<polygon fill=\"none\" stroke=\"black\" points=\"1587,-53 1465,-53 1465,-0 1587,-0 1587,-53\"/>\n",
       "<text text-anchor=\"middle\" x=\"1526\" y=\"-37.8\" font-family=\"Times,serif\" font-size=\"14.00\">entropy = 0.0</text>\n",
       "<text text-anchor=\"middle\" x=\"1526\" y=\"-22.8\" font-family=\"Times,serif\" font-size=\"14.00\">samples = 11</text>\n",
       "<text text-anchor=\"middle\" x=\"1526\" y=\"-7.8\" font-family=\"Times,serif\" font-size=\"14.00\">value = [11, 0]</text>\n",
       "</g>\n",
       "<!-- 25&#45;&gt;27 -->\n",
       "<g id=\"edge27\" class=\"edge\"><title>25&#45;&gt;27</title>\n",
       "<path fill=\"none\" stroke=\"black\" d=\"M1492.19,-88.9485C1496.97,-80.2579 1502.14,-70.8608 1506.97,-62.0917\"/>\n",
       "<polygon fill=\"black\" stroke=\"black\" points=\"1510.08,-63.6853 1511.84,-53.2367 1503.95,-60.3105 1510.08,-63.6853\"/>\n",
       "</g>\n",
       "<!-- 29 -->\n",
       "<g id=\"node30\" class=\"node\"><title>29</title>\n",
       "<polygon fill=\"none\" stroke=\"black\" points=\"1903,-157 1625,-157 1625,-89 1903,-89 1903,-157\"/>\n",
       "<text text-anchor=\"middle\" x=\"1764\" y=\"-141.8\" font-family=\"Times,serif\" font-size=\"14.00\">SavingsAccountBonds.lt.100 &lt;= 0.5</text>\n",
       "<text text-anchor=\"middle\" x=\"1764\" y=\"-126.8\" font-family=\"Times,serif\" font-size=\"14.00\">entropy = 0.928</text>\n",
       "<text text-anchor=\"middle\" x=\"1764\" y=\"-111.8\" font-family=\"Times,serif\" font-size=\"14.00\">samples = 245</text>\n",
       "<text text-anchor=\"middle\" x=\"1764\" y=\"-96.8\" font-family=\"Times,serif\" font-size=\"14.00\">value = [84, 161]</text>\n",
       "</g>\n",
       "<!-- 28&#45;&gt;29 -->\n",
       "<g id=\"edge29\" class=\"edge\"><title>28&#45;&gt;29</title>\n",
       "<path fill=\"none\" stroke=\"black\" d=\"M1827.48,-192.884C1819.19,-183.887 1810.12,-174.041 1801.49,-164.678\"/>\n",
       "<polygon fill=\"black\" stroke=\"black\" points=\"1804.04,-162.281 1794.69,-157.299 1798.89,-167.025 1804.04,-162.281\"/>\n",
       "</g>\n",
       "<!-- 32 -->\n",
       "<g id=\"node33\" class=\"node\"><title>32</title>\n",
       "<polygon fill=\"none\" stroke=\"black\" points=\"2037,-149.5 1921,-149.5 1921,-96.5 2037,-96.5 2037,-149.5\"/>\n",
       "<text text-anchor=\"middle\" x=\"1979\" y=\"-134.3\" font-family=\"Times,serif\" font-size=\"14.00\">entropy = 0.0</text>\n",
       "<text text-anchor=\"middle\" x=\"1979\" y=\"-119.3\" font-family=\"Times,serif\" font-size=\"14.00\">samples = 5</text>\n",
       "<text text-anchor=\"middle\" x=\"1979\" y=\"-104.3\" font-family=\"Times,serif\" font-size=\"14.00\">value = [5, 0]</text>\n",
       "</g>\n",
       "<!-- 28&#45;&gt;32 -->\n",
       "<g id=\"edge32\" class=\"edge\"><title>28&#45;&gt;32</title>\n",
       "<path fill=\"none\" stroke=\"black\" d=\"M1897.29,-192.884C1911.24,-181.116 1926.93,-167.894 1940.8,-156.203\"/>\n",
       "<polygon fill=\"black\" stroke=\"black\" points=\"1943.34,-158.641 1948.73,-149.52 1938.82,-153.289 1943.34,-158.641\"/>\n",
       "</g>\n",
       "<!-- 30 -->\n",
       "<g id=\"node31\" class=\"node\"><title>30</title>\n",
       "<polygon fill=\"none\" stroke=\"black\" points=\"1809,-53 1675,-53 1675,-0 1809,-0 1809,-53\"/>\n",
       "<text text-anchor=\"middle\" x=\"1742\" y=\"-37.8\" font-family=\"Times,serif\" font-size=\"14.00\">entropy = 0.776</text>\n",
       "<text text-anchor=\"middle\" x=\"1742\" y=\"-22.8\" font-family=\"Times,serif\" font-size=\"14.00\">samples = 83</text>\n",
       "<text text-anchor=\"middle\" x=\"1742\" y=\"-7.8\" font-family=\"Times,serif\" font-size=\"14.00\">value = [19, 64]</text>\n",
       "</g>\n",
       "<!-- 29&#45;&gt;30 -->\n",
       "<g id=\"edge30\" class=\"edge\"><title>29&#45;&gt;30</title>\n",
       "<path fill=\"none\" stroke=\"black\" d=\"M1756.31,-88.9485C1754.37,-80.6238 1752.28,-71.6509 1750.31,-63.2027\"/>\n",
       "<polygon fill=\"black\" stroke=\"black\" points=\"1753.67,-62.1826 1747.99,-53.2367 1746.85,-63.7699 1753.67,-62.1826\"/>\n",
       "</g>\n",
       "<!-- 31 -->\n",
       "<g id=\"node32\" class=\"node\"><title>31</title>\n",
       "<polygon fill=\"none\" stroke=\"black\" points=\"1961,-53 1827,-53 1827,-0 1961,-0 1961,-53\"/>\n",
       "<text text-anchor=\"middle\" x=\"1894\" y=\"-37.8\" font-family=\"Times,serif\" font-size=\"14.00\">entropy = 0.972</text>\n",
       "<text text-anchor=\"middle\" x=\"1894\" y=\"-22.8\" font-family=\"Times,serif\" font-size=\"14.00\">samples = 162</text>\n",
       "<text text-anchor=\"middle\" x=\"1894\" y=\"-7.8\" font-family=\"Times,serif\" font-size=\"14.00\">value = [65, 97]</text>\n",
       "</g>\n",
       "<!-- 29&#45;&gt;31 -->\n",
       "<g id=\"edge31\" class=\"edge\"><title>29&#45;&gt;31</title>\n",
       "<path fill=\"none\" stroke=\"black\" d=\"M1809.47,-88.9485C1822.68,-79.3431 1837.08,-68.8747 1850.19,-59.345\"/>\n",
       "<polygon fill=\"black\" stroke=\"black\" points=\"1852.56,-61.9477 1858.6,-53.2367 1848.45,-56.2856 1852.56,-61.9477\"/>\n",
       "</g>\n",
       "<!-- 34 -->\n",
       "<g id=\"node35\" class=\"node\"><title>34</title>\n",
       "<polygon fill=\"none\" stroke=\"black\" points=\"2311.5,-261 2102.5,-261 2102.5,-193 2311.5,-193 2311.5,-261\"/>\n",
       "<text text-anchor=\"middle\" x=\"2207\" y=\"-245.8\" font-family=\"Times,serif\" font-size=\"14.00\">ResidenceDuration &lt;= 2.5</text>\n",
       "<text text-anchor=\"middle\" x=\"2207\" y=\"-230.8\" font-family=\"Times,serif\" font-size=\"14.00\">entropy = 0.935</text>\n",
       "<text text-anchor=\"middle\" x=\"2207\" y=\"-215.8\" font-family=\"Times,serif\" font-size=\"14.00\">samples = 94</text>\n",
       "<text text-anchor=\"middle\" x=\"2207\" y=\"-200.8\" font-family=\"Times,serif\" font-size=\"14.00\">value = [61, 33]</text>\n",
       "</g>\n",
       "<!-- 33&#45;&gt;34 -->\n",
       "<g id=\"edge34\" class=\"edge\"><title>33&#45;&gt;34</title>\n",
       "<path fill=\"none\" stroke=\"black\" d=\"M2207,-296.884C2207,-288.778 2207,-279.982 2207,-271.472\"/>\n",
       "<polygon fill=\"black\" stroke=\"black\" points=\"2210.5,-271.299 2207,-261.299 2203.5,-271.299 2210.5,-271.299\"/>\n",
       "</g>\n",
       "<!-- 41 -->\n",
       "<g id=\"node42\" class=\"node\"><title>41</title>\n",
       "<polygon fill=\"none\" stroke=\"black\" points=\"2446,-253.5 2330,-253.5 2330,-200.5 2446,-200.5 2446,-253.5\"/>\n",
       "<text text-anchor=\"middle\" x=\"2388\" y=\"-238.3\" font-family=\"Times,serif\" font-size=\"14.00\">entropy = 0.0</text>\n",
       "<text text-anchor=\"middle\" x=\"2388\" y=\"-223.3\" font-family=\"Times,serif\" font-size=\"14.00\">samples = 6</text>\n",
       "<text text-anchor=\"middle\" x=\"2388\" y=\"-208.3\" font-family=\"Times,serif\" font-size=\"14.00\">value = [0, 6]</text>\n",
       "</g>\n",
       "<!-- 33&#45;&gt;41 -->\n",
       "<g id=\"edge41\" class=\"edge\"><title>33&#45;&gt;41</title>\n",
       "<path fill=\"none\" stroke=\"black\" d=\"M2265.77,-296.884C2287.62,-284.566 2312.31,-270.655 2333.74,-258.575\"/>\n",
       "<polygon fill=\"black\" stroke=\"black\" points=\"2335.72,-261.479 2342.71,-253.52 2332.28,-255.38 2335.72,-261.479\"/>\n",
       "</g>\n",
       "<!-- 35 -->\n",
       "<g id=\"node36\" class=\"node\"><title>35</title>\n",
       "<polygon fill=\"none\" stroke=\"black\" points=\"2358.5,-157 2055.5,-157 2055.5,-89 2358.5,-89 2358.5,-157\"/>\n",
       "<text text-anchor=\"middle\" x=\"2207\" y=\"-141.8\" font-family=\"Times,serif\" font-size=\"14.00\">SavingsAccountBonds.Unknown &lt;= 0.5</text>\n",
       "<text text-anchor=\"middle\" x=\"2207\" y=\"-126.8\" font-family=\"Times,serif\" font-size=\"14.00\">entropy = 1.0</text>\n",
       "<text text-anchor=\"middle\" x=\"2207\" y=\"-111.8\" font-family=\"Times,serif\" font-size=\"14.00\">samples = 44</text>\n",
       "<text text-anchor=\"middle\" x=\"2207\" y=\"-96.8\" font-family=\"Times,serif\" font-size=\"14.00\">value = [22, 22]</text>\n",
       "</g>\n",
       "<!-- 34&#45;&gt;35 -->\n",
       "<g id=\"edge35\" class=\"edge\"><title>34&#45;&gt;35</title>\n",
       "<path fill=\"none\" stroke=\"black\" d=\"M2207,-192.884C2207,-184.778 2207,-175.982 2207,-167.472\"/>\n",
       "<polygon fill=\"black\" stroke=\"black\" points=\"2210.5,-167.299 2207,-157.299 2203.5,-167.299 2210.5,-167.299\"/>\n",
       "</g>\n",
       "<!-- 38 -->\n",
       "<g id=\"node39\" class=\"node\"><title>38</title>\n",
       "<polygon fill=\"none\" stroke=\"black\" points=\"2599.5,-157 2376.5,-157 2376.5,-89 2599.5,-89 2599.5,-157\"/>\n",
       "<text text-anchor=\"middle\" x=\"2488\" y=\"-141.8\" font-family=\"Times,serif\" font-size=\"14.00\">Personal.Male.Single &lt;= 0.5</text>\n",
       "<text text-anchor=\"middle\" x=\"2488\" y=\"-126.8\" font-family=\"Times,serif\" font-size=\"14.00\">entropy = 0.76</text>\n",
       "<text text-anchor=\"middle\" x=\"2488\" y=\"-111.8\" font-family=\"Times,serif\" font-size=\"14.00\">samples = 50</text>\n",
       "<text text-anchor=\"middle\" x=\"2488\" y=\"-96.8\" font-family=\"Times,serif\" font-size=\"14.00\">value = [39, 11]</text>\n",
       "</g>\n",
       "<!-- 34&#45;&gt;38 -->\n",
       "<g id=\"edge38\" class=\"edge\"><title>34&#45;&gt;38</title>\n",
       "<path fill=\"none\" stroke=\"black\" d=\"M2298.23,-192.884C2326.6,-182.588 2358.03,-171.179 2387.02,-160.656\"/>\n",
       "<polygon fill=\"black\" stroke=\"black\" points=\"2388.54,-163.827 2396.74,-157.125 2386.15,-157.247 2388.54,-163.827\"/>\n",
       "</g>\n",
       "<!-- 36 -->\n",
       "<g id=\"node37\" class=\"node\"><title>36</title>\n",
       "<polygon fill=\"none\" stroke=\"black\" points=\"2167,-53 2033,-53 2033,-0 2167,-0 2167,-53\"/>\n",
       "<text text-anchor=\"middle\" x=\"2100\" y=\"-37.8\" font-family=\"Times,serif\" font-size=\"14.00\">entropy = 0.974</text>\n",
       "<text text-anchor=\"middle\" x=\"2100\" y=\"-22.8\" font-family=\"Times,serif\" font-size=\"14.00\">samples = 37</text>\n",
       "<text text-anchor=\"middle\" x=\"2100\" y=\"-7.8\" font-family=\"Times,serif\" font-size=\"14.00\">value = [22, 15]</text>\n",
       "</g>\n",
       "<!-- 35&#45;&gt;36 -->\n",
       "<g id=\"edge36\" class=\"edge\"><title>35&#45;&gt;36</title>\n",
       "<path fill=\"none\" stroke=\"black\" d=\"M2169.58,-88.9485C2158.91,-79.526 2147.3,-69.2731 2136.68,-59.8906\"/>\n",
       "<polygon fill=\"black\" stroke=\"black\" points=\"2138.95,-57.2331 2129.14,-53.2367 2134.32,-62.4798 2138.95,-57.2331\"/>\n",
       "</g>\n",
       "<!-- 37 -->\n",
       "<g id=\"node38\" class=\"node\"><title>37</title>\n",
       "<polygon fill=\"none\" stroke=\"black\" points=\"2301,-53 2185,-53 2185,-0 2301,-0 2301,-53\"/>\n",
       "<text text-anchor=\"middle\" x=\"2243\" y=\"-37.8\" font-family=\"Times,serif\" font-size=\"14.00\">entropy = 0.0</text>\n",
       "<text text-anchor=\"middle\" x=\"2243\" y=\"-22.8\" font-family=\"Times,serif\" font-size=\"14.00\">samples = 7</text>\n",
       "<text text-anchor=\"middle\" x=\"2243\" y=\"-7.8\" font-family=\"Times,serif\" font-size=\"14.00\">value = [0, 7]</text>\n",
       "</g>\n",
       "<!-- 35&#45;&gt;37 -->\n",
       "<g id=\"edge37\" class=\"edge\"><title>35&#45;&gt;37</title>\n",
       "<path fill=\"none\" stroke=\"black\" d=\"M2219.59,-88.9485C2222.83,-80.4408 2226.33,-71.2562 2229.61,-62.6464\"/>\n",
       "<polygon fill=\"black\" stroke=\"black\" points=\"2232.91,-63.8276 2233.2,-53.2367 2226.36,-61.3356 2232.91,-63.8276\"/>\n",
       "</g>\n",
       "<!-- 39 -->\n",
       "<g id=\"node40\" class=\"node\"><title>39</title>\n",
       "<polygon fill=\"none\" stroke=\"black\" points=\"2513,-53 2391,-53 2391,-0 2513,-0 2513,-53\"/>\n",
       "<text text-anchor=\"middle\" x=\"2452\" y=\"-37.8\" font-family=\"Times,serif\" font-size=\"14.00\">entropy = 0.0</text>\n",
       "<text text-anchor=\"middle\" x=\"2452\" y=\"-22.8\" font-family=\"Times,serif\" font-size=\"14.00\">samples = 14</text>\n",
       "<text text-anchor=\"middle\" x=\"2452\" y=\"-7.8\" font-family=\"Times,serif\" font-size=\"14.00\">value = [14, 0]</text>\n",
       "</g>\n",
       "<!-- 38&#45;&gt;39 -->\n",
       "<g id=\"edge39\" class=\"edge\"><title>38&#45;&gt;39</title>\n",
       "<path fill=\"none\" stroke=\"black\" d=\"M2475.41,-88.9485C2472.17,-80.4408 2468.67,-71.2562 2465.39,-62.6464\"/>\n",
       "<polygon fill=\"black\" stroke=\"black\" points=\"2468.64,-61.3356 2461.8,-53.2367 2462.09,-63.8276 2468.64,-61.3356\"/>\n",
       "</g>\n",
       "<!-- 40 -->\n",
       "<g id=\"node41\" class=\"node\"><title>40</title>\n",
       "<polygon fill=\"none\" stroke=\"black\" points=\"2665,-53 2531,-53 2531,-0 2665,-0 2665,-53\"/>\n",
       "<text text-anchor=\"middle\" x=\"2598\" y=\"-37.8\" font-family=\"Times,serif\" font-size=\"14.00\">entropy = 0.888</text>\n",
       "<text text-anchor=\"middle\" x=\"2598\" y=\"-22.8\" font-family=\"Times,serif\" font-size=\"14.00\">samples = 36</text>\n",
       "<text text-anchor=\"middle\" x=\"2598\" y=\"-7.8\" font-family=\"Times,serif\" font-size=\"14.00\">value = [25, 11]</text>\n",
       "</g>\n",
       "<!-- 38&#45;&gt;40 -->\n",
       "<g id=\"edge40\" class=\"edge\"><title>38&#45;&gt;40</title>\n",
       "<path fill=\"none\" stroke=\"black\" d=\"M2526.47,-88.9485C2537.44,-79.526 2549.38,-69.2731 2560.3,-59.8906\"/>\n",
       "<polygon fill=\"black\" stroke=\"black\" points=\"2562.74,-62.408 2568.04,-53.2367 2558.18,-57.0983 2562.74,-62.408\"/>\n",
       "</g>\n",
       "<!-- 43 -->\n",
       "<g id=\"node44\" class=\"node\"><title>43</title>\n",
       "<polygon fill=\"none\" stroke=\"black\" points=\"3034.5,-469 2879.5,-469 2879.5,-401 3034.5,-401 3034.5,-469\"/>\n",
       "<text text-anchor=\"middle\" x=\"2957\" y=\"-453.8\" font-family=\"Times,serif\" font-size=\"14.00\">Amount &lt;= 1784.5</text>\n",
       "<text text-anchor=\"middle\" x=\"2957\" y=\"-438.8\" font-family=\"Times,serif\" font-size=\"14.00\">entropy = 0.881</text>\n",
       "<text text-anchor=\"middle\" x=\"2957\" y=\"-423.8\" font-family=\"Times,serif\" font-size=\"14.00\">samples = 60</text>\n",
       "<text text-anchor=\"middle\" x=\"2957\" y=\"-408.8\" font-family=\"Times,serif\" font-size=\"14.00\">value = [18, 42]</text>\n",
       "</g>\n",
       "<!-- 42&#45;&gt;43 -->\n",
       "<g id=\"edge43\" class=\"edge\"><title>42&#45;&gt;43</title>\n",
       "<path fill=\"none\" stroke=\"black\" d=\"M2957,-504.884C2957,-496.778 2957,-487.982 2957,-479.472\"/>\n",
       "<polygon fill=\"black\" stroke=\"black\" points=\"2960.5,-479.299 2957,-469.299 2953.5,-479.299 2960.5,-479.299\"/>\n",
       "</g>\n",
       "<!-- 62 -->\n",
       "<g id=\"node63\" class=\"node\"><title>62</title>\n",
       "<polygon fill=\"none\" stroke=\"black\" points=\"4307,-469 4167,-469 4167,-401 4307,-401 4307,-469\"/>\n",
       "<text text-anchor=\"middle\" x=\"4237\" y=\"-453.8\" font-family=\"Times,serif\" font-size=\"14.00\">Age &lt;= 32.5</text>\n",
       "<text text-anchor=\"middle\" x=\"4237\" y=\"-438.8\" font-family=\"Times,serif\" font-size=\"14.00\">entropy = 0.404</text>\n",
       "<text text-anchor=\"middle\" x=\"4237\" y=\"-423.8\" font-family=\"Times,serif\" font-size=\"14.00\">samples = 298</text>\n",
       "<text text-anchor=\"middle\" x=\"4237\" y=\"-408.8\" font-family=\"Times,serif\" font-size=\"14.00\">value = [24, 274]</text>\n",
       "</g>\n",
       "<!-- 42&#45;&gt;62 -->\n",
       "<g id=\"edge62\" class=\"edge\"><title>42&#45;&gt;62</title>\n",
       "<path fill=\"none\" stroke=\"black\" d=\"M3096.11,-526.914C3364.03,-505.565 3943.91,-459.356 4156.65,-442.403\"/>\n",
       "<polygon fill=\"black\" stroke=\"black\" points=\"4157.11,-445.877 4166.8,-441.594 4156.56,-438.899 4157.11,-445.877\"/>\n",
       "</g>\n",
       "<!-- 44 -->\n",
       "<g id=\"node45\" class=\"node\"><title>44</title>\n",
       "<polygon fill=\"none\" stroke=\"black\" points=\"2923,-365 2695,-365 2695,-297 2923,-297 2923,-365\"/>\n",
       "<text text-anchor=\"middle\" x=\"2809\" y=\"-349.8\" font-family=\"Times,serif\" font-size=\"14.00\">CreditHistory.Critical &lt;= 0.5</text>\n",
       "<text text-anchor=\"middle\" x=\"2809\" y=\"-334.8\" font-family=\"Times,serif\" font-size=\"14.00\">entropy = 0.485</text>\n",
       "<text text-anchor=\"middle\" x=\"2809\" y=\"-319.8\" font-family=\"Times,serif\" font-size=\"14.00\">samples = 19</text>\n",
       "<text text-anchor=\"middle\" x=\"2809\" y=\"-304.8\" font-family=\"Times,serif\" font-size=\"14.00\">value = [2, 17]</text>\n",
       "</g>\n",
       "<!-- 43&#45;&gt;44 -->\n",
       "<g id=\"edge44\" class=\"edge\"><title>43&#45;&gt;44</title>\n",
       "<path fill=\"none\" stroke=\"black\" d=\"M2908.95,-400.884C2895.05,-391.304 2879.75,-380.761 2865.39,-370.864\"/>\n",
       "<polygon fill=\"black\" stroke=\"black\" points=\"2867.28,-367.918 2857.06,-365.125 2863.31,-373.681 2867.28,-367.918\"/>\n",
       "</g>\n",
       "<!-- 49 -->\n",
       "<g id=\"node50\" class=\"node\"><title>49</title>\n",
       "<polygon fill=\"none\" stroke=\"black\" points=\"3204.5,-365 3005.5,-365 3005.5,-297 3204.5,-297 3204.5,-365\"/>\n",
       "<text text-anchor=\"middle\" x=\"3105\" y=\"-349.8\" font-family=\"Times,serif\" font-size=\"14.00\">Purpose.Business &lt;= 0.5</text>\n",
       "<text text-anchor=\"middle\" x=\"3105\" y=\"-334.8\" font-family=\"Times,serif\" font-size=\"14.00\">entropy = 0.965</text>\n",
       "<text text-anchor=\"middle\" x=\"3105\" y=\"-319.8\" font-family=\"Times,serif\" font-size=\"14.00\">samples = 41</text>\n",
       "<text text-anchor=\"middle\" x=\"3105\" y=\"-304.8\" font-family=\"Times,serif\" font-size=\"14.00\">value = [16, 25]</text>\n",
       "</g>\n",
       "<!-- 43&#45;&gt;49 -->\n",
       "<g id=\"edge49\" class=\"edge\"><title>43&#45;&gt;49</title>\n",
       "<path fill=\"none\" stroke=\"black\" d=\"M3005.05,-400.884C3018.95,-391.304 3034.25,-380.761 3048.61,-370.864\"/>\n",
       "<polygon fill=\"black\" stroke=\"black\" points=\"3050.69,-373.681 3056.94,-365.125 3046.72,-367.918 3050.69,-373.681\"/>\n",
       "</g>\n",
       "<!-- 45 -->\n",
       "<g id=\"node46\" class=\"node\"><title>45</title>\n",
       "<polygon fill=\"none\" stroke=\"black\" points=\"2718,-253.5 2596,-253.5 2596,-200.5 2718,-200.5 2718,-253.5\"/>\n",
       "<text text-anchor=\"middle\" x=\"2657\" y=\"-238.3\" font-family=\"Times,serif\" font-size=\"14.00\">entropy = 0.0</text>\n",
       "<text text-anchor=\"middle\" x=\"2657\" y=\"-223.3\" font-family=\"Times,serif\" font-size=\"14.00\">samples = 15</text>\n",
       "<text text-anchor=\"middle\" x=\"2657\" y=\"-208.3\" font-family=\"Times,serif\" font-size=\"14.00\">value = [0, 15]</text>\n",
       "</g>\n",
       "<!-- 44&#45;&gt;45 -->\n",
       "<g id=\"edge45\" class=\"edge\"><title>44&#45;&gt;45</title>\n",
       "<path fill=\"none\" stroke=\"black\" d=\"M2759.65,-296.884C2741.62,-284.786 2721.3,-271.151 2703.53,-259.224\"/>\n",
       "<polygon fill=\"black\" stroke=\"black\" points=\"2705.28,-256.186 2695.03,-253.52 2701.38,-261.998 2705.28,-256.186\"/>\n",
       "</g>\n",
       "<!-- 46 -->\n",
       "<g id=\"node47\" class=\"node\"><title>46</title>\n",
       "<polygon fill=\"none\" stroke=\"black\" points=\"2882,-261 2736,-261 2736,-193 2882,-193 2882,-261\"/>\n",
       "<text text-anchor=\"middle\" x=\"2809\" y=\"-245.8\" font-family=\"Times,serif\" font-size=\"14.00\">Amount &lt;= 713.0</text>\n",
       "<text text-anchor=\"middle\" x=\"2809\" y=\"-230.8\" font-family=\"Times,serif\" font-size=\"14.00\">entropy = 1.0</text>\n",
       "<text text-anchor=\"middle\" x=\"2809\" y=\"-215.8\" font-family=\"Times,serif\" font-size=\"14.00\">samples = 4</text>\n",
       "<text text-anchor=\"middle\" x=\"2809\" y=\"-200.8\" font-family=\"Times,serif\" font-size=\"14.00\">value = [2, 2]</text>\n",
       "</g>\n",
       "<!-- 44&#45;&gt;46 -->\n",
       "<g id=\"edge46\" class=\"edge\"><title>44&#45;&gt;46</title>\n",
       "<path fill=\"none\" stroke=\"black\" d=\"M2809,-296.884C2809,-288.778 2809,-279.982 2809,-271.472\"/>\n",
       "<polygon fill=\"black\" stroke=\"black\" points=\"2812.5,-271.299 2809,-261.299 2805.5,-271.299 2812.5,-271.299\"/>\n",
       "</g>\n",
       "<!-- 47 -->\n",
       "<g id=\"node48\" class=\"node\"><title>47</title>\n",
       "<polygon fill=\"none\" stroke=\"black\" points=\"2733,-149.5 2617,-149.5 2617,-96.5 2733,-96.5 2733,-149.5\"/>\n",
       "<text text-anchor=\"middle\" x=\"2675\" y=\"-134.3\" font-family=\"Times,serif\" font-size=\"14.00\">entropy = 0.0</text>\n",
       "<text text-anchor=\"middle\" x=\"2675\" y=\"-119.3\" font-family=\"Times,serif\" font-size=\"14.00\">samples = 2</text>\n",
       "<text text-anchor=\"middle\" x=\"2675\" y=\"-104.3\" font-family=\"Times,serif\" font-size=\"14.00\">value = [0, 2]</text>\n",
       "</g>\n",
       "<!-- 46&#45;&gt;47 -->\n",
       "<g id=\"edge47\" class=\"edge\"><title>46&#45;&gt;47</title>\n",
       "<path fill=\"none\" stroke=\"black\" d=\"M2765.49,-192.884C2749.89,-181.006 2732.34,-167.646 2716.88,-155.876\"/>\n",
       "<polygon fill=\"black\" stroke=\"black\" points=\"2718.6,-152.792 2708.53,-149.52 2714.36,-158.362 2718.6,-152.792\"/>\n",
       "</g>\n",
       "<!-- 48 -->\n",
       "<g id=\"node49\" class=\"node\"><title>48</title>\n",
       "<polygon fill=\"none\" stroke=\"black\" points=\"2867,-149.5 2751,-149.5 2751,-96.5 2867,-96.5 2867,-149.5\"/>\n",
       "<text text-anchor=\"middle\" x=\"2809\" y=\"-134.3\" font-family=\"Times,serif\" font-size=\"14.00\">entropy = 0.0</text>\n",
       "<text text-anchor=\"middle\" x=\"2809\" y=\"-119.3\" font-family=\"Times,serif\" font-size=\"14.00\">samples = 2</text>\n",
       "<text text-anchor=\"middle\" x=\"2809\" y=\"-104.3\" font-family=\"Times,serif\" font-size=\"14.00\">value = [2, 0]</text>\n",
       "</g>\n",
       "<!-- 46&#45;&gt;48 -->\n",
       "<g id=\"edge48\" class=\"edge\"><title>46&#45;&gt;48</title>\n",
       "<path fill=\"none\" stroke=\"black\" d=\"M2809,-192.884C2809,-182.326 2809,-170.597 2809,-159.854\"/>\n",
       "<polygon fill=\"black\" stroke=\"black\" points=\"2812.5,-159.52 2809,-149.52 2805.5,-159.52 2812.5,-159.52\"/>\n",
       "</g>\n",
       "<!-- 50 -->\n",
       "<g id=\"node51\" class=\"node\"><title>50</title>\n",
       "<polygon fill=\"none\" stroke=\"black\" points=\"3202,-261 3008,-261 3008,-193 3202,-193 3202,-261\"/>\n",
       "<text text-anchor=\"middle\" x=\"3105\" y=\"-245.8\" font-family=\"Times,serif\" font-size=\"14.00\">Purpose.NewCar &lt;= 0.5</text>\n",
       "<text text-anchor=\"middle\" x=\"3105\" y=\"-230.8\" font-family=\"Times,serif\" font-size=\"14.00\">entropy = 0.885</text>\n",
       "<text text-anchor=\"middle\" x=\"3105\" y=\"-215.8\" font-family=\"Times,serif\" font-size=\"14.00\">samples = 33</text>\n",
       "<text text-anchor=\"middle\" x=\"3105\" y=\"-200.8\" font-family=\"Times,serif\" font-size=\"14.00\">value = [10, 23]</text>\n",
       "</g>\n",
       "<!-- 49&#45;&gt;50 -->\n",
       "<g id=\"edge50\" class=\"edge\"><title>49&#45;&gt;50</title>\n",
       "<path fill=\"none\" stroke=\"black\" d=\"M3105,-296.884C3105,-288.778 3105,-279.982 3105,-271.472\"/>\n",
       "<polygon fill=\"black\" stroke=\"black\" points=\"3108.5,-271.299 3105,-261.299 3101.5,-271.299 3108.5,-271.299\"/>\n",
       "</g>\n",
       "<!-- 57 -->\n",
       "<g id=\"node58\" class=\"node\"><title>57</title>\n",
       "<polygon fill=\"none\" stroke=\"black\" points=\"3526.5,-261 3303.5,-261 3303.5,-193 3526.5,-193 3526.5,-261\"/>\n",
       "<text text-anchor=\"middle\" x=\"3415\" y=\"-245.8\" font-family=\"Times,serif\" font-size=\"14.00\">Personal.Male.Single &lt;= 0.5</text>\n",
       "<text text-anchor=\"middle\" x=\"3415\" y=\"-230.8\" font-family=\"Times,serif\" font-size=\"14.00\">entropy = 0.811</text>\n",
       "<text text-anchor=\"middle\" x=\"3415\" y=\"-215.8\" font-family=\"Times,serif\" font-size=\"14.00\">samples = 8</text>\n",
       "<text text-anchor=\"middle\" x=\"3415\" y=\"-200.8\" font-family=\"Times,serif\" font-size=\"14.00\">value = [6, 2]</text>\n",
       "</g>\n",
       "<!-- 49&#45;&gt;57 -->\n",
       "<g id=\"edge57\" class=\"edge\"><title>49&#45;&gt;57</title>\n",
       "<path fill=\"none\" stroke=\"black\" d=\"M3204.79,-297.165C3236.77,-286.643 3272.35,-274.935 3305.02,-264.188\"/>\n",
       "<polygon fill=\"black\" stroke=\"black\" points=\"3306.19,-267.486 3314.6,-261.036 3304,-260.836 3306.19,-267.486\"/>\n",
       "</g>\n",
       "<!-- 51 -->\n",
       "<g id=\"node52\" class=\"node\"><title>51</title>\n",
       "<polygon fill=\"none\" stroke=\"black\" points=\"3040.5,-157 2885.5,-157 2885.5,-89 3040.5,-89 3040.5,-157\"/>\n",
       "<text text-anchor=\"middle\" x=\"2963\" y=\"-141.8\" font-family=\"Times,serif\" font-size=\"14.00\">Amount &lt;= 1901.5</text>\n",
       "<text text-anchor=\"middle\" x=\"2963\" y=\"-126.8\" font-family=\"Times,serif\" font-size=\"14.00\">entropy = 0.706</text>\n",
       "<text text-anchor=\"middle\" x=\"2963\" y=\"-111.8\" font-family=\"Times,serif\" font-size=\"14.00\">samples = 26</text>\n",
       "<text text-anchor=\"middle\" x=\"2963\" y=\"-96.8\" font-family=\"Times,serif\" font-size=\"14.00\">value = [5, 21]</text>\n",
       "</g>\n",
       "<!-- 50&#45;&gt;51 -->\n",
       "<g id=\"edge51\" class=\"edge\"><title>50&#45;&gt;51</title>\n",
       "<path fill=\"none\" stroke=\"black\" d=\"M3058.9,-192.884C3045.75,-183.442 3031.3,-173.064 3017.7,-163.292\"/>\n",
       "<polygon fill=\"black\" stroke=\"black\" points=\"3019.52,-160.291 3009.36,-157.299 3015.44,-165.976 3019.52,-160.291\"/>\n",
       "</g>\n",
       "<!-- 54 -->\n",
       "<g id=\"node55\" class=\"node\"><title>54</title>\n",
       "<polygon fill=\"none\" stroke=\"black\" points=\"3277.5,-157 3058.5,-157 3058.5,-89 3277.5,-89 3277.5,-157\"/>\n",
       "<text text-anchor=\"middle\" x=\"3168\" y=\"-141.8\" font-family=\"Times,serif\" font-size=\"14.00\">Job.SkilledEmployee &lt;= 0.5</text>\n",
       "<text text-anchor=\"middle\" x=\"3168\" y=\"-126.8\" font-family=\"Times,serif\" font-size=\"14.00\">entropy = 0.863</text>\n",
       "<text text-anchor=\"middle\" x=\"3168\" y=\"-111.8\" font-family=\"Times,serif\" font-size=\"14.00\">samples = 7</text>\n",
       "<text text-anchor=\"middle\" x=\"3168\" y=\"-96.8\" font-family=\"Times,serif\" font-size=\"14.00\">value = [5, 2]</text>\n",
       "</g>\n",
       "<!-- 50&#45;&gt;54 -->\n",
       "<g id=\"edge54\" class=\"edge\"><title>50&#45;&gt;54</title>\n",
       "<path fill=\"none\" stroke=\"black\" d=\"M3125.45,-192.884C3130.74,-184.332 3136.49,-175.013 3142.01,-166.072\"/>\n",
       "<polygon fill=\"black\" stroke=\"black\" points=\"3145.16,-167.647 3147.43,-157.299 3139.2,-163.968 3145.16,-167.647\"/>\n",
       "</g>\n",
       "<!-- 52 -->\n",
       "<g id=\"node53\" class=\"node\"><title>52</title>\n",
       "<polygon fill=\"none\" stroke=\"black\" points=\"2881,-53 2765,-53 2765,-0 2881,-0 2881,-53\"/>\n",
       "<text text-anchor=\"middle\" x=\"2823\" y=\"-37.8\" font-family=\"Times,serif\" font-size=\"14.00\">entropy = 0.0</text>\n",
       "<text text-anchor=\"middle\" x=\"2823\" y=\"-22.8\" font-family=\"Times,serif\" font-size=\"14.00\">samples = 1</text>\n",
       "<text text-anchor=\"middle\" x=\"2823\" y=\"-7.8\" font-family=\"Times,serif\" font-size=\"14.00\">value = [1, 0]</text>\n",
       "</g>\n",
       "<!-- 51&#45;&gt;52 -->\n",
       "<g id=\"edge52\" class=\"edge\"><title>51&#45;&gt;52</title>\n",
       "<path fill=\"none\" stroke=\"black\" d=\"M2914.03,-88.9485C2899.67,-79.2516 2884,-68.6752 2869.77,-59.073\"/>\n",
       "<polygon fill=\"black\" stroke=\"black\" points=\"2871.38,-55.9305 2861.13,-53.2367 2867.46,-61.7325 2871.38,-55.9305\"/>\n",
       "</g>\n",
       "<!-- 53 -->\n",
       "<g id=\"node54\" class=\"node\"><title>53</title>\n",
       "<polygon fill=\"none\" stroke=\"black\" points=\"3033,-53 2899,-53 2899,-0 3033,-0 3033,-53\"/>\n",
       "<text text-anchor=\"middle\" x=\"2966\" y=\"-37.8\" font-family=\"Times,serif\" font-size=\"14.00\">entropy = 0.634</text>\n",
       "<text text-anchor=\"middle\" x=\"2966\" y=\"-22.8\" font-family=\"Times,serif\" font-size=\"14.00\">samples = 25</text>\n",
       "<text text-anchor=\"middle\" x=\"2966\" y=\"-7.8\" font-family=\"Times,serif\" font-size=\"14.00\">value = [4, 21]</text>\n",
       "</g>\n",
       "<!-- 51&#45;&gt;53 -->\n",
       "<g id=\"edge53\" class=\"edge\"><title>51&#45;&gt;53</title>\n",
       "<path fill=\"none\" stroke=\"black\" d=\"M2964.05,-88.9485C2964.31,-80.7153 2964.59,-71.848 2964.86,-63.4814\"/>\n",
       "<polygon fill=\"black\" stroke=\"black\" points=\"2968.36,-63.3428 2965.18,-53.2367 2961.37,-63.1206 2968.36,-63.3428\"/>\n",
       "</g>\n",
       "<!-- 55 -->\n",
       "<g id=\"node56\" class=\"node\"><title>55</title>\n",
       "<polygon fill=\"none\" stroke=\"black\" points=\"3191,-53 3057,-53 3057,-0 3191,-0 3191,-53\"/>\n",
       "<text text-anchor=\"middle\" x=\"3124\" y=\"-37.8\" font-family=\"Times,serif\" font-size=\"14.00\">entropy = 0.918</text>\n",
       "<text text-anchor=\"middle\" x=\"3124\" y=\"-22.8\" font-family=\"Times,serif\" font-size=\"14.00\">samples = 3</text>\n",
       "<text text-anchor=\"middle\" x=\"3124\" y=\"-7.8\" font-family=\"Times,serif\" font-size=\"14.00\">value = [1, 2]</text>\n",
       "</g>\n",
       "<!-- 54&#45;&gt;55 -->\n",
       "<g id=\"edge55\" class=\"edge\"><title>54&#45;&gt;55</title>\n",
       "<path fill=\"none\" stroke=\"black\" d=\"M3152.61,-88.9485C3148.61,-80.3494 3144.28,-71.0586 3140.24,-62.3689\"/>\n",
       "<polygon fill=\"black\" stroke=\"black\" points=\"3143.38,-60.8249 3135.98,-53.2367 3137.03,-63.7796 3143.38,-60.8249\"/>\n",
       "</g>\n",
       "<!-- 56 -->\n",
       "<g id=\"node57\" class=\"node\"><title>56</title>\n",
       "<polygon fill=\"none\" stroke=\"black\" points=\"3325,-53 3209,-53 3209,-0 3325,-0 3325,-53\"/>\n",
       "<text text-anchor=\"middle\" x=\"3267\" y=\"-37.8\" font-family=\"Times,serif\" font-size=\"14.00\">entropy = 0.0</text>\n",
       "<text text-anchor=\"middle\" x=\"3267\" y=\"-22.8\" font-family=\"Times,serif\" font-size=\"14.00\">samples = 4</text>\n",
       "<text text-anchor=\"middle\" x=\"3267\" y=\"-7.8\" font-family=\"Times,serif\" font-size=\"14.00\">value = [4, 0]</text>\n",
       "</g>\n",
       "<!-- 54&#45;&gt;56 -->\n",
       "<g id=\"edge56\" class=\"edge\"><title>54&#45;&gt;56</title>\n",
       "<path fill=\"none\" stroke=\"black\" d=\"M3202.63,-88.9485C3212.4,-79.6175 3223.03,-69.4722 3232.78,-60.1641\"/>\n",
       "<polygon fill=\"black\" stroke=\"black\" points=\"3235.22,-62.6732 3240.04,-53.2367 3230.39,-57.6097 3235.22,-62.6732\"/>\n",
       "</g>\n",
       "<!-- 58 -->\n",
       "<g id=\"node59\" class=\"node\"><title>58</title>\n",
       "<polygon fill=\"none\" stroke=\"black\" points=\"3534,-157 3296,-157 3296,-89 3534,-89 3534,-157\"/>\n",
       "<text text-anchor=\"middle\" x=\"3415\" y=\"-141.8\" font-family=\"Times,serif\" font-size=\"14.00\">CreditHistory.PaidDuly &lt;= 0.5</text>\n",
       "<text text-anchor=\"middle\" x=\"3415\" y=\"-126.8\" font-family=\"Times,serif\" font-size=\"14.00\">entropy = 0.918</text>\n",
       "<text text-anchor=\"middle\" x=\"3415\" y=\"-111.8\" font-family=\"Times,serif\" font-size=\"14.00\">samples = 3</text>\n",
       "<text text-anchor=\"middle\" x=\"3415\" y=\"-96.8\" font-family=\"Times,serif\" font-size=\"14.00\">value = [1, 2]</text>\n",
       "</g>\n",
       "<!-- 57&#45;&gt;58 -->\n",
       "<g id=\"edge58\" class=\"edge\"><title>57&#45;&gt;58</title>\n",
       "<path fill=\"none\" stroke=\"black\" d=\"M3415,-192.884C3415,-184.778 3415,-175.982 3415,-167.472\"/>\n",
       "<polygon fill=\"black\" stroke=\"black\" points=\"3418.5,-167.299 3415,-157.299 3411.5,-167.299 3418.5,-167.299\"/>\n",
       "</g>\n",
       "<!-- 61 -->\n",
       "<g id=\"node62\" class=\"node\"><title>61</title>\n",
       "<polygon fill=\"none\" stroke=\"black\" points=\"3668,-149.5 3552,-149.5 3552,-96.5 3668,-96.5 3668,-149.5\"/>\n",
       "<text text-anchor=\"middle\" x=\"3610\" y=\"-134.3\" font-family=\"Times,serif\" font-size=\"14.00\">entropy = 0.0</text>\n",
       "<text text-anchor=\"middle\" x=\"3610\" y=\"-119.3\" font-family=\"Times,serif\" font-size=\"14.00\">samples = 5</text>\n",
       "<text text-anchor=\"middle\" x=\"3610\" y=\"-104.3\" font-family=\"Times,serif\" font-size=\"14.00\">value = [5, 0]</text>\n",
       "</g>\n",
       "<!-- 57&#45;&gt;61 -->\n",
       "<g id=\"edge61\" class=\"edge\"><title>57&#45;&gt;61</title>\n",
       "<path fill=\"none\" stroke=\"black\" d=\"M3478.31,-192.884C3502.07,-180.456 3528.93,-166.406 3552.17,-154.252\"/>\n",
       "<polygon fill=\"black\" stroke=\"black\" points=\"3553.97,-157.256 3561.21,-149.52 3550.73,-151.054 3553.97,-157.256\"/>\n",
       "</g>\n",
       "<!-- 59 -->\n",
       "<g id=\"node60\" class=\"node\"><title>59</title>\n",
       "<polygon fill=\"none\" stroke=\"black\" points=\"3470,-53 3354,-53 3354,-0 3470,-0 3470,-53\"/>\n",
       "<text text-anchor=\"middle\" x=\"3412\" y=\"-37.8\" font-family=\"Times,serif\" font-size=\"14.00\">entropy = 0.0</text>\n",
       "<text text-anchor=\"middle\" x=\"3412\" y=\"-22.8\" font-family=\"Times,serif\" font-size=\"14.00\">samples = 2</text>\n",
       "<text text-anchor=\"middle\" x=\"3412\" y=\"-7.8\" font-family=\"Times,serif\" font-size=\"14.00\">value = [0, 2]</text>\n",
       "</g>\n",
       "<!-- 58&#45;&gt;59 -->\n",
       "<g id=\"edge59\" class=\"edge\"><title>58&#45;&gt;59</title>\n",
       "<path fill=\"none\" stroke=\"black\" d=\"M3413.95,-88.9485C3413.69,-80.7153 3413.41,-71.848 3413.14,-63.4814\"/>\n",
       "<polygon fill=\"black\" stroke=\"black\" points=\"3416.63,-63.1206 3412.82,-53.2367 3409.64,-63.3428 3416.63,-63.1206\"/>\n",
       "</g>\n",
       "<!-- 60 -->\n",
       "<g id=\"node61\" class=\"node\"><title>60</title>\n",
       "<polygon fill=\"none\" stroke=\"black\" points=\"3604,-53 3488,-53 3488,-0 3604,-0 3604,-53\"/>\n",
       "<text text-anchor=\"middle\" x=\"3546\" y=\"-37.8\" font-family=\"Times,serif\" font-size=\"14.00\">entropy = 0.0</text>\n",
       "<text text-anchor=\"middle\" x=\"3546\" y=\"-22.8\" font-family=\"Times,serif\" font-size=\"14.00\">samples = 1</text>\n",
       "<text text-anchor=\"middle\" x=\"3546\" y=\"-7.8\" font-family=\"Times,serif\" font-size=\"14.00\">value = [1, 0]</text>\n",
       "</g>\n",
       "<!-- 58&#45;&gt;60 -->\n",
       "<g id=\"edge60\" class=\"edge\"><title>58&#45;&gt;60</title>\n",
       "<path fill=\"none\" stroke=\"black\" d=\"M3460.82,-88.9485C3474.13,-79.3431 3488.64,-68.8747 3501.86,-59.345\"/>\n",
       "<polygon fill=\"black\" stroke=\"black\" points=\"3504.26,-61.9257 3510.32,-53.2367 3500.16,-56.2486 3504.26,-61.9257\"/>\n",
       "</g>\n",
       "<!-- 63 -->\n",
       "<g id=\"node64\" class=\"node\"><title>63</title>\n",
       "<polygon fill=\"none\" stroke=\"black\" points=\"4314.5,-365 4159.5,-365 4159.5,-297 4314.5,-297 4314.5,-365\"/>\n",
       "<text text-anchor=\"middle\" x=\"4237\" y=\"-349.8\" font-family=\"Times,serif\" font-size=\"14.00\">Amount &lt;= 6465.5</text>\n",
       "<text text-anchor=\"middle\" x=\"4237\" y=\"-334.8\" font-family=\"Times,serif\" font-size=\"14.00\">entropy = 0.614</text>\n",
       "<text text-anchor=\"middle\" x=\"4237\" y=\"-319.8\" font-family=\"Times,serif\" font-size=\"14.00\">samples = 132</text>\n",
       "<text text-anchor=\"middle\" x=\"4237\" y=\"-304.8\" font-family=\"Times,serif\" font-size=\"14.00\">value = [20, 112]</text>\n",
       "</g>\n",
       "<!-- 62&#45;&gt;63 -->\n",
       "<g id=\"edge63\" class=\"edge\"><title>62&#45;&gt;63</title>\n",
       "<path fill=\"none\" stroke=\"black\" d=\"M4237,-400.884C4237,-392.778 4237,-383.982 4237,-375.472\"/>\n",
       "<polygon fill=\"black\" stroke=\"black\" points=\"4240.5,-375.299 4237,-365.299 4233.5,-375.299 4240.5,-375.299\"/>\n",
       "</g>\n",
       "<!-- 76 -->\n",
       "<g id=\"node77\" class=\"node\"><title>76</title>\n",
       "<polygon fill=\"none\" stroke=\"black\" points=\"4638,-365 4504,-365 4504,-297 4638,-297 4638,-365\"/>\n",
       "<text text-anchor=\"middle\" x=\"4571\" y=\"-349.8\" font-family=\"Times,serif\" font-size=\"14.00\">Age &lt;= 42.5</text>\n",
       "<text text-anchor=\"middle\" x=\"4571\" y=\"-334.8\" font-family=\"Times,serif\" font-size=\"14.00\">entropy = 0.164</text>\n",
       "<text text-anchor=\"middle\" x=\"4571\" y=\"-319.8\" font-family=\"Times,serif\" font-size=\"14.00\">samples = 166</text>\n",
       "<text text-anchor=\"middle\" x=\"4571\" y=\"-304.8\" font-family=\"Times,serif\" font-size=\"14.00\">value = [4, 162]</text>\n",
       "</g>\n",
       "<!-- 62&#45;&gt;76 -->\n",
       "<g id=\"edge76\" class=\"edge\"><title>62&#45;&gt;76</title>\n",
       "<path fill=\"none\" stroke=\"black\" d=\"M4307.02,-412.617C4361.81,-395.885 4437.91,-372.643 4494.34,-355.412\"/>\n",
       "<polygon fill=\"black\" stroke=\"black\" points=\"4495.38,-358.753 4503.92,-352.485 4493.34,-352.058 4495.38,-358.753\"/>\n",
       "</g>\n",
       "<!-- 64 -->\n",
       "<g id=\"node65\" class=\"node\"><title>64</title>\n",
       "<polygon fill=\"none\" stroke=\"black\" points=\"4188,-261 4048,-261 4048,-193 4188,-193 4188,-261\"/>\n",
       "<text text-anchor=\"middle\" x=\"4118\" y=\"-245.8\" font-family=\"Times,serif\" font-size=\"14.00\">Age &lt;= 22.5</text>\n",
       "<text text-anchor=\"middle\" x=\"4118\" y=\"-230.8\" font-family=\"Times,serif\" font-size=\"14.00\">entropy = 0.538</text>\n",
       "<text text-anchor=\"middle\" x=\"4118\" y=\"-215.8\" font-family=\"Times,serif\" font-size=\"14.00\">samples = 122</text>\n",
       "<text text-anchor=\"middle\" x=\"4118\" y=\"-200.8\" font-family=\"Times,serif\" font-size=\"14.00\">value = [15, 107]</text>\n",
       "</g>\n",
       "<!-- 63&#45;&gt;64 -->\n",
       "<g id=\"edge64\" class=\"edge\"><title>63&#45;&gt;64</title>\n",
       "<path fill=\"none\" stroke=\"black\" d=\"M4198.36,-296.884C4187.56,-287.62 4175.7,-277.455 4164.49,-267.845\"/>\n",
       "<polygon fill=\"black\" stroke=\"black\" points=\"4166.72,-265.15 4156.85,-261.299 4162.16,-270.465 4166.72,-265.15\"/>\n",
       "</g>\n",
       "<!-- 71 -->\n",
       "<g id=\"node72\" class=\"node\"><title>71</title>\n",
       "<polygon fill=\"none\" stroke=\"black\" points=\"4492,-261 4220,-261 4220,-193 4492,-193 4492,-261\"/>\n",
       "<text text-anchor=\"middle\" x=\"4356\" y=\"-245.8\" font-family=\"Times,serif\" font-size=\"14.00\">EmploymentDuration.4.to.7 &lt;= 0.5</text>\n",
       "<text text-anchor=\"middle\" x=\"4356\" y=\"-230.8\" font-family=\"Times,serif\" font-size=\"14.00\">entropy = 1.0</text>\n",
       "<text text-anchor=\"middle\" x=\"4356\" y=\"-215.8\" font-family=\"Times,serif\" font-size=\"14.00\">samples = 10</text>\n",
       "<text text-anchor=\"middle\" x=\"4356\" y=\"-200.8\" font-family=\"Times,serif\" font-size=\"14.00\">value = [5, 5]</text>\n",
       "</g>\n",
       "<!-- 63&#45;&gt;71 -->\n",
       "<g id=\"edge71\" class=\"edge\"><title>63&#45;&gt;71</title>\n",
       "<path fill=\"none\" stroke=\"black\" d=\"M4275.64,-296.884C4286.44,-287.62 4298.3,-277.455 4309.51,-267.845\"/>\n",
       "<polygon fill=\"black\" stroke=\"black\" points=\"4311.84,-270.465 4317.15,-261.299 4307.28,-265.15 4311.84,-270.465\"/>\n",
       "</g>\n",
       "<!-- 65 -->\n",
       "<g id=\"node66\" class=\"node\"><title>65</title>\n",
       "<polygon fill=\"none\" stroke=\"black\" points=\"3964,-157 3686,-157 3686,-89 3964,-89 3964,-157\"/>\n",
       "<text text-anchor=\"middle\" x=\"3825\" y=\"-141.8\" font-family=\"Times,serif\" font-size=\"14.00\">SavingsAccountBonds.lt.100 &lt;= 0.5</text>\n",
       "<text text-anchor=\"middle\" x=\"3825\" y=\"-126.8\" font-family=\"Times,serif\" font-size=\"14.00\">entropy = 0.98</text>\n",
       "<text text-anchor=\"middle\" x=\"3825\" y=\"-111.8\" font-family=\"Times,serif\" font-size=\"14.00\">samples = 12</text>\n",
       "<text text-anchor=\"middle\" x=\"3825\" y=\"-96.8\" font-family=\"Times,serif\" font-size=\"14.00\">value = [5, 7]</text>\n",
       "</g>\n",
       "<!-- 64&#45;&gt;65 -->\n",
       "<g id=\"edge65\" class=\"edge\"><title>64&#45;&gt;65</title>\n",
       "<path fill=\"none\" stroke=\"black\" d=\"M4047.82,-201.568C4012.47,-189.262 3968.89,-174.092 3929.68,-160.441\"/>\n",
       "<polygon fill=\"black\" stroke=\"black\" points=\"3930.41,-156.988 3919.81,-157.006 3928.11,-163.599 3930.41,-156.988\"/>\n",
       "</g>\n",
       "<!-- 68 -->\n",
       "<g id=\"node69\" class=\"node\"><title>68</title>\n",
       "<polygon fill=\"none\" stroke=\"black\" points=\"4254,-157 3982,-157 3982,-89 4254,-89 4254,-157\"/>\n",
       "<text text-anchor=\"middle\" x=\"4118\" y=\"-141.8\" font-family=\"Times,serif\" font-size=\"14.00\">EmploymentDuration.4.to.7 &lt;= 0.5</text>\n",
       "<text text-anchor=\"middle\" x=\"4118\" y=\"-126.8\" font-family=\"Times,serif\" font-size=\"14.00\">entropy = 0.439</text>\n",
       "<text text-anchor=\"middle\" x=\"4118\" y=\"-111.8\" font-family=\"Times,serif\" font-size=\"14.00\">samples = 110</text>\n",
       "<text text-anchor=\"middle\" x=\"4118\" y=\"-96.8\" font-family=\"Times,serif\" font-size=\"14.00\">value = [10, 100]</text>\n",
       "</g>\n",
       "<!-- 64&#45;&gt;68 -->\n",
       "<g id=\"edge68\" class=\"edge\"><title>64&#45;&gt;68</title>\n",
       "<path fill=\"none\" stroke=\"black\" d=\"M4118,-192.884C4118,-184.778 4118,-175.982 4118,-167.472\"/>\n",
       "<polygon fill=\"black\" stroke=\"black\" points=\"4121.5,-167.299 4118,-157.299 4114.5,-167.299 4121.5,-167.299\"/>\n",
       "</g>\n",
       "<!-- 66 -->\n",
       "<g id=\"node67\" class=\"node\"><title>66</title>\n",
       "<polygon fill=\"none\" stroke=\"black\" points=\"3758,-53 3642,-53 3642,-0 3758,-0 3758,-53\"/>\n",
       "<text text-anchor=\"middle\" x=\"3700\" y=\"-37.8\" font-family=\"Times,serif\" font-size=\"14.00\">entropy = 0.0</text>\n",
       "<text text-anchor=\"middle\" x=\"3700\" y=\"-22.8\" font-family=\"Times,serif\" font-size=\"14.00\">samples = 4</text>\n",
       "<text text-anchor=\"middle\" x=\"3700\" y=\"-7.8\" font-family=\"Times,serif\" font-size=\"14.00\">value = [0, 4]</text>\n",
       "</g>\n",
       "<!-- 65&#45;&gt;66 -->\n",
       "<g id=\"edge66\" class=\"edge\"><title>65&#45;&gt;66</title>\n",
       "<path fill=\"none\" stroke=\"black\" d=\"M3781.28,-88.9485C3768.58,-79.3431 3754.73,-68.8747 3742.12,-59.345\"/>\n",
       "<polygon fill=\"black\" stroke=\"black\" points=\"3744.13,-56.4754 3734.04,-53.2367 3739.91,-62.0593 3744.13,-56.4754\"/>\n",
       "</g>\n",
       "<!-- 67 -->\n",
       "<g id=\"node68\" class=\"node\"><title>67</title>\n",
       "<polygon fill=\"none\" stroke=\"black\" points=\"3910,-53 3776,-53 3776,-0 3910,-0 3910,-53\"/>\n",
       "<text text-anchor=\"middle\" x=\"3843\" y=\"-37.8\" font-family=\"Times,serif\" font-size=\"14.00\">entropy = 0.954</text>\n",
       "<text text-anchor=\"middle\" x=\"3843\" y=\"-22.8\" font-family=\"Times,serif\" font-size=\"14.00\">samples = 8</text>\n",
       "<text text-anchor=\"middle\" x=\"3843\" y=\"-7.8\" font-family=\"Times,serif\" font-size=\"14.00\">value = [5, 3]</text>\n",
       "</g>\n",
       "<!-- 65&#45;&gt;67 -->\n",
       "<g id=\"edge67\" class=\"edge\"><title>65&#45;&gt;67</title>\n",
       "<path fill=\"none\" stroke=\"black\" d=\"M3831.3,-88.9485C3832.88,-80.6238 3834.59,-71.6509 3836.2,-63.2027\"/>\n",
       "<polygon fill=\"black\" stroke=\"black\" points=\"3839.66,-63.715 3838.1,-53.2367 3832.79,-62.4052 3839.66,-63.715\"/>\n",
       "</g>\n",
       "<!-- 69 -->\n",
       "<g id=\"node70\" class=\"node\"><title>69</title>\n",
       "<polygon fill=\"none\" stroke=\"black\" points=\"4074,-53 3940,-53 3940,-0 4074,-0 4074,-53\"/>\n",
       "<text text-anchor=\"middle\" x=\"4007\" y=\"-37.8\" font-family=\"Times,serif\" font-size=\"14.00\">entropy = 0.507</text>\n",
       "<text text-anchor=\"middle\" x=\"4007\" y=\"-22.8\" font-family=\"Times,serif\" font-size=\"14.00\">samples = 89</text>\n",
       "<text text-anchor=\"middle\" x=\"4007\" y=\"-7.8\" font-family=\"Times,serif\" font-size=\"14.00\">value = [10, 79]</text>\n",
       "</g>\n",
       "<!-- 68&#45;&gt;69 -->\n",
       "<g id=\"edge69\" class=\"edge\"><title>68&#45;&gt;69</title>\n",
       "<path fill=\"none\" stroke=\"black\" d=\"M4079.18,-88.9485C4068.11,-79.526 4056.07,-69.2731 4045.05,-59.8906\"/>\n",
       "<polygon fill=\"black\" stroke=\"black\" points=\"4047.11,-57.0542 4037.23,-53.2367 4042.58,-62.3842 4047.11,-57.0542\"/>\n",
       "</g>\n",
       "<!-- 70 -->\n",
       "<g id=\"node71\" class=\"node\"><title>70</title>\n",
       "<polygon fill=\"none\" stroke=\"black\" points=\"4214,-53 4092,-53 4092,-0 4214,-0 4214,-53\"/>\n",
       "<text text-anchor=\"middle\" x=\"4153\" y=\"-37.8\" font-family=\"Times,serif\" font-size=\"14.00\">entropy = 0.0</text>\n",
       "<text text-anchor=\"middle\" x=\"4153\" y=\"-22.8\" font-family=\"Times,serif\" font-size=\"14.00\">samples = 21</text>\n",
       "<text text-anchor=\"middle\" x=\"4153\" y=\"-7.8\" font-family=\"Times,serif\" font-size=\"14.00\">value = [0, 21]</text>\n",
       "</g>\n",
       "<!-- 68&#45;&gt;70 -->\n",
       "<g id=\"edge70\" class=\"edge\"><title>68&#45;&gt;70</title>\n",
       "<path fill=\"none\" stroke=\"black\" d=\"M4130.24,-88.9485C4133.39,-80.4408 4136.79,-71.2562 4139.98,-62.6464\"/>\n",
       "<polygon fill=\"black\" stroke=\"black\" points=\"4143.28,-63.8298 4143.47,-53.2367 4136.71,-61.3986 4143.28,-63.8298\"/>\n",
       "</g>\n",
       "<!-- 72 -->\n",
       "<g id=\"node73\" class=\"node\"><title>72</title>\n",
       "<polygon fill=\"none\" stroke=\"black\" points=\"4469.5,-157 4272.5,-157 4272.5,-89 4469.5,-89 4469.5,-157\"/>\n",
       "<text text-anchor=\"middle\" x=\"4371\" y=\"-141.8\" font-family=\"Times,serif\" font-size=\"14.00\">Purpose.UsedCar &lt;= 0.5</text>\n",
       "<text text-anchor=\"middle\" x=\"4371\" y=\"-126.8\" font-family=\"Times,serif\" font-size=\"14.00\">entropy = 0.863</text>\n",
       "<text text-anchor=\"middle\" x=\"4371\" y=\"-111.8\" font-family=\"Times,serif\" font-size=\"14.00\">samples = 7</text>\n",
       "<text text-anchor=\"middle\" x=\"4371\" y=\"-96.8\" font-family=\"Times,serif\" font-size=\"14.00\">value = [5, 2]</text>\n",
       "</g>\n",
       "<!-- 71&#45;&gt;72 -->\n",
       "<g id=\"edge72\" class=\"edge\"><title>71&#45;&gt;72</title>\n",
       "<path fill=\"none\" stroke=\"black\" d=\"M4360.87,-192.884C4362.06,-184.778 4363.36,-175.982 4364.61,-167.472\"/>\n",
       "<polygon fill=\"black\" stroke=\"black\" points=\"4368.11,-167.702 4366.1,-157.299 4361.19,-166.684 4368.11,-167.702\"/>\n",
       "</g>\n",
       "<!-- 75 -->\n",
       "<g id=\"node76\" class=\"node\"><title>75</title>\n",
       "<polygon fill=\"none\" stroke=\"black\" points=\"4604,-149.5 4488,-149.5 4488,-96.5 4604,-96.5 4604,-149.5\"/>\n",
       "<text text-anchor=\"middle\" x=\"4546\" y=\"-134.3\" font-family=\"Times,serif\" font-size=\"14.00\">entropy = 0.0</text>\n",
       "<text text-anchor=\"middle\" x=\"4546\" y=\"-119.3\" font-family=\"Times,serif\" font-size=\"14.00\">samples = 3</text>\n",
       "<text text-anchor=\"middle\" x=\"4546\" y=\"-104.3\" font-family=\"Times,serif\" font-size=\"14.00\">value = [0, 3]</text>\n",
       "</g>\n",
       "<!-- 71&#45;&gt;75 -->\n",
       "<g id=\"edge75\" class=\"edge\"><title>71&#45;&gt;75</title>\n",
       "<path fill=\"none\" stroke=\"black\" d=\"M4417.69,-192.884C4440.84,-180.456 4467.01,-166.406 4489.65,-154.252\"/>\n",
       "<polygon fill=\"black\" stroke=\"black\" points=\"4491.31,-157.334 4498.46,-149.52 4488,-151.166 4491.31,-157.334\"/>\n",
       "</g>\n",
       "<!-- 73 -->\n",
       "<g id=\"node74\" class=\"node\"><title>73</title>\n",
       "<polygon fill=\"none\" stroke=\"black\" points=\"4372,-53 4256,-53 4256,-0 4372,-0 4372,-53\"/>\n",
       "<text text-anchor=\"middle\" x=\"4314\" y=\"-37.8\" font-family=\"Times,serif\" font-size=\"14.00\">entropy = 0.0</text>\n",
       "<text text-anchor=\"middle\" x=\"4314\" y=\"-22.8\" font-family=\"Times,serif\" font-size=\"14.00\">samples = 5</text>\n",
       "<text text-anchor=\"middle\" x=\"4314\" y=\"-7.8\" font-family=\"Times,serif\" font-size=\"14.00\">value = [5, 0]</text>\n",
       "</g>\n",
       "<!-- 72&#45;&gt;73 -->\n",
       "<g id=\"edge73\" class=\"edge\"><title>72&#45;&gt;73</title>\n",
       "<path fill=\"none\" stroke=\"black\" d=\"M4351.06,-88.9485C4345.77,-80.1664 4340.03,-70.6629 4334.7,-61.815\"/>\n",
       "<polygon fill=\"black\" stroke=\"black\" points=\"4337.69,-59.9919 4329.52,-53.2367 4331.69,-63.6074 4337.69,-59.9919\"/>\n",
       "</g>\n",
       "<!-- 74 -->\n",
       "<g id=\"node75\" class=\"node\"><title>74</title>\n",
       "<polygon fill=\"none\" stroke=\"black\" points=\"4506,-53 4390,-53 4390,-0 4506,-0 4506,-53\"/>\n",
       "<text text-anchor=\"middle\" x=\"4448\" y=\"-37.8\" font-family=\"Times,serif\" font-size=\"14.00\">entropy = 0.0</text>\n",
       "<text text-anchor=\"middle\" x=\"4448\" y=\"-22.8\" font-family=\"Times,serif\" font-size=\"14.00\">samples = 2</text>\n",
       "<text text-anchor=\"middle\" x=\"4448\" y=\"-7.8\" font-family=\"Times,serif\" font-size=\"14.00\">value = [0, 2]</text>\n",
       "</g>\n",
       "<!-- 72&#45;&gt;74 -->\n",
       "<g id=\"edge74\" class=\"edge\"><title>72&#45;&gt;74</title>\n",
       "<path fill=\"none\" stroke=\"black\" d=\"M4397.93,-88.9485C4405.24,-79.9834 4413.15,-70.2666 4420.49,-61.2629\"/>\n",
       "<polygon fill=\"black\" stroke=\"black\" points=\"4423.43,-63.1999 4427.03,-53.2367 4418,-58.7782 4423.43,-63.1999\"/>\n",
       "</g>\n",
       "<!-- 77 -->\n",
       "<g id=\"node78\" class=\"node\"><title>77</title>\n",
       "<polygon fill=\"none\" stroke=\"black\" points=\"4632,-253.5 4510,-253.5 4510,-200.5 4632,-200.5 4632,-253.5\"/>\n",
       "<text text-anchor=\"middle\" x=\"4571\" y=\"-238.3\" font-family=\"Times,serif\" font-size=\"14.00\">entropy = 0.0</text>\n",
       "<text text-anchor=\"middle\" x=\"4571\" y=\"-223.3\" font-family=\"Times,serif\" font-size=\"14.00\">samples = 91</text>\n",
       "<text text-anchor=\"middle\" x=\"4571\" y=\"-208.3\" font-family=\"Times,serif\" font-size=\"14.00\">value = [0, 91]</text>\n",
       "</g>\n",
       "<!-- 76&#45;&gt;77 -->\n",
       "<g id=\"edge77\" class=\"edge\"><title>76&#45;&gt;77</title>\n",
       "<path fill=\"none\" stroke=\"black\" d=\"M4571,-296.884C4571,-286.326 4571,-274.597 4571,-263.854\"/>\n",
       "<polygon fill=\"black\" stroke=\"black\" points=\"4574.5,-263.52 4571,-253.52 4567.5,-263.52 4574.5,-263.52\"/>\n",
       "</g>\n",
       "<!-- 78 -->\n",
       "<g id=\"node79\" class=\"node\"><title>78</title>\n",
       "<polygon fill=\"none\" stroke=\"black\" points=\"4922,-261 4650,-261 4650,-193 4922,-193 4922,-261\"/>\n",
       "<text text-anchor=\"middle\" x=\"4786\" y=\"-245.8\" font-family=\"Times,serif\" font-size=\"14.00\">NumberPeopleMaintenance &lt;= 1.5</text>\n",
       "<text text-anchor=\"middle\" x=\"4786\" y=\"-230.8\" font-family=\"Times,serif\" font-size=\"14.00\">entropy = 0.3</text>\n",
       "<text text-anchor=\"middle\" x=\"4786\" y=\"-215.8\" font-family=\"Times,serif\" font-size=\"14.00\">samples = 75</text>\n",
       "<text text-anchor=\"middle\" x=\"4786\" y=\"-200.8\" font-family=\"Times,serif\" font-size=\"14.00\">value = [4, 71]</text>\n",
       "</g>\n",
       "<!-- 76&#45;&gt;78 -->\n",
       "<g id=\"edge78\" class=\"edge\"><title>76&#45;&gt;78</title>\n",
       "<path fill=\"none\" stroke=\"black\" d=\"M4638.14,-298.146C4660.02,-287.768 4684.5,-276.153 4707.15,-265.407\"/>\n",
       "<polygon fill=\"black\" stroke=\"black\" points=\"4708.86,-268.469 4716.4,-261.02 4705.86,-262.144 4708.86,-268.469\"/>\n",
       "</g>\n",
       "<!-- 79 -->\n",
       "<g id=\"node80\" class=\"node\"><title>79</title>\n",
       "<polygon fill=\"none\" stroke=\"black\" points=\"4840,-157 4706,-157 4706,-89 4840,-89 4840,-157\"/>\n",
       "<text text-anchor=\"middle\" x=\"4773\" y=\"-141.8\" font-family=\"Times,serif\" font-size=\"14.00\">Age &lt;= 66.5</text>\n",
       "<text text-anchor=\"middle\" x=\"4773\" y=\"-126.8\" font-family=\"Times,serif\" font-size=\"14.00\">entropy = 0.118</text>\n",
       "<text text-anchor=\"middle\" x=\"4773\" y=\"-111.8\" font-family=\"Times,serif\" font-size=\"14.00\">samples = 63</text>\n",
       "<text text-anchor=\"middle\" x=\"4773\" y=\"-96.8\" font-family=\"Times,serif\" font-size=\"14.00\">value = [1, 62]</text>\n",
       "</g>\n",
       "<!-- 78&#45;&gt;79 -->\n",
       "<g id=\"edge79\" class=\"edge\"><title>78&#45;&gt;79</title>\n",
       "<path fill=\"none\" stroke=\"black\" d=\"M4781.78,-192.884C4780.75,-184.778 4779.63,-175.982 4778.54,-167.472\"/>\n",
       "<polygon fill=\"black\" stroke=\"black\" points=\"4781.98,-166.777 4777.24,-157.299 4775.04,-167.662 4781.98,-166.777\"/>\n",
       "</g>\n",
       "<!-- 82 -->\n",
       "<g id=\"node83\" class=\"node\"><title>82</title>\n",
       "<polygon fill=\"none\" stroke=\"black\" points=\"5013.5,-157 4858.5,-157 4858.5,-89 5013.5,-89 5013.5,-157\"/>\n",
       "<text text-anchor=\"middle\" x=\"4936\" y=\"-141.8\" font-family=\"Times,serif\" font-size=\"14.00\">Amount &lt;= 1575.0</text>\n",
       "<text text-anchor=\"middle\" x=\"4936\" y=\"-126.8\" font-family=\"Times,serif\" font-size=\"14.00\">entropy = 0.811</text>\n",
       "<text text-anchor=\"middle\" x=\"4936\" y=\"-111.8\" font-family=\"Times,serif\" font-size=\"14.00\">samples = 12</text>\n",
       "<text text-anchor=\"middle\" x=\"4936\" y=\"-96.8\" font-family=\"Times,serif\" font-size=\"14.00\">value = [3, 9]</text>\n",
       "</g>\n",
       "<!-- 78&#45;&gt;82 -->\n",
       "<g id=\"edge82\" class=\"edge\"><title>78&#45;&gt;82</title>\n",
       "<path fill=\"none\" stroke=\"black\" d=\"M4834.7,-192.884C4848.79,-183.304 4864.29,-172.761 4878.85,-162.864\"/>\n",
       "<polygon fill=\"black\" stroke=\"black\" points=\"4880.99,-165.642 4887.29,-157.125 4877.05,-159.854 4880.99,-165.642\"/>\n",
       "</g>\n",
       "<!-- 80 -->\n",
       "<g id=\"node81\" class=\"node\"><title>80</title>\n",
       "<polygon fill=\"none\" stroke=\"black\" points=\"4693,-53 4571,-53 4571,-0 4693,-0 4693,-53\"/>\n",
       "<text text-anchor=\"middle\" x=\"4632\" y=\"-37.8\" font-family=\"Times,serif\" font-size=\"14.00\">entropy = 0.0</text>\n",
       "<text text-anchor=\"middle\" x=\"4632\" y=\"-22.8\" font-family=\"Times,serif\" font-size=\"14.00\">samples = 60</text>\n",
       "<text text-anchor=\"middle\" x=\"4632\" y=\"-7.8\" font-family=\"Times,serif\" font-size=\"14.00\">value = [0, 60]</text>\n",
       "</g>\n",
       "<!-- 79&#45;&gt;80 -->\n",
       "<g id=\"edge80\" class=\"edge\"><title>79&#45;&gt;80</title>\n",
       "<path fill=\"none\" stroke=\"black\" d=\"M4723.69,-88.9485C4709.22,-79.2516 4693.44,-68.6752 4679.11,-59.073\"/>\n",
       "<polygon fill=\"black\" stroke=\"black\" points=\"4680.66,-55.8967 4670.4,-53.2367 4676.76,-61.7115 4680.66,-55.8967\"/>\n",
       "</g>\n",
       "<!-- 81 -->\n",
       "<g id=\"node82\" class=\"node\"><title>81</title>\n",
       "<polygon fill=\"none\" stroke=\"black\" points=\"4845,-53 4711,-53 4711,-0 4845,-0 4845,-53\"/>\n",
       "<text text-anchor=\"middle\" x=\"4778\" y=\"-37.8\" font-family=\"Times,serif\" font-size=\"14.00\">entropy = 0.918</text>\n",
       "<text text-anchor=\"middle\" x=\"4778\" y=\"-22.8\" font-family=\"Times,serif\" font-size=\"14.00\">samples = 3</text>\n",
       "<text text-anchor=\"middle\" x=\"4778\" y=\"-7.8\" font-family=\"Times,serif\" font-size=\"14.00\">value = [1, 2]</text>\n",
       "</g>\n",
       "<!-- 79&#45;&gt;81 -->\n",
       "<g id=\"edge81\" class=\"edge\"><title>79&#45;&gt;81</title>\n",
       "<path fill=\"none\" stroke=\"black\" d=\"M4774.75,-88.9485C4775.18,-80.7153 4775.65,-71.848 4776.1,-63.4814\"/>\n",
       "<polygon fill=\"black\" stroke=\"black\" points=\"4779.6,-63.4077 4776.64,-53.2367 4772.61,-63.0378 4779.6,-63.4077\"/>\n",
       "</g>\n",
       "<!-- 83 -->\n",
       "<g id=\"node84\" class=\"node\"><title>83</title>\n",
       "<polygon fill=\"none\" stroke=\"black\" points=\"4989,-53 4873,-53 4873,-0 4989,-0 4989,-53\"/>\n",
       "<text text-anchor=\"middle\" x=\"4931\" y=\"-37.8\" font-family=\"Times,serif\" font-size=\"14.00\">entropy = 0.0</text>\n",
       "<text text-anchor=\"middle\" x=\"4931\" y=\"-22.8\" font-family=\"Times,serif\" font-size=\"14.00\">samples = 2</text>\n",
       "<text text-anchor=\"middle\" x=\"4931\" y=\"-7.8\" font-family=\"Times,serif\" font-size=\"14.00\">value = [2, 0]</text>\n",
       "</g>\n",
       "<!-- 82&#45;&gt;83 -->\n",
       "<g id=\"edge83\" class=\"edge\"><title>82&#45;&gt;83</title>\n",
       "<path fill=\"none\" stroke=\"black\" d=\"M4934.25,-88.9485C4933.82,-80.7153 4933.35,-71.848 4932.9,-63.4814\"/>\n",
       "<polygon fill=\"black\" stroke=\"black\" points=\"4936.39,-63.0378 4932.36,-53.2367 4929.4,-63.4077 4936.39,-63.0378\"/>\n",
       "</g>\n",
       "<!-- 84 -->\n",
       "<g id=\"node85\" class=\"node\"><title>84</title>\n",
       "<polygon fill=\"none\" stroke=\"black\" points=\"5141,-53 5007,-53 5007,-0 5141,-0 5141,-53\"/>\n",
       "<text text-anchor=\"middle\" x=\"5074\" y=\"-37.8\" font-family=\"Times,serif\" font-size=\"14.00\">entropy = 0.469</text>\n",
       "<text text-anchor=\"middle\" x=\"5074\" y=\"-22.8\" font-family=\"Times,serif\" font-size=\"14.00\">samples = 10</text>\n",
       "<text text-anchor=\"middle\" x=\"5074\" y=\"-7.8\" font-family=\"Times,serif\" font-size=\"14.00\">value = [1, 9]</text>\n",
       "</g>\n",
       "<!-- 82&#45;&gt;84 -->\n",
       "<g id=\"edge84\" class=\"edge\"><title>82&#45;&gt;84</title>\n",
       "<path fill=\"none\" stroke=\"black\" d=\"M4984.27,-88.9485C4998.43,-79.2516 5013.87,-68.6752 5027.89,-59.073\"/>\n",
       "<polygon fill=\"black\" stroke=\"black\" points=\"5030.14,-61.7746 5036.42,-53.2367 5026.19,-55.999 5030.14,-61.7746\"/>\n",
       "</g>\n",
       "</g>\n",
       "</svg>\n"
      ],
      "text/plain": [
       "<graphviz.sources.Source at 0x7f3e5cfc3c50>"
      ]
     },
     "execution_count": 24,
     "metadata": {},
     "output_type": "execute_result"
    }
   ],
   "source": [
    "# Your code here! :)\n",
    "from sklearn import tree\n",
    "import graphviz\n",
    "#from dtreeviz.trees import *\n",
    "\n",
    "x_train,x_test,y_train,y_test = train_test_split(gc_DF,credit,test_size=0.1,random_state=18)\n",
    "x_test2 = x_test.iloc[2]\n",
    "regr= DecisionTreeClassifier(criterion='entropy',max_depth=6,random_state=43)\n",
    "regrfit = regr.fit(x_train, y_train)\n",
    "#viz = dtreeviz(regrfit, x_train, y_train, target_name=credit,feature_names=gc_DF.columns,X = x_test2)\n",
    "#viz.save(\"credit_worth.svg\") # suffix determines the generated image format\n",
    "#viz.view()   \n",
    "\n",
    "tree_graph = tree.export_graphviz(regrfit, out_file=None,feature_names=gc_DF.columns)\n",
    "graphviz.Source(tree_graph)"
   ]
  },
  {
   "cell_type": "markdown",
   "metadata": {},
   "source": [
    "## Random Forests"
   ]
  },
  {
   "cell_type": "markdown",
   "metadata": {},
   "source": [
    "As discussed in the lecture videos, Decision Tree algorithms also have certain undesireable properties. Mainly the have low bias, which is good, but tend to have high variance - which is *not* so good (more about this problem here: https://en.wikipedia.org/wiki/Bias%E2%80%93variance_tradeoff)."
   ]
  },
  {
   "cell_type": "markdown",
   "metadata": {},
   "source": [
    "Noticing these problems, the late Professor Leo Breiman, in 2001, developed the Random Forests algorithm, which mitigates these problems, while at the same time providing even higher predictive accuracy than the majority of Decision Tree algorithm implementations. While the curriculum contains two excellent lectures on Random Forests, if you're interested, you can dive into the original paper here: https://link.springer.com/content/pdf/10.1023%2FA%3A1010933404324.pdf."
   ]
  },
  {
   "cell_type": "markdown",
   "metadata": {},
   "source": [
    "In the next part of this assignment, your are going to use the same \"German Credit\" dataset to train, tune, and measure the performance of a Random Forests model. You will also see certain functionalities that this model, even though it's a bit of a \"black box\", provides for some degree of interpretability."
   ]
  },
  {
   "cell_type": "markdown",
   "metadata": {},
   "source": [
    "First, let's build a Random Forests model, using the same best practices that you've used for your Decision Trees model. You can reuse the things you've already imported there, so no need to do any re-imports, new train/test splits, or loading up the data again."
   ]
  },
  {
   "cell_type": "code",
   "execution_count": 25,
   "metadata": {
    "execution": {
     "iopub.execute_input": "2022-10-27T04:57:55.709916Z",
     "iopub.status.busy": "2022-10-27T04:57:55.709645Z",
     "iopub.status.idle": "2022-10-27T04:57:55.740846Z",
     "shell.execute_reply": "2022-10-27T04:57:55.740177Z",
     "shell.execute_reply.started": "2022-10-27T04:57:55.709882Z"
    }
   },
   "outputs": [],
   "source": [
    "from sklearn.ensemble import RandomForestClassifier"
   ]
  },
  {
   "cell_type": "code",
   "execution_count": 26,
   "metadata": {
    "execution": {
     "iopub.execute_input": "2022-10-27T04:58:15.248090Z",
     "iopub.status.busy": "2022-10-27T04:58:15.247832Z",
     "iopub.status.idle": "2022-10-27T04:59:04.824849Z",
     "shell.execute_reply": "2022-10-27T04:59:04.824385Z",
     "shell.execute_reply.started": "2022-10-27T04:58:15.248044Z"
    }
   },
   "outputs": [
    {
     "name": "stdout",
     "output_type": "stream",
     "text": [
      "              precision    recall  f1-score   support\n",
      "\n",
      "         Bad       0.54      0.23      0.32        31\n",
      "        Good       0.72      0.91      0.81        69\n",
      "\n",
      "    accuracy                           0.70       100\n",
      "   macro avg       0.63      0.57      0.56       100\n",
      "weighted avg       0.67      0.70      0.66       100\n",
      "\n"
     ]
    }
   ],
   "source": [
    "# Your code here! :)\n",
    "regr_rf = RandomForestClassifier(random_state=43)\n",
    "gscv = GridSearchCV(regr_rf,tree_params,cv=5,scoring='accuracy')\n",
    "gscv_fit = gscv.fit(x_train,y_train)\n",
    "#regr_rffit = regr_rf.fit(x_train, y_train)\n",
    "#y_predict = regr_rffit.predict(x_test)\n",
    "y_predict = gscv_fit.predict(x_test)\n",
    "print(classification_report(y_test,y_predict))"
   ]
  },
  {
   "cell_type": "code",
   "execution_count": 27,
   "metadata": {
    "execution": {
     "iopub.execute_input": "2022-10-27T04:59:49.526247Z",
     "iopub.status.busy": "2022-10-27T04:59:49.525744Z",
     "iopub.status.idle": "2022-10-27T04:59:49.530792Z",
     "shell.execute_reply": "2022-10-27T04:59:49.530285Z",
     "shell.execute_reply.started": "2022-10-27T04:59:49.525974Z"
    }
   },
   "outputs": [
    {
     "data": {
      "text/plain": [
       "{'criterion': 'gini', 'max_depth': 10}"
      ]
     },
     "execution_count": 27,
     "metadata": {},
     "output_type": "execute_result"
    }
   ],
   "source": [
    "gscv_fit.best_params_"
   ]
  },
  {
   "cell_type": "markdown",
   "metadata": {},
   "source": [
    "As mentioned, there are certain ways to \"peek\" into a model created by the Random Forests algorithm. The first, and most popular one, is the Feature Importance calculation functionality. This allows the ML practitioner to see an ordering of the importance of the features that have contributed the most to the predictive accuracy of the model. \n",
    "\n",
    "You can see how to use this in the scikit-learn documentation (http://scikit-learn.org/stable/modules/generated/sklearn.ensemble.RandomForestClassifier.html#sklearn.ensemble.RandomForestClassifier.feature_importances_). Now, if you tried this, you would just get an ordered table of not directly interpretable numeric values. Thus, it's much more useful to show the feature importance in a visual way. You can see an example of how that's done here: http://scikit-learn.org/stable/auto_examples/ensemble/plot_forest_importances.html#sphx-glr-auto-examples-ensemble-plot-forest-importances-py\n",
    "\n",
    "Now you try! Let's visualize the importance of features from your Random Forests model!"
   ]
  },
  {
   "cell_type": "code",
   "execution_count": 28,
   "metadata": {
    "execution": {
     "iopub.execute_input": "2022-10-27T05:00:10.765049Z",
     "iopub.status.busy": "2022-10-27T05:00:10.764732Z",
     "iopub.status.idle": "2022-10-27T05:00:11.032363Z",
     "shell.execute_reply": "2022-10-27T05:00:11.031610Z",
     "shell.execute_reply.started": "2022-10-27T05:00:10.764963Z"
    }
   },
   "outputs": [
    {
     "name": "stdout",
     "output_type": "stream",
     "text": [
      "              precision    recall  f1-score   support\n",
      "\n",
      "         Bad       0.72      0.42      0.53        31\n",
      "        Good       0.78      0.93      0.85        69\n",
      "\n",
      "    accuracy                           0.77       100\n",
      "   macro avg       0.75      0.67      0.69       100\n",
      "weighted avg       0.76      0.77      0.75       100\n",
      "\n"
     ]
    },
    {
     "data": {
      "text/plain": [
       "array([0.07739194, 0.09973206, 0.03545741, 0.03389087, 0.0786414 ,\n",
       "       0.01799577, 0.010574  , 0.01776216, 0.00425115, 0.03685668,\n",
       "       0.01714094, 0.00808009, 0.05532108, 0.01145667, 0.01480564,\n",
       "       0.01393897, 0.00989466, 0.02125128, 0.0176369 , 0.00890006,\n",
       "       0.01458504, 0.01537227, 0.00209263, 0.00387569, 0.00865596,\n",
       "       0.        , 0.0010697 , 0.00940646, 0.00186629, 0.01994298,\n",
       "       0.00818385, 0.00610766, 0.00579215, 0.01193675, 0.01575098,\n",
       "       0.01410979, 0.01233135, 0.0132118 , 0.00801724, 0.00638092,\n",
       "       0.01502483, 0.01372977, 0.00794203, 0.        , 0.00865995,\n",
       "       0.00646014, 0.0091881 , 0.01546493, 0.0144941 , 0.01541789,\n",
       "       0.01301805, 0.01317929, 0.00741047, 0.01787942, 0.010372  ,\n",
       "       0.01422197, 0.00688957, 0.00284954, 0.01160962, 0.01410936,\n",
       "       0.01240978])"
      ]
     },
     "execution_count": 28,
     "metadata": {},
     "output_type": "execute_result"
    }
   ],
   "source": [
    "# Your code here\n",
    "regr_rf2 = RandomForestClassifier(random_state=43)\n",
    "regr_rffit2 = regr_rf2.fit(x_train, y_train)\n",
    "y_predict2 = regr_rffit2.predict(x_test)\n",
    "print(classification_report(y_test,y_predict2))\n",
    "regr_rffit2.feature_importances_"
   ]
  },
  {
   "cell_type": "code",
   "execution_count": 32,
   "metadata": {
    "execution": {
     "iopub.execute_input": "2022-10-27T05:16:28.144321Z",
     "iopub.status.busy": "2022-10-27T05:16:28.144041Z",
     "iopub.status.idle": "2022-10-27T05:16:29.951048Z",
     "shell.execute_reply": "2022-10-27T05:16:29.949922Z",
     "shell.execute_reply.started": "2022-10-27T05:16:28.144270Z"
    }
   },
   "outputs": [
    {
     "data": {
      "image/png": "[encoded data removed]",
      "text/plain": [
       "<Figure size 432x288 with 1 Axes>"
      ]
     },
     "metadata": {
      "needs_background": "light"
     },
     "output_type": "display_data"
    }
   ],
   "source": [
    "import numpy as np\n",
    "\n",
    "importances = regr_rffit2.feature_importances_\n",
    "std = np.std([tree.feature_importances_ for tree in regr_rffit2.estimators_], axis=0)\n",
    "forest_importances = pd.Series(importances, index=gc_DF.columns)\n",
    "\n",
    "fig, ax = plt.subplots()\n",
    "\n",
    "forest_importances.plot.bar(yerr=std, ax=ax)\n",
    "ax.set_title(\"Feature importances using MDI\")\n",
    "ax.set_ylabel(\"Mean decrease in impurity\")\n",
    "fig.tight_layout()\n"
   ]
  },
  {
   "cell_type": "code",
   "execution_count": 34,
   "metadata": {
    "execution": {
     "iopub.execute_input": "2022-10-27T05:21:43.005047Z",
     "iopub.status.busy": "2022-10-27T05:21:43.004713Z",
     "iopub.status.idle": "2022-10-27T05:22:00.606654Z",
     "shell.execute_reply": "2022-10-27T05:22:00.606086Z",
     "shell.execute_reply.started": "2022-10-27T05:21:43.004994Z"
    }
   },
   "outputs": [
    {
     "data": {
      "image/png": "[encoded data removed]",
      "text/plain": [
       "<Figure size 432x288 with 1 Axes>"
      ]
     },
     "metadata": {
      "needs_background": "light"
     },
     "output_type": "display_data"
    }
   ],
   "source": [
    "from sklearn.inspection import permutation_importance\n",
    "result = permutation_importance(\n",
    "    regr_rffit2, x_test, y_test, n_repeats=10, random_state=42, n_jobs=2\n",
    ")\n",
    "forest_importances = pd.Series(result.importances_mean, index=gc_DF.columns)\n",
    "\n",
    "fig, ax = plt.subplots()\n",
    "forest_importances.plot.bar(yerr=result.importances_std, ax=ax)\n",
    "ax.set_title(\"Feature importances using permutation on full model\")\n",
    "ax.set_ylabel(\"Mean accuracy decrease\")\n",
    "fig.tight_layout()\n",
    "plt.show()\n"
   ]
  },
  {
   "cell_type": "markdown",
   "metadata": {},
   "source": [
    "A final method for gaining some insight into the inner working of your Random Forests models is a so-called Partial Dependence Plot. The Partial Dependence Plot (PDP or PD plot) shows the marginal effect of a feature on the predicted outcome of a previously fit model. The prediction function is fixed at a few values of the chosen features and averaged over the other features. A partial dependence plot can show if the relationship between the target and a feature is linear, monotonic or more complex. \n",
    "\n",
    "In scikit-learn, PDPs are implemented and available for certain algorithms, but at this point (version 0.20.0) they are not yet implemented for Random Forests. Thankfully, there is an add-on package called **PDPbox** (https://pdpbox.readthedocs.io/en/latest/) which adds this functionality to Random Forests. The package is easy to install through pip."
   ]
  },
  {
   "cell_type": "code",
   "execution_count": 29,
   "metadata": {
    "execution": {
     "iopub.execute_input": "2022-10-27T05:02:40.745297Z",
     "iopub.status.busy": "2022-10-27T05:02:40.745021Z",
     "iopub.status.idle": "2022-10-27T05:03:13.413406Z",
     "shell.execute_reply": "2022-10-27T05:03:13.412767Z",
     "shell.execute_reply.started": "2022-10-27T05:02:40.745256Z"
    }
   },
   "outputs": [
    {
     "name": "stdout",
     "output_type": "stream",
     "text": [
      "Collecting pdpbox\n",
      "  Downloading PDPbox-0.2.1.tar.gz (34.0 MB)\n",
      "\u001b[K     |████████████████████████████████| 34.0 MB 111 kB/s  eta 0:00:01     |█████████████████▋              | 18.7 MB 23.4 MB/s eta 0:00:01\n",
      "\u001b[?25hRequirement already satisfied: pandas in /opt/conda/envs/springboard/lib/python3.7/site-packages (from pdpbox) (1.0.1)\n",
      "Requirement already satisfied: numpy in /opt/conda/envs/springboard/lib/python3.7/site-packages (from pdpbox) (1.18.1)\n",
      "Requirement already satisfied: scipy in /opt/conda/envs/springboard/lib/python3.7/site-packages (from pdpbox) (1.4.1)\n",
      "Requirement already satisfied: joblib in /opt/conda/envs/springboard/lib/python3.7/site-packages (from pdpbox) (0.14.1)\n",
      "Requirement already satisfied: psutil in /opt/conda/envs/springboard/lib/python3.7/site-packages (from pdpbox) (5.6.7)\n",
      "Collecting matplotlib==3.1.1\n",
      "  Downloading matplotlib-3.1.1-cp37-cp37m-manylinux1_x86_64.whl (13.1 MB)\n",
      "\u001b[K     |████████████████████████████████| 13.1 MB 48.5 MB/s eta 0:00:01     |██████████████████████████████▍ | 12.5 MB 48.5 MB/s eta 0:00:01\n",
      "\u001b[?25hRequirement already satisfied: python-dateutil>=2.1 in /opt/conda/envs/springboard/lib/python3.7/site-packages (from matplotlib==3.1.1->pdpbox) (2.8.1)\n",
      "Requirement already satisfied: cycler>=0.10 in /opt/conda/envs/springboard/lib/python3.7/site-packages (from matplotlib==3.1.1->pdpbox) (0.10.0)\n",
      "Requirement already satisfied: kiwisolver>=1.0.1 in /opt/conda/envs/springboard/lib/python3.7/site-packages (from matplotlib==3.1.1->pdpbox) (1.1.0)\n",
      "Requirement already satisfied: pyparsing!=2.0.4,!=2.1.2,!=2.1.6,>=2.0.1 in /opt/conda/envs/springboard/lib/python3.7/site-packages (from matplotlib==3.1.1->pdpbox) (2.4.6)\n",
      "Requirement already satisfied: six in /opt/conda/envs/springboard/lib/python3.7/site-packages (from cycler>=0.10->matplotlib==3.1.1->pdpbox) (1.14.0)\n",
      "Requirement already satisfied: setuptools in /opt/conda/envs/springboard/lib/python3.7/site-packages (from kiwisolver>=1.0.1->matplotlib==3.1.1->pdpbox) (49.6.0.post20210108)\n",
      "Requirement already satisfied: pytz>=2017.2 in /opt/conda/envs/springboard/lib/python3.7/site-packages (from pandas->pdpbox) (2019.3)\n",
      "Collecting sklearn\n",
      "  Downloading sklearn-0.0.tar.gz (1.1 kB)\n",
      "Requirement already satisfied: scikit-learn in /opt/conda/envs/springboard/lib/python3.7/site-packages (from sklearn->pdpbox) (0.22.1)\n",
      "Building wheels for collected packages: pdpbox, sklearn\n",
      "  Building wheel for pdpbox (setup.py) ... \u001b[?25ldone\n",
      "\u001b[?25h  Created wheel for pdpbox: filename=PDPbox-0.2.1-py3-none-any.whl size=35758225 sha256=2ee3506a471468f14e1b6b0b6d3f06993e4ff5d7ad32dd029bebdf167d1f1bf5\n",
      "  Stored in directory: /root/.cache/pip/wheels/f4/d0/1a/b80035625c53131f52906a6fc4dd690d8efd2bf8af6a4015eb\n",
      "  Building wheel for sklearn (setup.py) ... \u001b[?25ldone\n",
      "\u001b[?25h  Created wheel for sklearn: filename=sklearn-0.0-py2.py3-none-any.whl size=1316 sha256=c39a8faaeb2e8bc9cf6be3153727634a034c9e816b1f6d35695871e6f3a3c657\n",
      "  Stored in directory: /root/.cache/pip/wheels/46/ef/c3/157e41f5ee1372d1be90b09f74f82b10e391eaacca8f22d33e\n",
      "Successfully built pdpbox sklearn\n",
      "Installing collected packages: sklearn, matplotlib, pdpbox\n",
      "  Attempting uninstall: matplotlib\n",
      "    Found existing installation: matplotlib 3.1.3\n",
      "    Uninstalling matplotlib-3.1.3:\n",
      "      Successfully uninstalled matplotlib-3.1.3\n",
      "Successfully installed matplotlib-3.1.1 pdpbox-0.2.1 sklearn-0.0\n"
     ]
    }
   ],
   "source": [
    "! pip install pdpbox"
   ]
  },
  {
   "cell_type": "markdown",
   "metadata": {},
   "source": [
    "While we encourage you to read the documentation for the package (and reading package documentation in general is a good habit to develop), the authors of the package have also written an excellent blog post on how to use it, showing examples on different algorithms from scikit-learn (the Random Forests example is towards the end of the blog post): https://briangriner.github.io/Partial_Dependence_Plots_presentation-BrianGriner-PrincetonPublicLibrary-4.14.18-updated-4.22.18.html"
   ]
  },
  {
   "cell_type": "markdown",
   "metadata": {},
   "source": [
    "So, armed with this new knowledge, feel free to pick a few features, and make a couple of Partial Dependence Plots of your own!"
   ]
  },
  {
   "cell_type": "code",
   "execution_count": 37,
   "metadata": {
    "execution": {
     "iopub.execute_input": "2022-10-27T05:35:51.685151Z",
     "iopub.status.busy": "2022-10-27T05:35:51.684859Z",
     "iopub.status.idle": "2022-10-27T05:36:01.220633Z",
     "shell.execute_reply": "2022-10-27T05:36:01.219737Z",
     "shell.execute_reply.started": "2022-10-27T05:35:51.685117Z"
    }
   },
   "outputs": [
    {
     "name": "stdout",
     "output_type": "stream",
     "text": [
      "Requirement already satisfied: scikit-learn in /opt/conda/envs/springboard/lib/python3.7/site-packages (0.22.1)\n",
      "Collecting scikit-learn\n",
      "  Downloading scikit_learn-1.0.2-cp37-cp37m-manylinux_2_17_x86_64.manylinux2014_x86_64.whl (24.8 MB)\n",
      "\u001b[K     |████████████████████████████████| 24.8 MB 4.5 MB/s eta 0:00:01     |███████████████▋                | 12.1 MB 4.5 MB/s eta 0:00:03\n",
      "\u001b[?25hRequirement already satisfied: scipy>=1.1.0 in /opt/conda/envs/springboard/lib/python3.7/site-packages (from scikit-learn) (1.4.1)\n",
      "Requirement already satisfied: joblib>=0.11 in /opt/conda/envs/springboard/lib/python3.7/site-packages (from scikit-learn) (0.14.1)\n",
      "Requirement already satisfied: numpy>=1.14.6 in /opt/conda/envs/springboard/lib/python3.7/site-packages (from scikit-learn) (1.18.1)\n",
      "Collecting threadpoolctl>=2.0.0\n",
      "  Downloading threadpoolctl-3.1.0-py3-none-any.whl (14 kB)\n",
      "Installing collected packages: threadpoolctl, scikit-learn\n",
      "  Attempting uninstall: scikit-learn\n",
      "    Found existing installation: scikit-learn 0.22.1\n",
      "    Uninstalling scikit-learn-0.22.1:\n",
      "      Successfully uninstalled scikit-learn-0.22.1\n",
      "Successfully installed scikit-learn-1.0.2 threadpoolctl-3.1.0\n"
     ]
    }
   ],
   "source": [
    "!pip install --upgrade scikit-learn"
   ]
  },
  {
   "cell_type": "code",
   "execution_count": 40,
   "metadata": {
    "execution": {
     "iopub.execute_input": "2022-10-27T05:44:25.092114Z",
     "iopub.status.busy": "2022-10-27T05:44:25.091827Z",
     "iopub.status.idle": "2022-10-27T05:44:25.101920Z",
     "shell.execute_reply": "2022-10-27T05:44:25.101248Z",
     "shell.execute_reply.started": "2022-10-27T05:44:25.092072Z"
    }
   },
   "outputs": [
    {
     "ename": "AttributeError",
     "evalue": "type object 'PartialDependenceDisplay' has no attribute 'from_estimator'",
     "output_type": "error",
     "traceback": [
      "\u001b[0;31m---------------------------------------------------------------------------\u001b[0m",
      "\u001b[0;31mAttributeError\u001b[0m                            Traceback (most recent call last)",
      "\u001b[0;32m<ipython-input-40-19b9993cc642>\u001b[0m in \u001b[0;36m<module>\u001b[0;34m\u001b[0m\n\u001b[1;32m      3\u001b[0m \u001b[0;31m#from sklearn.ensemble.partial_dependence import partial_dependence, plot_partial_dependence\u001b[0m\u001b[0;34m\u001b[0m\u001b[0;34m\u001b[0m\u001b[0;34m\u001b[0m\u001b[0m\n\u001b[1;32m      4\u001b[0m \u001b[0mfeatures\u001b[0m \u001b[0;34m=\u001b[0m \u001b[0;34m[\u001b[0m\u001b[0;36m0\u001b[0m\u001b[0;34m,\u001b[0m \u001b[0;36m1\u001b[0m\u001b[0;34m,\u001b[0m \u001b[0;34m(\u001b[0m\u001b[0;36m0\u001b[0m\u001b[0;34m,\u001b[0m \u001b[0;36m1\u001b[0m\u001b[0;34m)\u001b[0m\u001b[0;34m]\u001b[0m\u001b[0;34m\u001b[0m\u001b[0;34m\u001b[0m\u001b[0m\n\u001b[0;32m----> 5\u001b[0;31m \u001b[0mPartialDependenceDisplay\u001b[0m\u001b[0;34m.\u001b[0m\u001b[0mfrom_estimator\u001b[0m\u001b[0;34m(\u001b[0m\u001b[0mregr_rffit2\u001b[0m\u001b[0;34m,\u001b[0m \u001b[0mx_test\u001b[0m\u001b[0;34m,\u001b[0m \u001b[0mfeatures\u001b[0m\u001b[0;34m)\u001b[0m\u001b[0;34m\u001b[0m\u001b[0;34m\u001b[0m\u001b[0m\n\u001b[0m",
      "\u001b[0;31mAttributeError\u001b[0m: type object 'PartialDependenceDisplay' has no attribute 'from_estimator'"
     ]
    }
   ],
   "source": [
    "# Your code here!\n",
    "#from sklearn.inspection import PartialDependenceDisplay\n",
    "#from sklearn.ensemble.partial_dependence import partial_dependence, plot_partial_dependence\n",
    "#features = [0, 1, (0, 1)]\n",
    "#PartialDependenceDisplay.\n",
    "#PartialDependenceDisplay.from_estimator(regr_rffit2, x_test, features)\n",
    "\n"
   ]
  },
  {
   "cell_type": "code",
   "execution_count": 41,
   "metadata": {
    "execution": {
     "iopub.execute_input": "2022-10-27T05:54:22.244068Z",
     "iopub.status.busy": "2022-10-27T05:54:22.243701Z",
     "iopub.status.idle": "2022-10-27T05:54:22.249911Z",
     "shell.execute_reply": "2022-10-27T05:54:22.249164Z",
     "shell.execute_reply.started": "2022-10-27T05:54:22.244021Z"
    }
   },
   "outputs": [
    {
     "data": {
      "text/plain": [
       "Index(['Duration', 'Amount', 'InstallmentRatePercentage', 'ResidenceDuration',\n",
       "       'Age', 'NumberExistingCredits', 'NumberPeopleMaintenance', 'Telephone',\n",
       "       'ForeignWorker', 'CheckingAccountStatus.lt.0',\n",
       "       'CheckingAccountStatus.0.to.200', 'CheckingAccountStatus.gt.200',\n",
       "       'CheckingAccountStatus.none', 'CreditHistory.NoCredit.AllPaid',\n",
       "       'CreditHistory.ThisBank.AllPaid', 'CreditHistory.PaidDuly',\n",
       "       'CreditHistory.Delay', 'CreditHistory.Critical', 'Purpose.NewCar',\n",
       "       'Purpose.UsedCar', 'Purpose.Furniture.Equipment',\n",
       "       'Purpose.Radio.Television', 'Purpose.DomesticAppliance',\n",
       "       'Purpose.Repairs', 'Purpose.Education', 'Purpose.Vacation',\n",
       "       'Purpose.Retraining', 'Purpose.Business', 'Purpose.Other',\n",
       "       'SavingsAccountBonds.lt.100', 'SavingsAccountBonds.100.to.500',\n",
       "       'SavingsAccountBonds.500.to.1000', 'SavingsAccountBonds.gt.1000',\n",
       "       'SavingsAccountBonds.Unknown', 'EmploymentDuration.lt.1',\n",
       "       'EmploymentDuration.1.to.4', 'EmploymentDuration.4.to.7',\n",
       "       'EmploymentDuration.gt.7', 'EmploymentDuration.Unemployed',\n",
       "       'Personal.Male.Divorced.Seperated', 'Personal.Female.NotSingle',\n",
       "       'Personal.Male.Single', 'Personal.Male.Married.Widowed',\n",
       "       'Personal.Female.Single', 'OtherDebtorsGuarantors.None',\n",
       "       'OtherDebtorsGuarantors.CoApplicant',\n",
       "       'OtherDebtorsGuarantors.Guarantor', 'Property.RealEstate',\n",
       "       'Property.Insurance', 'Property.CarOther', 'Property.Unknown',\n",
       "       'OtherInstallmentPlans.Bank', 'OtherInstallmentPlans.Stores',\n",
       "       'OtherInstallmentPlans.None', 'Housing.Rent', 'Housing.Own',\n",
       "       'Housing.ForFree', 'Job.UnemployedUnskilled', 'Job.UnskilledResident',\n",
       "       'Job.SkilledEmployee', 'Job.Management.SelfEmp.HighlyQualified'],\n",
       "      dtype='object')"
      ]
     },
     "execution_count": 41,
     "metadata": {},
     "output_type": "execute_result"
    }
   ],
   "source": [
    "gc_DF.columns"
   ]
  },
  {
   "cell_type": "code",
   "execution_count": 42,
   "metadata": {
    "execution": {
     "iopub.execute_input": "2022-10-27T05:56:04.342405Z",
     "iopub.status.busy": "2022-10-27T05:56:04.342143Z",
     "iopub.status.idle": "2022-10-27T05:56:04.400422Z",
     "shell.execute_reply": "2022-10-27T05:56:04.398726Z",
     "shell.execute_reply.started": "2022-10-27T05:56:04.342366Z"
    }
   },
   "outputs": [
    {
     "ename": "ImportError",
     "evalue": "cannot import name 'delayed' from 'sklearn.utils.fixes' (/opt/conda/envs/springboard/lib/python3.7/site-packages/sklearn/utils/fixes.py)",
     "output_type": "error",
     "traceback": [
      "\u001b[0;31m---------------------------------------------------------------------------\u001b[0m",
      "\u001b[0;31mImportError\u001b[0m                               Traceback (most recent call last)",
      "\u001b[0;32m<ipython-input-42-09d909eea915>\u001b[0m in \u001b[0;36m<module>\u001b[0;34m\u001b[0m\n\u001b[0;32m----> 1\u001b[0;31m \u001b[0;32mfrom\u001b[0m \u001b[0mpdpbox\u001b[0m \u001b[0;32mimport\u001b[0m \u001b[0mpdp\u001b[0m\u001b[0;34m\u001b[0m\u001b[0;34m\u001b[0m\u001b[0m\n\u001b[0m\u001b[1;32m      2\u001b[0m pdp_duration = pdp.pdp_isolate(model=regr_rffit2,\n\u001b[1;32m      3\u001b[0m                           \u001b[0mdataset\u001b[0m\u001b[0;34m=\u001b[0m\u001b[0mx_test\u001b[0m\u001b[0;34m,\u001b[0m\u001b[0;34m\u001b[0m\u001b[0;34m\u001b[0m\u001b[0m\n\u001b[1;32m      4\u001b[0m                           \u001b[0mmodel_features\u001b[0m\u001b[0;34m=\u001b[0m\u001b[0mgc_DF\u001b[0m\u001b[0;34m.\u001b[0m\u001b[0mcolumns\u001b[0m\u001b[0;34m,\u001b[0m\u001b[0;34m\u001b[0m\u001b[0;34m\u001b[0m\u001b[0m\n\u001b[1;32m      5\u001b[0m                           feature='Duration')\n",
      "\u001b[0;32m/opt/conda/envs/springboard/lib/python3.7/site-packages/pdpbox/pdp.py\u001b[0m in \u001b[0;36m<module>\u001b[0;34m\u001b[0m\n\u001b[1;32m      1\u001b[0m \u001b[0;34m\u001b[0m\u001b[0m\n\u001b[1;32m      2\u001b[0m \u001b[0;32mfrom\u001b[0m \u001b[0;34m.\u001b[0m\u001b[0mpdp_calc_utils\u001b[0m \u001b[0;32mimport\u001b[0m \u001b[0m_calc_ice_lines\u001b[0m\u001b[0;34m,\u001b[0m \u001b[0m_calc_ice_lines_inter\u001b[0m\u001b[0;34m,\u001b[0m \u001b[0m_prepare_pdp_count_data\u001b[0m\u001b[0;34m\u001b[0m\u001b[0;34m\u001b[0m\u001b[0m\n\u001b[0;32m----> 3\u001b[0;31m \u001b[0;32mfrom\u001b[0m \u001b[0;34m.\u001b[0m\u001b[0mpdp_plot_utils\u001b[0m \u001b[0;32mimport\u001b[0m \u001b[0;34m(\u001b[0m\u001b[0m_pdp_plot\u001b[0m\u001b[0;34m,\u001b[0m \u001b[0m_pdp_inter_three\u001b[0m\u001b[0;34m,\u001b[0m \u001b[0m_pdp_inter_one\u001b[0m\u001b[0;34m)\u001b[0m\u001b[0;34m\u001b[0m\u001b[0;34m\u001b[0m\u001b[0m\n\u001b[0m\u001b[1;32m      4\u001b[0m from .utils import (_check_model, _check_dataset, _check_percentile_range, _check_feature,\n\u001b[1;32m      5\u001b[0m                     \u001b[0m_check_grid_type\u001b[0m\u001b[0;34m,\u001b[0m \u001b[0m_check_memory_limit\u001b[0m\u001b[0;34m,\u001b[0m \u001b[0m_check_frac_to_plot\u001b[0m\u001b[0;34m,\u001b[0m \u001b[0m_make_list\u001b[0m\u001b[0;34m,\u001b[0m \u001b[0m_expand_default\u001b[0m\u001b[0;34m,\u001b[0m\u001b[0;34m\u001b[0m\u001b[0;34m\u001b[0m\u001b[0m\n",
      "\u001b[0;32m/opt/conda/envs/springboard/lib/python3.7/site-packages/pdpbox/pdp_plot_utils.py\u001b[0m in \u001b[0;36m<module>\u001b[0;34m\u001b[0m\n\u001b[1;32m      9\u001b[0m \u001b[0;34m\u001b[0m\u001b[0m\n\u001b[1;32m     10\u001b[0m \u001b[0;32mimport\u001b[0m \u001b[0mcopy\u001b[0m\u001b[0;34m\u001b[0m\u001b[0;34m\u001b[0m\u001b[0m\n\u001b[0;32m---> 11\u001b[0;31m \u001b[0;32mfrom\u001b[0m \u001b[0msklearn\u001b[0m\u001b[0;34m.\u001b[0m\u001b[0mcluster\u001b[0m \u001b[0;32mimport\u001b[0m \u001b[0mMiniBatchKMeans\u001b[0m\u001b[0;34m,\u001b[0m \u001b[0mKMeans\u001b[0m\u001b[0;34m\u001b[0m\u001b[0;34m\u001b[0m\u001b[0m\n\u001b[0m\u001b[1;32m     12\u001b[0m \u001b[0;32mfrom\u001b[0m \u001b[0mmpl_toolkits\u001b[0m\u001b[0;34m.\u001b[0m\u001b[0maxes_grid1\u001b[0m\u001b[0;34m.\u001b[0m\u001b[0maxes_divider\u001b[0m \u001b[0;32mimport\u001b[0m \u001b[0mmake_axes_locatable\u001b[0m\u001b[0;34m\u001b[0m\u001b[0;34m\u001b[0m\u001b[0m\n\u001b[1;32m     13\u001b[0m \u001b[0;32mfrom\u001b[0m \u001b[0mmpl_toolkits\u001b[0m\u001b[0;34m.\u001b[0m\u001b[0maxes_grid1\u001b[0m\u001b[0;34m.\u001b[0m\u001b[0minset_locator\u001b[0m \u001b[0;32mimport\u001b[0m \u001b[0minset_axes\u001b[0m\u001b[0;34m\u001b[0m\u001b[0;34m\u001b[0m\u001b[0m\n",
      "\u001b[0;32m/opt/conda/envs/springboard/lib/python3.7/site-packages/sklearn/cluster/__init__.py\u001b[0m in \u001b[0;36m<module>\u001b[0;34m\u001b[0m\n\u001b[1;32m      4\u001b[0m \"\"\"\n\u001b[1;32m      5\u001b[0m \u001b[0;34m\u001b[0m\u001b[0m\n\u001b[0;32m----> 6\u001b[0;31m \u001b[0;32mfrom\u001b[0m \u001b[0;34m.\u001b[0m\u001b[0m_spectral\u001b[0m \u001b[0;32mimport\u001b[0m \u001b[0mspectral_clustering\u001b[0m\u001b[0;34m,\u001b[0m \u001b[0mSpectralClustering\u001b[0m\u001b[0;34m\u001b[0m\u001b[0;34m\u001b[0m\u001b[0m\n\u001b[0m\u001b[1;32m      7\u001b[0m \u001b[0;32mfrom\u001b[0m \u001b[0;34m.\u001b[0m\u001b[0m_mean_shift\u001b[0m \u001b[0;32mimport\u001b[0m \u001b[0mmean_shift\u001b[0m\u001b[0;34m,\u001b[0m \u001b[0mMeanShift\u001b[0m\u001b[0;34m,\u001b[0m \u001b[0mestimate_bandwidth\u001b[0m\u001b[0;34m,\u001b[0m \u001b[0mget_bin_seeds\u001b[0m\u001b[0;34m\u001b[0m\u001b[0;34m\u001b[0m\u001b[0m\n\u001b[1;32m      8\u001b[0m \u001b[0;32mfrom\u001b[0m \u001b[0;34m.\u001b[0m\u001b[0m_affinity_propagation\u001b[0m \u001b[0;32mimport\u001b[0m \u001b[0maffinity_propagation\u001b[0m\u001b[0;34m,\u001b[0m \u001b[0mAffinityPropagation\u001b[0m\u001b[0;34m\u001b[0m\u001b[0;34m\u001b[0m\u001b[0m\n",
      "\u001b[0;32m/opt/conda/envs/springboard/lib/python3.7/site-packages/sklearn/cluster/_spectral.py\u001b[0m in \u001b[0;36m<module>\u001b[0;34m\u001b[0m\n\u001b[1;32m     15\u001b[0m \u001b[0;32mfrom\u001b[0m \u001b[0;34m.\u001b[0m\u001b[0;34m.\u001b[0m\u001b[0mmetrics\u001b[0m\u001b[0;34m.\u001b[0m\u001b[0mpairwise\u001b[0m \u001b[0;32mimport\u001b[0m \u001b[0mpairwise_kernels\u001b[0m\u001b[0;34m\u001b[0m\u001b[0;34m\u001b[0m\u001b[0m\n\u001b[1;32m     16\u001b[0m \u001b[0;32mfrom\u001b[0m \u001b[0;34m.\u001b[0m\u001b[0;34m.\u001b[0m\u001b[0mneighbors\u001b[0m \u001b[0;32mimport\u001b[0m \u001b[0mkneighbors_graph\u001b[0m\u001b[0;34m,\u001b[0m \u001b[0mNearestNeighbors\u001b[0m\u001b[0;34m\u001b[0m\u001b[0;34m\u001b[0m\u001b[0m\n\u001b[0;32m---> 17\u001b[0;31m \u001b[0;32mfrom\u001b[0m \u001b[0;34m.\u001b[0m\u001b[0;34m.\u001b[0m\u001b[0mmanifold\u001b[0m \u001b[0;32mimport\u001b[0m \u001b[0mspectral_embedding\u001b[0m\u001b[0;34m\u001b[0m\u001b[0;34m\u001b[0m\u001b[0m\n\u001b[0m\u001b[1;32m     18\u001b[0m \u001b[0;32mfrom\u001b[0m \u001b[0;34m.\u001b[0m\u001b[0m_kmeans\u001b[0m \u001b[0;32mimport\u001b[0m \u001b[0mk_means\u001b[0m\u001b[0;34m\u001b[0m\u001b[0;34m\u001b[0m\u001b[0m\n\u001b[1;32m     19\u001b[0m \u001b[0;34m\u001b[0m\u001b[0m\n",
      "\u001b[0;32m/opt/conda/envs/springboard/lib/python3.7/site-packages/sklearn/manifold/__init__.py\u001b[0m in \u001b[0;36m<module>\u001b[0;34m\u001b[0m\n\u001b[1;32m      5\u001b[0m \u001b[0;32mfrom\u001b[0m \u001b[0;34m.\u001b[0m\u001b[0m_locally_linear\u001b[0m \u001b[0;32mimport\u001b[0m \u001b[0mlocally_linear_embedding\u001b[0m\u001b[0;34m,\u001b[0m \u001b[0mLocallyLinearEmbedding\u001b[0m\u001b[0;34m\u001b[0m\u001b[0;34m\u001b[0m\u001b[0m\n\u001b[1;32m      6\u001b[0m \u001b[0;32mfrom\u001b[0m \u001b[0;34m.\u001b[0m\u001b[0m_isomap\u001b[0m \u001b[0;32mimport\u001b[0m \u001b[0mIsomap\u001b[0m\u001b[0;34m\u001b[0m\u001b[0;34m\u001b[0m\u001b[0m\n\u001b[0;32m----> 7\u001b[0;31m \u001b[0;32mfrom\u001b[0m \u001b[0;34m.\u001b[0m\u001b[0m_mds\u001b[0m \u001b[0;32mimport\u001b[0m \u001b[0mMDS\u001b[0m\u001b[0;34m,\u001b[0m \u001b[0msmacof\u001b[0m\u001b[0;34m\u001b[0m\u001b[0;34m\u001b[0m\u001b[0m\n\u001b[0m\u001b[1;32m      8\u001b[0m \u001b[0;32mfrom\u001b[0m \u001b[0;34m.\u001b[0m\u001b[0m_spectral_embedding\u001b[0m \u001b[0;32mimport\u001b[0m \u001b[0mSpectralEmbedding\u001b[0m\u001b[0;34m,\u001b[0m \u001b[0mspectral_embedding\u001b[0m\u001b[0;34m\u001b[0m\u001b[0;34m\u001b[0m\u001b[0m\n\u001b[1;32m      9\u001b[0m \u001b[0;32mfrom\u001b[0m \u001b[0;34m.\u001b[0m\u001b[0m_t_sne\u001b[0m \u001b[0;32mimport\u001b[0m \u001b[0mTSNE\u001b[0m\u001b[0;34m,\u001b[0m \u001b[0mtrustworthiness\u001b[0m\u001b[0;34m\u001b[0m\u001b[0;34m\u001b[0m\u001b[0m\n",
      "\u001b[0;32m/opt/conda/envs/springboard/lib/python3.7/site-packages/sklearn/manifold/_mds.py\u001b[0m in \u001b[0;36m<module>\u001b[0;34m\u001b[0m\n\u001b[1;32m     16\u001b[0m \u001b[0;32mfrom\u001b[0m \u001b[0;34m.\u001b[0m\u001b[0;34m.\u001b[0m\u001b[0misotonic\u001b[0m \u001b[0;32mimport\u001b[0m \u001b[0mIsotonicRegression\u001b[0m\u001b[0;34m\u001b[0m\u001b[0;34m\u001b[0m\u001b[0m\n\u001b[1;32m     17\u001b[0m \u001b[0;32mfrom\u001b[0m \u001b[0;34m.\u001b[0m\u001b[0;34m.\u001b[0m\u001b[0mutils\u001b[0m\u001b[0;34m.\u001b[0m\u001b[0mdeprecation\u001b[0m \u001b[0;32mimport\u001b[0m \u001b[0mdeprecated\u001b[0m\u001b[0;34m\u001b[0m\u001b[0;34m\u001b[0m\u001b[0m\n\u001b[0;32m---> 18\u001b[0;31m \u001b[0;32mfrom\u001b[0m \u001b[0;34m.\u001b[0m\u001b[0;34m.\u001b[0m\u001b[0mutils\u001b[0m\u001b[0;34m.\u001b[0m\u001b[0mfixes\u001b[0m \u001b[0;32mimport\u001b[0m \u001b[0mdelayed\u001b[0m\u001b[0;34m\u001b[0m\u001b[0;34m\u001b[0m\u001b[0m\n\u001b[0m\u001b[1;32m     19\u001b[0m \u001b[0;34m\u001b[0m\u001b[0m\n\u001b[1;32m     20\u001b[0m \u001b[0;34m\u001b[0m\u001b[0m\n",
      "\u001b[0;31mImportError\u001b[0m: cannot import name 'delayed' from 'sklearn.utils.fixes' (/opt/conda/envs/springboard/lib/python3.7/site-packages/sklearn/utils/fixes.py)"
     ]
    }
   ],
   "source": [
    "from pdpbox import pdp\n",
    "pdp_duration = pdp.pdp_isolate(model=regr_rffit2,\n",
    "                          dataset=x_test,\n",
    "                          model_features=gc_DF.columns,\n",
    "                          feature='Duration')\n",
    "fig, axes = pdp.pdp_plot(pdp_isolate_out=pdp_duration, feature_name='Duration')"
   ]
  },
  {
   "cell_type": "markdown",
   "metadata": {},
   "source": [
    "## (Optional) Advanced Boosting-Based Algorithms"
   ]
  },
  {
   "cell_type": "markdown",
   "metadata": {},
   "source": [
    "As explained in the video lectures, the next generation of algorithms after Random Forests (that use Bagging, a.k.a. Bootstrap Aggregation) were developed using Boosting, and the first one of these were Gradient Boosted Machines, which are implemented in scikit-learn (http://scikit-learn.org/stable/modules/ensemble.html#gradient-tree-boosting)."
   ]
  },
  {
   "cell_type": "markdown",
   "metadata": {},
   "source": [
    "Still, in recent years, a number of variations on GBMs have been developed by different research amd industry groups, all of them bringing improvements, both in speed, accuracy and functionality to the original Gradient Boosting algorithms.\n",
    "\n",
    "In no order of preference, these are:\n",
    "1. **XGBoost**: https://xgboost.readthedocs.io/en/latest/\n",
    "2. **CatBoost**: https://tech.yandex.com/catboost/\n",
    "3. **LightGBM**: https://lightgbm.readthedocs.io/en/latest/"
   ]
  },
  {
   "cell_type": "markdown",
   "metadata": {},
   "source": [
    "If you're using the Anaconda distribution, these are all very easy to install:"
   ]
  },
  {
   "cell_type": "code",
   "execution_count": null,
   "metadata": {},
   "outputs": [],
   "source": [
    "! conda install -c anaconda py-xgboost"
   ]
  },
  {
   "cell_type": "code",
   "execution_count": null,
   "metadata": {},
   "outputs": [],
   "source": [
    "! conda install -c conda-forge catboost"
   ]
  },
  {
   "cell_type": "code",
   "execution_count": null,
   "metadata": {},
   "outputs": [],
   "source": [
    "! conda install -c conda-forge lightgbm"
   ]
  },
  {
   "cell_type": "markdown",
   "metadata": {},
   "source": [
    "Your task in this optional section of the mini project is to read the documentation of these three libraries, and apply all of them to the \"German Credit\" dataset, just like you did in the case of Decision Trees and Random Forests."
   ]
  },
  {
   "cell_type": "markdown",
   "metadata": {},
   "source": [
    "The final deliverable of this section should be a table (can be a pandas DataFrame) which shows the accuracy of all the five algorthms taught in this mini project in one place."
   ]
  },
  {
   "cell_type": "markdown",
   "metadata": {},
   "source": [
    "Happy modeling! :)"
   ]
  },
  {
   "cell_type": "code",
   "execution_count": null,
   "metadata": {},
   "outputs": [],
   "source": []
  }
 ],
 "metadata": {
  "kernelspec": {
   "display_name": "Python 3",
   "language": "python",
   "name": "python3"
  },
  "language_info": {
   "codemirror_mode": {
    "name": "ipython",
    "version": 3
   },
   "file_extension": ".py",
   "mimetype": "text/x-python",
   "name": "python",
   "nbconvert_exporter": "python",
   "pygments_lexer": "ipython3",
   "version": "3.8.8"
  }
 },
 "nbformat": 4,
 "nbformat_minor": 4
}
